{
 "cells": [
  {
   "cell_type": "code",
   "execution_count": 1,
   "metadata": {},
   "outputs": [],
   "source": [
    "import requests\n",
    "import pandas as pd\n",
    "import json\n",
    "import psycopg2\n",
    "from sqlalchemy import create_engine \n",
    "from dask.diagnostics import ProgressBar\n",
    "import dask.dataframe as dd\n",
    "import dask.array as da\n",
    "import seaborn as sns\n",
    "import matplotlib.pyplot as plt\n",
    "import numpy as np\n",
    "import datetime\n",
    "from nltk.stem import WordNetLemmatizer\n",
    "import re\n",
    "import nltk\n",
    "from sklearn.feature_extraction.text import CountVectorizer, TfidfVectorizer\n",
    "from sklearn.preprocessing import LabelBinarizer\n",
    "from scipy.sparse import vstack, hstack, csr_matrix\n",
    "from sklearn.model_selection import cross_val_score\n",
    "from sklearn.metrics import confusion_matrix\n",
    "from nltk.corpus import stopwords\n",
    "from sklearn.preprocessing import LabelEncoder\n",
    "from sklearn.model_selection import train_test_split\n",
    "from sklearn.neighbors import KNeighborsClassifier\n",
    "\n",
    "from sklearn.ensemble import RandomForestClassifier\n",
    "from sklearn.model_selection import cross_val_score\n",
    "from sklearn.metrics import classification_report, confusion_matrix\n",
    "from sklearn.discriminant_analysis import LinearDiscriminantAnalysis\n",
    "from sklearn.model_selection import KFold\n",
    "from sklearn.model_selection import cross_val_score\n",
    "from sklearn.feature_extraction.text import TfidfVectorizer\n",
    "#stop_words = set(stopwords.words('english'))\n",
    "from sklearn.naive_bayes import MultinomialNB\n",
    "from sklearn.metrics import accuracy_score\n",
    "from sklearn.multiclass import OneVsRestClassifier\n",
    "from sklearn.svm import LinearSVC\n",
    "from sklearn.linear_model import LogisticRegression\n",
    "from sklearn.pipeline import Pipeline\n",
    "from sklearn.preprocessing import StandardScaler\n",
    "import matplotlib as mpl\n",
    "from matplotlib import pyplot as plt\n",
    "%matplotlib inline\n",
    "from sklearn.feature_selection import SelectKBest\n",
    "from sklearn.feature_selection import chi2"
   ]
  },
  {
   "cell_type": "markdown",
   "metadata": {},
   "source": [
    "# OBJECTIVE\n",
    "\n",
    "From the previous analysis we found that \n",
    "\n",
    "1. The dataset contains features that are not necessary to solve our **multi-classification problem**. \n",
    "\n",
    "2. For this **text classification problem**, we are going to build another dataframe that contains ‘Descriptor’ and ‘Compalint Type’\n",
    "\n"
   ]
  },
  {
   "cell_type": "markdown",
   "metadata": {},
   "source": [
    "# PIPELINE\n",
    "\n",
    "1. Text Classifiction problems can be modelled well with Linear SVC, Naive Bayers, Random Forests\n",
    "\n",
    "2. Modelling the Prediction of Compalint based on Descriptor"
   ]
  },
  {
   "cell_type": "code",
   "execution_count": 4,
   "metadata": {},
   "outputs": [],
   "source": [
    "df = dd.read_csv(\"C:\\\\EZOIC_ASSESSMENT\\\\Bronx.csv\",error_bad_lines=False)\n",
    "df = df.compute()"
   ]
  },
  {
   "cell_type": "code",
   "execution_count": 5,
   "metadata": {},
   "outputs": [
    {
     "name": "stderr",
     "output_type": "stream",
     "text": [
      "[nltk_data] Downloading package punkt to\n",
      "[nltk_data]     C:\\Users\\pavani.nrusimhadevar\\AppData\\Roaming\\nltk_dat\n",
      "[nltk_data]     a...\n",
      "[nltk_data]   Package punkt is already up-to-date!\n",
      "[nltk_data] Downloading package stopwords to\n",
      "[nltk_data]     C:\\Users\\pavani.nrusimhadevar\\AppData\\Roaming\\nltk_dat\n",
      "[nltk_data]     a...\n",
      "[nltk_data]   Package stopwords is already up-to-date!\n"
     ]
    }
   ],
   "source": [
    "def remove_digits(x):\n",
    "    x = ''.join([i for i in x if not i.isdigit()])\n",
    "    return x\n",
    "\n",
    "import string\n",
    "def remove_punctuation(sentence: str) -> str:\n",
    "    return sentence.translate(str.maketrans('', '', string.punctuation))\n",
    "\n",
    "import nltk\n",
    "nltk.download('punkt')\n",
    "\n",
    "from nltk.corpus import stopwords\n",
    "nltk.download('stopwords')\n",
    "\n",
    "stop = stopwords.words('english')\n",
    "\n",
    "def remove_stop_words(x):\n",
    "    x = ' '.join([i for i in x.lower().split(' ') if i not in stop])\n",
    "    return x\n",
    "\n",
    "def to_lower(x):\n",
    "    return x.lower()\n",
    "\n",
    "\n",
    "from nltk.stem.porter import PorterStemmer\n",
    "\n",
    "porter = PorterStemmer()"
   ]
  },
  {
   "cell_type": "code",
   "execution_count": 6,
   "metadata": {},
   "outputs": [],
   "source": [
    "df[\"Resolution Description\"]= df[\"Resolution Description\"].astype(str)\n",
    "df[\"Descriptor\"]= df[\"Descriptor\"].astype(str) \n",
    "\n",
    "df['Descriptor'] = df['Descriptor'].apply(to_lower)\n",
    "df[\"Descriptor\"]= df[\"Descriptor\"].astype(str) \n",
    "df['Descriptor'] = df['Descriptor'].apply(remove_stop_words)\n",
    "df['Descriptor'] = df['Descriptor'].apply(remove_digits)\n",
    "df['Descriptor'] = df['Descriptor'].apply(remove_punctuation)\n",
    "df['Descriptor']= df['Descriptor'].apply(porter.stem)\n",
    "df['Resolution Description'] = df['Resolution Description'].apply(to_lower)\n",
    "df['Resolution Description'] = df['Resolution Description'].apply(remove_stop_words)\n",
    "df['Resolution Description'] = df['Resolution Description'].apply(remove_digits)\n",
    "df['Resolution Description'] = df['Resolution Description'].apply(remove_punctuation)\n",
    "df['Resolution Description']= df['Resolution Description'].apply(porter.stem)"
   ]
  },
  {
   "cell_type": "code",
   "execution_count": 7,
   "metadata": {},
   "outputs": [],
   "source": [
    "df['Location Type'] = df['Location Type'].astype(str) \n",
    "df['Location Type'] = df['Location Type'].apply(to_lower)\n",
    "df['Location Type'] = df['Location Type'].apply(remove_punctuation)"
   ]
  },
  {
   "cell_type": "code",
   "execution_count": 8,
   "metadata": {},
   "outputs": [
    {
     "data": {
      "text/html": [
       "<div>\n",
       "<style scoped>\n",
       "    .dataframe tbody tr th:only-of-type {\n",
       "        vertical-align: middle;\n",
       "    }\n",
       "\n",
       "    .dataframe tbody tr th {\n",
       "        vertical-align: top;\n",
       "    }\n",
       "\n",
       "    .dataframe thead th {\n",
       "        text-align: right;\n",
       "    }\n",
       "</style>\n",
       "<table border=\"1\" class=\"dataframe\">\n",
       "  <thead>\n",
       "    <tr style=\"text-align: right;\">\n",
       "      <th></th>\n",
       "      <th>Unique Key</th>\n",
       "      <th>Created Date</th>\n",
       "      <th>Closed Date</th>\n",
       "      <th>Agency</th>\n",
       "      <th>Agency Name</th>\n",
       "      <th>Complaint Type</th>\n",
       "      <th>Descriptor</th>\n",
       "      <th>Location Type</th>\n",
       "      <th>Incident Zip</th>\n",
       "      <th>Incident Address</th>\n",
       "      <th>...</th>\n",
       "      <th>Park Facility Name</th>\n",
       "      <th>Park Borough</th>\n",
       "      <th>Latitude</th>\n",
       "      <th>Longitude</th>\n",
       "      <th>Location</th>\n",
       "      <th>Total_Time</th>\n",
       "      <th>Resolution_Time</th>\n",
       "      <th>Year</th>\n",
       "      <th>Month</th>\n",
       "      <th>DayofWeek</th>\n",
       "    </tr>\n",
       "  </thead>\n",
       "  <tbody>\n",
       "    <tr>\n",
       "      <td>0</td>\n",
       "      <td>27842656</td>\n",
       "      <td>2014-04-14 11:04:00</td>\n",
       "      <td>2015-05-01 14:00:00</td>\n",
       "      <td>DEP</td>\n",
       "      <td>Department of Environmental Protection</td>\n",
       "      <td>Sewer</td>\n",
       "      <td>catch basin sunkendamagedraised sc</td>\n",
       "      <td>nan</td>\n",
       "      <td>10460</td>\n",
       "      <td>880 EAST TREMONT AVENUE</td>\n",
       "      <td>...</td>\n",
       "      <td>Unspecified</td>\n",
       "      <td>BRONX</td>\n",
       "      <td>40.842790</td>\n",
       "      <td>-73.885846</td>\n",
       "      <td>(40.842789784424255, -73.88584568128475)</td>\n",
       "      <td>382.0</td>\n",
       "      <td>382.0</td>\n",
       "      <td>2014</td>\n",
       "      <td>4</td>\n",
       "      <td>0</td>\n",
       "    </tr>\n",
       "    <tr>\n",
       "      <td>1</td>\n",
       "      <td>27842674</td>\n",
       "      <td>2014-04-14 09:32:00</td>\n",
       "      <td>2014-04-15 12:20:00</td>\n",
       "      <td>DEP</td>\n",
       "      <td>Department of Environmental Protection</td>\n",
       "      <td>Water System</td>\n",
       "      <td>hydrant running wc</td>\n",
       "      <td>nan</td>\n",
       "      <td>10467</td>\n",
       "      <td>60 THWAITES PLACE</td>\n",
       "      <td>...</td>\n",
       "      <td>Unspecified</td>\n",
       "      <td>BRONX</td>\n",
       "      <td>40.858885</td>\n",
       "      <td>-73.870400</td>\n",
       "      <td>(40.85888489249614, -73.87039977678938)</td>\n",
       "      <td>1.0</td>\n",
       "      <td>1.0</td>\n",
       "      <td>2014</td>\n",
       "      <td>4</td>\n",
       "      <td>0</td>\n",
       "    </tr>\n",
       "    <tr>\n",
       "      <td>2</td>\n",
       "      <td>27842700</td>\n",
       "      <td>2014-04-14 00:00:00</td>\n",
       "      <td>2014-04-18 00:00:00</td>\n",
       "      <td>DOHMH</td>\n",
       "      <td>Department of Health and Mental Hygiene</td>\n",
       "      <td>Rodent</td>\n",
       "      <td>rat sight</td>\n",
       "      <td>12 family dwelling</td>\n",
       "      <td>10467</td>\n",
       "      <td>3332 HULL AVENUE</td>\n",
       "      <td>...</td>\n",
       "      <td>Unspecified</td>\n",
       "      <td>BRONX</td>\n",
       "      <td>40.877717</td>\n",
       "      <td>-73.873842</td>\n",
       "      <td>(40.87771733636356, -73.87384175204606)</td>\n",
       "      <td>4.0</td>\n",
       "      <td>4.0</td>\n",
       "      <td>2014</td>\n",
       "      <td>4</td>\n",
       "      <td>0</td>\n",
       "    </tr>\n",
       "    <tr>\n",
       "      <td>3</td>\n",
       "      <td>27842709</td>\n",
       "      <td>2014-04-14 00:00:00</td>\n",
       "      <td>2014-04-22 15:40:43</td>\n",
       "      <td>DOHMH</td>\n",
       "      <td>Department of Health and Mental Hygiene</td>\n",
       "      <td>Rodent</td>\n",
       "      <td>rat sight</td>\n",
       "      <td>3 family apt building</td>\n",
       "      <td>10463</td>\n",
       "      <td>3052 KINGSBRIDGE AVENUE</td>\n",
       "      <td>...</td>\n",
       "      <td>Unspecified</td>\n",
       "      <td>BRONX</td>\n",
       "      <td>40.879075</td>\n",
       "      <td>-73.907260</td>\n",
       "      <td>(40.87907471506111, -73.90725980373738)</td>\n",
       "      <td>8.0</td>\n",
       "      <td>8.0</td>\n",
       "      <td>2014</td>\n",
       "      <td>4</td>\n",
       "      <td>0</td>\n",
       "    </tr>\n",
       "    <tr>\n",
       "      <td>4</td>\n",
       "      <td>27842720</td>\n",
       "      <td>2014-04-14 15:51:18</td>\n",
       "      <td>2014-04-14 15:51:18</td>\n",
       "      <td>DOT</td>\n",
       "      <td>Department of Transportation</td>\n",
       "      <td>Street Condition</td>\n",
       "      <td>pothol</td>\n",
       "      <td>nan</td>\n",
       "      <td>10472</td>\n",
       "      <td>NaN</td>\n",
       "      <td>...</td>\n",
       "      <td>Unspecified</td>\n",
       "      <td>BRONX</td>\n",
       "      <td>40.834769</td>\n",
       "      <td>-73.869941</td>\n",
       "      <td>(40.83476936593012, -73.86994082616778)</td>\n",
       "      <td>0.0</td>\n",
       "      <td>0.0</td>\n",
       "      <td>2014</td>\n",
       "      <td>4</td>\n",
       "      <td>0</td>\n",
       "    </tr>\n",
       "  </tbody>\n",
       "</table>\n",
       "<p>5 rows × 34 columns</p>\n",
       "</div>"
      ],
      "text/plain": [
       "   Unique Key         Created Date          Closed Date Agency  \\\n",
       "0    27842656  2014-04-14 11:04:00  2015-05-01 14:00:00    DEP   \n",
       "1    27842674  2014-04-14 09:32:00  2014-04-15 12:20:00    DEP   \n",
       "2    27842700  2014-04-14 00:00:00  2014-04-18 00:00:00  DOHMH   \n",
       "3    27842709  2014-04-14 00:00:00  2014-04-22 15:40:43  DOHMH   \n",
       "4    27842720  2014-04-14 15:51:18  2014-04-14 15:51:18    DOT   \n",
       "\n",
       "                               Agency Name    Complaint Type  \\\n",
       "0   Department of Environmental Protection             Sewer   \n",
       "1   Department of Environmental Protection      Water System   \n",
       "2  Department of Health and Mental Hygiene            Rodent   \n",
       "3  Department of Health and Mental Hygiene            Rodent   \n",
       "4             Department of Transportation  Street Condition   \n",
       "\n",
       "                           Descriptor          Location Type  Incident Zip  \\\n",
       "0  catch basin sunkendamagedraised sc                    nan         10460   \n",
       "1                  hydrant running wc                    nan         10467   \n",
       "2                           rat sight     12 family dwelling         10467   \n",
       "3                           rat sight  3 family apt building         10463   \n",
       "4                              pothol                    nan         10472   \n",
       "\n",
       "          Incident Address  ... Park Facility Name Park Borough   Latitude  \\\n",
       "0  880 EAST TREMONT AVENUE  ...        Unspecified        BRONX  40.842790   \n",
       "1        60 THWAITES PLACE  ...        Unspecified        BRONX  40.858885   \n",
       "2         3332 HULL AVENUE  ...        Unspecified        BRONX  40.877717   \n",
       "3  3052 KINGSBRIDGE AVENUE  ...        Unspecified        BRONX  40.879075   \n",
       "4                      NaN  ...        Unspecified        BRONX  40.834769   \n",
       "\n",
       "   Longitude                                  Location Total_Time  \\\n",
       "0 -73.885846  (40.842789784424255, -73.88584568128475)      382.0   \n",
       "1 -73.870400   (40.85888489249614, -73.87039977678938)        1.0   \n",
       "2 -73.873842   (40.87771733636356, -73.87384175204606)        4.0   \n",
       "3 -73.907260   (40.87907471506111, -73.90725980373738)        8.0   \n",
       "4 -73.869941   (40.83476936593012, -73.86994082616778)        0.0   \n",
       "\n",
       "  Resolution_Time  Year Month  DayofWeek  \n",
       "0           382.0  2014     4          0  \n",
       "1             1.0  2014     4          0  \n",
       "2             4.0  2014     4          0  \n",
       "3             8.0  2014     4          0  \n",
       "4             0.0  2014     4          0  \n",
       "\n",
       "[5 rows x 34 columns]"
      ]
     },
     "execution_count": 8,
     "metadata": {},
     "output_type": "execute_result"
    }
   ],
   "source": [
    "df.head()"
   ]
  },
  {
   "cell_type": "code",
   "execution_count": 9,
   "metadata": {},
   "outputs": [
    {
     "data": {
      "text/html": [
       "<div>\n",
       "<style scoped>\n",
       "    .dataframe tbody tr th:only-of-type {\n",
       "        vertical-align: middle;\n",
       "    }\n",
       "\n",
       "    .dataframe tbody tr th {\n",
       "        vertical-align: top;\n",
       "    }\n",
       "\n",
       "    .dataframe thead th {\n",
       "        text-align: right;\n",
       "    }\n",
       "</style>\n",
       "<table border=\"1\" class=\"dataframe\">\n",
       "  <thead>\n",
       "    <tr style=\"text-align: right;\">\n",
       "      <th></th>\n",
       "      <th>Complaint Type</th>\n",
       "      <th>Descriptor</th>\n",
       "      <th>Resolution Description</th>\n",
       "    </tr>\n",
       "  </thead>\n",
       "  <tbody>\n",
       "    <tr>\n",
       "      <td>0</td>\n",
       "      <td>sewer</td>\n",
       "      <td>catch basin sunkendamagedraised sc</td>\n",
       "      <td>department environmental protection inspected ...</td>\n",
       "    </tr>\n",
       "    <tr>\n",
       "      <td>1</td>\n",
       "      <td>water system</td>\n",
       "      <td>hydrant running wc</td>\n",
       "      <td>department environment protection inspected co...</td>\n",
       "    </tr>\n",
       "    <tr>\n",
       "      <td>2</td>\n",
       "      <td>rodent</td>\n",
       "      <td>rat sight</td>\n",
       "      <td>department health mental hygiene review compla...</td>\n",
       "    </tr>\n",
       "    <tr>\n",
       "      <td>3</td>\n",
       "      <td>rodent</td>\n",
       "      <td>rat sight</td>\n",
       "      <td>department health mental hygiene review compla...</td>\n",
       "    </tr>\n",
       "    <tr>\n",
       "      <td>4</td>\n",
       "      <td>street condition</td>\n",
       "      <td>pothol</td>\n",
       "      <td>department transportation determined complaint...</td>\n",
       "    </tr>\n",
       "  </tbody>\n",
       "</table>\n",
       "</div>"
      ],
      "text/plain": [
       "     Complaint Type                          Descriptor  \\\n",
       "0             sewer  catch basin sunkendamagedraised sc   \n",
       "1      water system                  hydrant running wc   \n",
       "2            rodent                           rat sight   \n",
       "3            rodent                           rat sight   \n",
       "4  street condition                              pothol   \n",
       "\n",
       "                              Resolution Description  \n",
       "0  department environmental protection inspected ...  \n",
       "1  department environment protection inspected co...  \n",
       "2  department health mental hygiene review compla...  \n",
       "3  department health mental hygiene review compla...  \n",
       "4  department transportation determined complaint...  "
      ]
     },
     "execution_count": 9,
     "metadata": {},
     "output_type": "execute_result"
    }
   ],
   "source": [
    "df= df[df['Longitude'].notnull()]\n",
    "df= df[df['Latitude'].notnull()]\n",
    "df= df[df['Location'].notnull()]\n",
    "df['Complaint Type'] = df['Complaint Type'].apply(remove_punctuation)\n",
    "df['Complaint Type'] = df['Complaint Type'].apply(to_lower)\n",
    "df[['Complaint Type','Descriptor','Resolution Description']].head()"
   ]
  },
  {
   "cell_type": "markdown",
   "metadata": {},
   "source": [
    "#### Target Variable Rephrasing"
   ]
  },
  {
   "cell_type": "code",
   "execution_count": 10,
   "metadata": {},
   "outputs": [],
   "source": [
    "df['Complaint Type'] = df['Complaint Type'].replace(df[df['Complaint Type'].str.contains(\"heat\") ][\"Complaint Type\"].unique(),'HeatComplaints')\n",
    "df['Complaint Type'] = df['Complaint Type'].replace(df[df['Complaint Type'].str.contains(\"noise\") ][\"Complaint Type\"].unique(), 'NoiseComplaints')\n",
    "df['Complaint Type'] = df['Complaint Type'].replace(df[df['Complaint Type'].str.contains(\"construction|plumbing\") ][\"Complaint Type\"].unique(),'Construction/PlumbingComplaints')\n",
    "df['Complaint Type'] = df['Complaint Type'].replace(df[df['Complaint Type'].str.contains(\"dof\") ][\"Complaint Type\"].unique(),'DOFComplaints')\n",
    "df['Complaint Type'] = df['Complaint Type'].replace(df[df['Complaint Type'].str.contains(\"parking|blocked driveway|park\") ][\"Complaint Type\"].unique(),'ParkingComplaints')\n",
    "df['Complaint Type'] = df['Complaint Type'].replace(df[df['Complaint Type'].str.contains(\"paint\") ][\"Complaint Type\"].unique(),'Paint/PlasterComplaints')\n",
    "df['Complaint Type'] = df['Complaint Type'].replace(df[df['Complaint Type'].str.contains(\"water\") ][\"Complaint Type\"].unique(),'WaterComplaints')\n",
    "df['Complaint Type'] = df['Complaint Type'].replace(df[df['Complaint Type'].str.contains(\"dirt|sanitation condition\") ][\"Complaint Type\"].unique(),'SanitationComplaints')\n",
    "df['Complaint Type'] = df['Complaint Type'].replace(df[df['Complaint Type'].str.contains(\"highway\") ][\"Complaint Type\"].unique(),'HighwayComplaints')\n",
    "df['Complaint Type'] = df['Complaint Type'].replace(['street light condition', 'street condition',\n",
    "       'street sign  damaged', 'sidewalk condition', 'dead tree',\n",
    "       'street sign  dangling', 'street sign  missing', 'damaged tree',\n",
    "       'new tree request', 'illegal tree damage',\n",
    "       'rootsewersidewalk condition', 'overgrown treebranches',\n",
    "       'request xmas tree collection', 'deaddying tree',\n",
    "       'dep sidewalk condition','graffiti','derelict vehicles',\n",
    "       'for hire vehicle complaint', 'derelict vehicle',\n",
    "       'for hire vehicle report', 'abandoned vehicle',\n",
    "       'city vehicle placard complaint'],'StreetComplaints')\n",
    "\n",
    "df['Complaint Type'] = df['Complaint Type'].replace(df[df['Complaint Type'].str.contains(\"sewer|sewage\") ][\"Complaint Type\"].unique(),'SewerComplaints')\n",
    "df['Complaint Type'] = df['Complaint Type'].replace(df[df['Complaint Type'].str.contains(\"homeless\") ][\"Complaint Type\"].unique(),'HomelessComplaints')\n",
    "df['Complaint Type'] = df['Complaint Type'].replace(['traffic signal condition', 'traffic'],'TrafficComplaints')\n",
    "df['Complaint Type'] = df['Complaint Type'].replace(['taxi complaint', 'taxi report', 'taxi compliment',\n",
    "       'green taxi report', 'dispatched taxi complaint'],'TaxiComplaints')\n",
    "df['Complaint Type'] = df['Complaint Type'].replace(['doorwindow', 'flooringstairs', 'buildinguse', 'outside building',\n",
    "       'vacant apartment', 'building marshals office',\n",
    "       'building condition','elevator'],'BuildingComplaints')\n",
    "pd.set_option('display.max_rows', None)\n",
    "df['Complaint Type'].value_counts()\n",
    "df.loc[~df[\"Complaint Type\"].isin(['NoiseComplaints',\n",
    "'HeatComplaints',                           \n",
    "'StreetComplaints',                         \n",
    "'Construction/PlumbingComplaints',                    \n",
    "'SanitationComplaints',                     \n",
    "'WaterComplaints',                         \n",
    "'BuildingComplaints',                       \n",
    "'Paint/PlasterComplaints',                   \n",
    "'TaxiComplaints',                           \n",
    "'HomelessComplaints',\n",
    "'DOFComplaints',\n",
    "'HighwayComplaints',\n",
    "'ParkingComplaints',\n",
    "'broken muni meter',                        \n",
    "'rodent',                                   \n",
    "'consumer complaint',                      \n",
    "'electric',                                  \n",
    "'general',                                 \n",
    "'SewerComplaints',                          \n",
    "'request large bulky item collection',      \n",
    "'air quality',                                \n",
    "'nonconst',                                 \n",
    "'TrafficComplaints',                         \n",
    "'vending',                                   \n",
    "'food establishment',                       \n",
    "'missed collection all materials' ]), \"Complaint Type\"] = \"Other Complaints\""
   ]
  },
  {
   "cell_type": "code",
   "execution_count": 11,
   "metadata": {},
   "outputs": [
    {
     "data": {
      "text/plain": [
       "NoiseComplaints                        645002\n",
       "HeatComplaints                         598267\n",
       "Construction/PlumbingComplaints        310803\n",
       "StreetComplaints                       310786\n",
       "Other Complaints                       291572\n",
       "ParkingComplaints                      266078\n",
       "Paint/PlasterComplaints                188854\n",
       "WaterComplaints                        183290\n",
       "BuildingComplaints                     175017\n",
       "SanitationComplaints                    82271\n",
       "electric                                72008\n",
       "rodent                                  50696\n",
       "nonconst                                47461\n",
       "general                                 40782\n",
       "SewerComplaints                         36511\n",
       "consumer complaint                      24213\n",
       "TrafficComplaints                       21655\n",
       "missed collection all materials         19081\n",
       "request large bulky item collection     18212\n",
       "broken muni meter                       12395\n",
       "HomelessComplaints                       6170\n",
       "air quality                              6052\n",
       "food establishment                       5875\n",
       "HighwayComplaints                        4976\n",
       "TaxiComplaints                           4259\n",
       "DOFComplaints                             831\n",
       "Name: Complaint Type, dtype: int64"
      ]
     },
     "execution_count": 11,
     "metadata": {},
     "output_type": "execute_result"
    }
   ],
   "source": [
    "df['Complaint Type'] = df['Complaint Type'].replace(['vending'],'StreetComplaints')\n",
    "df['Complaint Type'].value_counts()"
   ]
  },
  {
   "cell_type": "markdown",
   "metadata": {},
   "source": [
    "#### Location Type Rephrasing"
   ]
  },
  {
   "cell_type": "code",
   "execution_count": 12,
   "metadata": {},
   "outputs": [],
   "source": [
    "df['Location Type'] = df['Location Type'].replace(df[df['Location Type'].str.contains(\"residential\") ][\"Location Type\"].unique(),'RESIDENTIAL')\n",
    "df['Location Type'] = df['Location Type'].replace(df[df['Location Type'].str.contains(\"school\") ][\"Location Type\"].unique(),'SCHOOL')\n",
    "df['Location Type'] = df['Location Type'].replace(df[df['Location Type'].str.contains(\"apartment\") ][\"Location Type\"].unique(),'APARTMENT')\n",
    "df['Location Type'] = df['Location Type'].replace(df[df['Location Type'].str.contains(\"comercial|commercial\") ][\"Location Type\"].unique(),'COMMERCIAL')\n",
    "df['Location Type'] = df['Location Type'].replace(['public gardenpark', 'park', 'parkplayground', 'public parkgarden'],'PARK')\n",
    "df['Location Type'] = df['Location Type'].replace(df[df['Location Type'].str.contains(\"restaurant\") ][\"Location Type\"].unique(),'RESTAURANT')\n"
   ]
  },
  {
   "cell_type": "code",
   "execution_count": 13,
   "metadata": {},
   "outputs": [
    {
     "data": {
      "text/plain": [
       "RESIDENTIAL                           2047325\n",
       "nan                                    486178\n",
       "streetsidewalk                         426525\n",
       "street                                 164562\n",
       "sidewalk                               131392\n",
       "COMMERCIAL                              33866\n",
       "3 family apt building                   27671\n",
       "RESTAURANT                              15672\n",
       "12 family dwelling                      13036\n",
       "PARK                                    11105\n",
       "lot                                     11014\n",
       "APARTMENT                                7920\n",
       "mixed use                                6321\n",
       "other explain below                      6196\n",
       "highway                                  5447\n",
       "3 family mixed use building              4206\n",
       "SCHOOL                                   3066\n",
       "curb                                     2149\n",
       "streetcurbside                           1964\n",
       "bus stop shelter                         1936\n",
       "other                                    1816\n",
       "vacant lot                               1546\n",
       "house of worship                         1123\n",
       "drie tenants address                     1056\n",
       "12 family mixed use building              958\n",
       "property address                          827\n",
       "vacant building                           552\n",
       "street and sidewalk                       514\n",
       "hallway                                   500\n",
       "senior center                             436\n",
       "crosswalk                                 434\n",
       "parking lotgarage                         428\n",
       "publicunfenced area                       421\n",
       "home                                      369\n",
       "recreation center                         362\n",
       "bike lane                                 361\n",
       "pool                                      291\n",
       "construction site                         279\n",
       "house and store                           253\n",
       "stairwell                                 239\n",
       "overpass                                  229\n",
       "above address                             219\n",
       "residence                                 188\n",
       "catch basinsewer                          183\n",
       "parking lot                               162\n",
       "vehicle lane                              161\n",
       "bridge                                    146\n",
       "garage                                    130\n",
       "lobby                                     112\n",
       "government building                       108\n",
       "common area                                91\n",
       "single room occupancy sro                  72\n",
       "food cart vendor                           66\n",
       "public garden                              64\n",
       "day carenursery                            58\n",
       "public stairs                              57\n",
       "beach                                      55\n",
       "speed reducer                              51\n",
       "street area                                47\n",
       "13 family dwelling                         47\n",
       "bridgeunderpass                            43\n",
       "pet shop                                   31\n",
       "abandoned building                         31\n",
       "office building                            30\n",
       "other explain in complaint details         29\n",
       "service provider                           29\n",
       "cafeteria  collegeuniversity               25\n",
       "catering service                           24\n",
       "hospital                                   24\n",
       "private house                              23\n",
       "roadway                                    23\n",
       "golf                                       21\n",
       "subway station                             21\n",
       "kennelanimal shelter                       21\n",
       "subway                                     19\n",
       "soup kitchen                               18\n",
       "building                                   13\n",
       "grocery store                              13\n",
       "sauna                                      13\n",
       "taxi                                       12\n",
       "groomer                                     8\n",
       "summer camp                                 7\n",
       "store                                       7\n",
       "tire shop                                   6\n",
       "dentists office                             6\n",
       "spa pool                                    6\n",
       "roadway tunnel                              5\n",
       "steam room                                  5\n",
       "nail salon                                  4\n",
       "horse stable                                4\n",
       "roof                                        4\n",
       "13 family mixed use building                4\n",
       "homeless shelter                            3\n",
       "street fair vendor                          3\n",
       "health club                                 2\n",
       "permanent food stand                        2\n",
       "tanning salon                               2\n",
       "vacant lotproperty                          2\n",
       "street address                              2\n",
       "correctional facility  city                 2\n",
       "veterinarians office                        1\n",
       "retail store                                1\n",
       "petting zooanimal exhibit                   1\n",
       "laboratory                                  1\n",
       "pier                                        1\n",
       "catering hall                               1\n",
       "ground                                      1\n",
       "street vendor                               1\n",
       "Name: Location Type, dtype: int64"
      ]
     },
     "execution_count": 13,
     "metadata": {},
     "output_type": "execute_result"
    }
   ],
   "source": [
    "df['Location Type'].value_counts()"
   ]
  },
  {
   "cell_type": "markdown",
   "metadata": {},
   "source": [
    "#### Status"
   ]
  },
  {
   "cell_type": "code",
   "execution_count": 14,
   "metadata": {},
   "outputs": [],
   "source": [
    "df.loc[((df['Status']!='Closed') & (df['Year'] == 2012) \n",
    "       & (df['Resolution Description'].str.contains(\"investigated|submitted|reviewed|inspected\"))) , \"Status\"] = \"Closed\""
   ]
  },
  {
   "cell_type": "code",
   "execution_count": 15,
   "metadata": {},
   "outputs": [],
   "source": [
    "df.loc[((df['Status']!='Closed' ) \n",
    "       & (df['Descriptor'].str.contains(\"derelict vehicl\") ) \n",
    "       & (df['Resolution Description'].str.contains(\"removed\"))) , \"Status\"] = \"Closed\""
   ]
  },
  {
   "cell_type": "code",
   "execution_count": 16,
   "metadata": {},
   "outputs": [
    {
     "data": {
      "image/png": "[encoded data removed]",
      "text/plain": [
       "<Figure size 864x864 with 9 Axes>"
      ]
     },
     "metadata": {
      "needs_background": "light"
     },
     "output_type": "display_data"
    }
   ],
   "source": [
    "borough_comp = df.groupby(['Year','Status']).size().unstack()\n",
    "\n",
    "col_number = 3\n",
    "row_number = 3\n",
    "fig, axes = plt.subplots(row_number,col_number, figsize=(12,12))\n",
    "\n",
    "for i, (label,col) in enumerate(borough_comp.iteritems()):\n",
    "    ax = axes[int(i/col_number), i%col_number]\n",
    "    col = col.sort_values(ascending=True)[:15]\n",
    "    col.plot(kind='barh', ax=ax)\n",
    "    ax.set_title(label)\n",
    "    \n",
    "plt.tight_layout()"
   ]
  },
  {
   "cell_type": "code",
   "execution_count": 17,
   "metadata": {},
   "outputs": [],
   "source": [
    "df = df[df['Location Type']!='nan']\n",
    "df = df[df['Resolution Description']!='nan']"
   ]
  },
  {
   "cell_type": "code",
   "execution_count": 18,
   "metadata": {},
   "outputs": [
    {
     "data": {
      "text/html": [
       "<div>\n",
       "<style scoped>\n",
       "    .dataframe tbody tr th:only-of-type {\n",
       "        vertical-align: middle;\n",
       "    }\n",
       "\n",
       "    .dataframe tbody tr th {\n",
       "        vertical-align: top;\n",
       "    }\n",
       "\n",
       "    .dataframe thead th {\n",
       "        text-align: right;\n",
       "    }\n",
       "</style>\n",
       "<table border=\"1\" class=\"dataframe\">\n",
       "  <thead>\n",
       "    <tr style=\"text-align: right;\">\n",
       "      <th></th>\n",
       "      <th>2</th>\n",
       "      <th>3</th>\n",
       "    </tr>\n",
       "  </thead>\n",
       "  <tbody>\n",
       "    <tr>\n",
       "      <td>Unique Key</td>\n",
       "      <td>27842700</td>\n",
       "      <td>27842709</td>\n",
       "    </tr>\n",
       "    <tr>\n",
       "      <td>Created Date</td>\n",
       "      <td>2014-04-14 00:00:00</td>\n",
       "      <td>2014-04-14 00:00:00</td>\n",
       "    </tr>\n",
       "    <tr>\n",
       "      <td>Closed Date</td>\n",
       "      <td>2014-04-18 00:00:00</td>\n",
       "      <td>2014-04-22 15:40:43</td>\n",
       "    </tr>\n",
       "    <tr>\n",
       "      <td>Agency</td>\n",
       "      <td>DOHMH</td>\n",
       "      <td>DOHMH</td>\n",
       "    </tr>\n",
       "    <tr>\n",
       "      <td>Agency Name</td>\n",
       "      <td>Department of Health and Mental Hygiene</td>\n",
       "      <td>Department of Health and Mental Hygiene</td>\n",
       "    </tr>\n",
       "    <tr>\n",
       "      <td>Complaint Type</td>\n",
       "      <td>rodent</td>\n",
       "      <td>rodent</td>\n",
       "    </tr>\n",
       "    <tr>\n",
       "      <td>Descriptor</td>\n",
       "      <td>rat sight</td>\n",
       "      <td>rat sight</td>\n",
       "    </tr>\n",
       "    <tr>\n",
       "      <td>Location Type</td>\n",
       "      <td>12 family dwelling</td>\n",
       "      <td>3 family apt building</td>\n",
       "    </tr>\n",
       "    <tr>\n",
       "      <td>Incident Zip</td>\n",
       "      <td>10467</td>\n",
       "      <td>10463</td>\n",
       "    </tr>\n",
       "    <tr>\n",
       "      <td>Incident Address</td>\n",
       "      <td>3332 HULL AVENUE</td>\n",
       "      <td>3052 KINGSBRIDGE AVENUE</td>\n",
       "    </tr>\n",
       "    <tr>\n",
       "      <td>Street Name</td>\n",
       "      <td>HULL AVENUE</td>\n",
       "      <td>KINGSBRIDGE AVENUE</td>\n",
       "    </tr>\n",
       "    <tr>\n",
       "      <td>Cross Street 1</td>\n",
       "      <td>EAST 209 STREET</td>\n",
       "      <td>MARBLE HILL AVENUE</td>\n",
       "    </tr>\n",
       "    <tr>\n",
       "      <td>Cross Street 2</td>\n",
       "      <td>EAST GUN HILL ROAD</td>\n",
       "      <td>WEST 231 STREET</td>\n",
       "    </tr>\n",
       "    <tr>\n",
       "      <td>Address Type</td>\n",
       "      <td>ADDRESS</td>\n",
       "      <td>ADDRESS</td>\n",
       "    </tr>\n",
       "    <tr>\n",
       "      <td>City</td>\n",
       "      <td>Bronx</td>\n",
       "      <td>Bronx</td>\n",
       "    </tr>\n",
       "    <tr>\n",
       "      <td>Status</td>\n",
       "      <td>Closed</td>\n",
       "      <td>Closed</td>\n",
       "    </tr>\n",
       "    <tr>\n",
       "      <td>Resolution Description</td>\n",
       "      <td>department health mental hygiene review compla...</td>\n",
       "      <td>department health mental hygiene review compla...</td>\n",
       "    </tr>\n",
       "    <tr>\n",
       "      <td>Resolution Action Updated Date</td>\n",
       "      <td>2014-04-18 00:00:00</td>\n",
       "      <td>2014-04-22 15:40:43</td>\n",
       "    </tr>\n",
       "    <tr>\n",
       "      <td>Community Board</td>\n",
       "      <td>07 BRONX</td>\n",
       "      <td>08 BRONX</td>\n",
       "    </tr>\n",
       "    <tr>\n",
       "      <td>BBL</td>\n",
       "      <td>2.03352e+09</td>\n",
       "      <td>2.05703e+09</td>\n",
       "    </tr>\n",
       "    <tr>\n",
       "      <td>Borough</td>\n",
       "      <td>BRONX</td>\n",
       "      <td>BRONX</td>\n",
       "    </tr>\n",
       "    <tr>\n",
       "      <td>X Coordinate (State Plane)</td>\n",
       "      <td>1.01914e+06</td>\n",
       "      <td>1.0099e+06</td>\n",
       "    </tr>\n",
       "    <tr>\n",
       "      <td>Y Coordinate (State Plane)</td>\n",
       "      <td>259079</td>\n",
       "      <td>259562</td>\n",
       "    </tr>\n",
       "    <tr>\n",
       "      <td>Open Data Channel Type</td>\n",
       "      <td>PHONE</td>\n",
       "      <td>PHONE</td>\n",
       "    </tr>\n",
       "    <tr>\n",
       "      <td>Park Facility Name</td>\n",
       "      <td>Unspecified</td>\n",
       "      <td>Unspecified</td>\n",
       "    </tr>\n",
       "    <tr>\n",
       "      <td>Park Borough</td>\n",
       "      <td>BRONX</td>\n",
       "      <td>BRONX</td>\n",
       "    </tr>\n",
       "    <tr>\n",
       "      <td>Latitude</td>\n",
       "      <td>40.8777</td>\n",
       "      <td>40.8791</td>\n",
       "    </tr>\n",
       "    <tr>\n",
       "      <td>Longitude</td>\n",
       "      <td>-73.8738</td>\n",
       "      <td>-73.9073</td>\n",
       "    </tr>\n",
       "    <tr>\n",
       "      <td>Location</td>\n",
       "      <td>(40.87771733636356, -73.87384175204606)</td>\n",
       "      <td>(40.87907471506111, -73.90725980373738)</td>\n",
       "    </tr>\n",
       "    <tr>\n",
       "      <td>Total_Time</td>\n",
       "      <td>4</td>\n",
       "      <td>8</td>\n",
       "    </tr>\n",
       "    <tr>\n",
       "      <td>Resolution_Time</td>\n",
       "      <td>4</td>\n",
       "      <td>8</td>\n",
       "    </tr>\n",
       "    <tr>\n",
       "      <td>Year</td>\n",
       "      <td>2014</td>\n",
       "      <td>2014</td>\n",
       "    </tr>\n",
       "    <tr>\n",
       "      <td>Month</td>\n",
       "      <td>4</td>\n",
       "      <td>4</td>\n",
       "    </tr>\n",
       "    <tr>\n",
       "      <td>DayofWeek</td>\n",
       "      <td>0</td>\n",
       "      <td>0</td>\n",
       "    </tr>\n",
       "  </tbody>\n",
       "</table>\n",
       "</div>"
      ],
      "text/plain": [
       "                                                                                2  \\\n",
       "Unique Key                                                               27842700   \n",
       "Created Date                                                  2014-04-14 00:00:00   \n",
       "Closed Date                                                   2014-04-18 00:00:00   \n",
       "Agency                                                                      DOHMH   \n",
       "Agency Name                               Department of Health and Mental Hygiene   \n",
       "Complaint Type                                                             rodent   \n",
       "Descriptor                                                              rat sight   \n",
       "Location Type                                                  12 family dwelling   \n",
       "Incident Zip                                                                10467   \n",
       "Incident Address                                                 3332 HULL AVENUE   \n",
       "Street Name                                                           HULL AVENUE   \n",
       "Cross Street 1                                                    EAST 209 STREET   \n",
       "Cross Street 2                                                 EAST GUN HILL ROAD   \n",
       "Address Type                                                              ADDRESS   \n",
       "City                                                                        Bronx   \n",
       "Status                                                                     Closed   \n",
       "Resolution Description          department health mental hygiene review compla...   \n",
       "Resolution Action Updated Date                                2014-04-18 00:00:00   \n",
       "Community Board                                                          07 BRONX   \n",
       "BBL                                                                   2.03352e+09   \n",
       "Borough                                                                     BRONX   \n",
       "X Coordinate (State Plane)                                            1.01914e+06   \n",
       "Y Coordinate (State Plane)                                                 259079   \n",
       "Open Data Channel Type                                                      PHONE   \n",
       "Park Facility Name                                                    Unspecified   \n",
       "Park Borough                                                                BRONX   \n",
       "Latitude                                                                  40.8777   \n",
       "Longitude                                                                -73.8738   \n",
       "Location                                  (40.87771733636356, -73.87384175204606)   \n",
       "Total_Time                                                                      4   \n",
       "Resolution_Time                                                                 4   \n",
       "Year                                                                         2014   \n",
       "Month                                                                           4   \n",
       "DayofWeek                                                                       0   \n",
       "\n",
       "                                                                                3  \n",
       "Unique Key                                                               27842709  \n",
       "Created Date                                                  2014-04-14 00:00:00  \n",
       "Closed Date                                                   2014-04-22 15:40:43  \n",
       "Agency                                                                      DOHMH  \n",
       "Agency Name                               Department of Health and Mental Hygiene  \n",
       "Complaint Type                                                             rodent  \n",
       "Descriptor                                                              rat sight  \n",
       "Location Type                                               3 family apt building  \n",
       "Incident Zip                                                                10463  \n",
       "Incident Address                                          3052 KINGSBRIDGE AVENUE  \n",
       "Street Name                                                    KINGSBRIDGE AVENUE  \n",
       "Cross Street 1                                                 MARBLE HILL AVENUE  \n",
       "Cross Street 2                                                    WEST 231 STREET  \n",
       "Address Type                                                              ADDRESS  \n",
       "City                                                                        Bronx  \n",
       "Status                                                                     Closed  \n",
       "Resolution Description          department health mental hygiene review compla...  \n",
       "Resolution Action Updated Date                                2014-04-22 15:40:43  \n",
       "Community Board                                                          08 BRONX  \n",
       "BBL                                                                   2.05703e+09  \n",
       "Borough                                                                     BRONX  \n",
       "X Coordinate (State Plane)                                             1.0099e+06  \n",
       "Y Coordinate (State Plane)                                                 259562  \n",
       "Open Data Channel Type                                                      PHONE  \n",
       "Park Facility Name                                                    Unspecified  \n",
       "Park Borough                                                                BRONX  \n",
       "Latitude                                                                  40.8791  \n",
       "Longitude                                                                -73.9073  \n",
       "Location                                  (40.87907471506111, -73.90725980373738)  \n",
       "Total_Time                                                                      8  \n",
       "Resolution_Time                                                                 8  \n",
       "Year                                                                         2014  \n",
       "Month                                                                           4  \n",
       "DayofWeek                                                                       0  "
      ]
     },
     "execution_count": 18,
     "metadata": {},
     "output_type": "execute_result"
    }
   ],
   "source": [
    "df.head(2).T"
   ]
  },
  {
   "cell_type": "code",
   "execution_count": 19,
   "metadata": {},
   "outputs": [],
   "source": [
    "df1 = df[['Agency','Location Type','Complaint Type','Descriptor','Resolution_Time','Total_Time','Year','Month','DayofWeek','Status','Resolution Description']]"
   ]
  },
  {
   "cell_type": "code",
   "execution_count": 20,
   "metadata": {},
   "outputs": [
    {
     "data": {
      "text/plain": [
       "(2913822, 11)"
      ]
     },
     "execution_count": 20,
     "metadata": {},
     "output_type": "execute_result"
    }
   ],
   "source": [
    "df1.shape"
   ]
  },
  {
   "cell_type": "code",
   "execution_count": 21,
   "metadata": {},
   "outputs": [],
   "source": [
    "#df_model = df1.head(60000)"
   ]
  },
  {
   "cell_type": "code",
   "execution_count": 22,
   "metadata": {},
   "outputs": [],
   "source": [
    "df_model = df1"
   ]
  },
  {
   "cell_type": "code",
   "execution_count": 23,
   "metadata": {},
   "outputs": [
    {
     "data": {
      "text/html": [
       "<div>\n",
       "<style scoped>\n",
       "    .dataframe tbody tr th:only-of-type {\n",
       "        vertical-align: middle;\n",
       "    }\n",
       "\n",
       "    .dataframe tbody tr th {\n",
       "        vertical-align: top;\n",
       "    }\n",
       "\n",
       "    .dataframe thead th {\n",
       "        text-align: right;\n",
       "    }\n",
       "</style>\n",
       "<table border=\"1\" class=\"dataframe\">\n",
       "  <thead>\n",
       "    <tr style=\"text-align: right;\">\n",
       "      <th></th>\n",
       "      <th>Agency</th>\n",
       "      <th>Location Type</th>\n",
       "      <th>Complaint Type</th>\n",
       "      <th>Descriptor</th>\n",
       "      <th>Resolution_Time</th>\n",
       "      <th>Total_Time</th>\n",
       "      <th>Year</th>\n",
       "      <th>Month</th>\n",
       "      <th>DayofWeek</th>\n",
       "      <th>Status</th>\n",
       "      <th>Resolution Description</th>\n",
       "    </tr>\n",
       "  </thead>\n",
       "  <tbody>\n",
       "    <tr>\n",
       "      <td>2</td>\n",
       "      <td>DOHMH</td>\n",
       "      <td>12 family dwelling</td>\n",
       "      <td>rodent</td>\n",
       "      <td>rat sight</td>\n",
       "      <td>4.0</td>\n",
       "      <td>4.0</td>\n",
       "      <td>2014</td>\n",
       "      <td>4</td>\n",
       "      <td>0</td>\n",
       "      <td>Closed</td>\n",
       "      <td>department health mental hygiene review compla...</td>\n",
       "    </tr>\n",
       "    <tr>\n",
       "      <td>3</td>\n",
       "      <td>DOHMH</td>\n",
       "      <td>3 family apt building</td>\n",
       "      <td>rodent</td>\n",
       "      <td>rat sight</td>\n",
       "      <td>8.0</td>\n",
       "      <td>8.0</td>\n",
       "      <td>2014</td>\n",
       "      <td>4</td>\n",
       "      <td>0</td>\n",
       "      <td>Closed</td>\n",
       "      <td>department health mental hygiene review compla...</td>\n",
       "    </tr>\n",
       "    <tr>\n",
       "      <td>8</td>\n",
       "      <td>DSNY</td>\n",
       "      <td>street</td>\n",
       "      <td>StreetComplaints</td>\n",
       "      <td>derelict vehicl</td>\n",
       "      <td>0.0</td>\n",
       "      <td>0.0</td>\n",
       "      <td>2014</td>\n",
       "      <td>4</td>\n",
       "      <td>0</td>\n",
       "      <td>Closed</td>\n",
       "      <td>department sanitation removed item</td>\n",
       "    </tr>\n",
       "    <tr>\n",
       "      <td>9</td>\n",
       "      <td>DSNY</td>\n",
       "      <td>sidewalk</td>\n",
       "      <td>SanitationComplaints</td>\n",
       "      <td>dead anim</td>\n",
       "      <td>0.0</td>\n",
       "      <td>0.0</td>\n",
       "      <td>2014</td>\n",
       "      <td>4</td>\n",
       "      <td>0</td>\n",
       "      <td>Closed</td>\n",
       "      <td>department sanitation investigated complaint f...</td>\n",
       "    </tr>\n",
       "    <tr>\n",
       "      <td>10</td>\n",
       "      <td>HPD</td>\n",
       "      <td>RESIDENTIAL</td>\n",
       "      <td>Other Complaints</td>\n",
       "      <td>refriger</td>\n",
       "      <td>8.0</td>\n",
       "      <td>8.0</td>\n",
       "      <td>2014</td>\n",
       "      <td>4</td>\n",
       "      <td>0</td>\n",
       "      <td>Closed</td>\n",
       "      <td>department housing preservation development in...</td>\n",
       "    </tr>\n",
       "  </tbody>\n",
       "</table>\n",
       "</div>"
      ],
      "text/plain": [
       "   Agency          Location Type        Complaint Type        Descriptor  \\\n",
       "2   DOHMH     12 family dwelling                rodent         rat sight   \n",
       "3   DOHMH  3 family apt building                rodent         rat sight   \n",
       "8    DSNY                 street      StreetComplaints   derelict vehicl   \n",
       "9    DSNY               sidewalk  SanitationComplaints         dead anim   \n",
       "10    HPD            RESIDENTIAL      Other Complaints          refriger   \n",
       "\n",
       "    Resolution_Time  Total_Time  Year  Month  DayofWeek  Status  \\\n",
       "2               4.0         4.0  2014      4          0  Closed   \n",
       "3               8.0         8.0  2014      4          0  Closed   \n",
       "8               0.0         0.0  2014      4          0  Closed   \n",
       "9               0.0         0.0  2014      4          0  Closed   \n",
       "10              8.0         8.0  2014      4          0  Closed   \n",
       "\n",
       "                               Resolution Description  \n",
       "2   department health mental hygiene review compla...  \n",
       "3   department health mental hygiene review compla...  \n",
       "8                  department sanitation removed item  \n",
       "9   department sanitation investigated complaint f...  \n",
       "10  department housing preservation development in...  "
      ]
     },
     "execution_count": 23,
     "metadata": {},
     "output_type": "execute_result"
    }
   ],
   "source": [
    "df_model.head()"
   ]
  },
  {
   "cell_type": "markdown",
   "metadata": {},
   "source": [
    "### Create a new column 'complaint_id' with encoded Complaint Types"
   ]
  },
  {
   "cell_type": "code",
   "execution_count": 24,
   "metadata": {},
   "outputs": [
    {
     "name": "stderr",
     "output_type": "stream",
     "text": [
      "C:\\Anaconda\\lib\\site-packages\\ipykernel_launcher.py:1: SettingWithCopyWarning: \n",
      "A value is trying to be set on a copy of a slice from a DataFrame.\n",
      "Try using .loc[row_indexer,col_indexer] = value instead\n",
      "\n",
      "See the caveats in the documentation: http://pandas.pydata.org/pandas-docs/stable/user_guide/indexing.html#returning-a-view-versus-a-copy\n",
      "  \"\"\"Entry point for launching an IPython kernel.\n"
     ]
    },
    {
     "data": {
      "text/html": [
       "<div>\n",
       "<style scoped>\n",
       "    .dataframe tbody tr th:only-of-type {\n",
       "        vertical-align: middle;\n",
       "    }\n",
       "\n",
       "    .dataframe tbody tr th {\n",
       "        vertical-align: top;\n",
       "    }\n",
       "\n",
       "    .dataframe thead th {\n",
       "        text-align: right;\n",
       "    }\n",
       "</style>\n",
       "<table border=\"1\" class=\"dataframe\">\n",
       "  <thead>\n",
       "    <tr style=\"text-align: right;\">\n",
       "      <th></th>\n",
       "      <th>Agency</th>\n",
       "      <th>Location Type</th>\n",
       "      <th>Complaint Type</th>\n",
       "      <th>Descriptor</th>\n",
       "      <th>Resolution_Time</th>\n",
       "      <th>Total_Time</th>\n",
       "      <th>Year</th>\n",
       "      <th>Month</th>\n",
       "      <th>DayofWeek</th>\n",
       "      <th>Status</th>\n",
       "      <th>Resolution Description</th>\n",
       "      <th>complaint_id</th>\n",
       "    </tr>\n",
       "  </thead>\n",
       "  <tbody>\n",
       "    <tr>\n",
       "      <td>2</td>\n",
       "      <td>DOHMH</td>\n",
       "      <td>12 family dwelling</td>\n",
       "      <td>rodent</td>\n",
       "      <td>rat sight</td>\n",
       "      <td>4.0</td>\n",
       "      <td>4.0</td>\n",
       "      <td>2014</td>\n",
       "      <td>4</td>\n",
       "      <td>0</td>\n",
       "      <td>Closed</td>\n",
       "      <td>department health mental hygiene review compla...</td>\n",
       "      <td>0</td>\n",
       "    </tr>\n",
       "    <tr>\n",
       "      <td>3</td>\n",
       "      <td>DOHMH</td>\n",
       "      <td>3 family apt building</td>\n",
       "      <td>rodent</td>\n",
       "      <td>rat sight</td>\n",
       "      <td>8.0</td>\n",
       "      <td>8.0</td>\n",
       "      <td>2014</td>\n",
       "      <td>4</td>\n",
       "      <td>0</td>\n",
       "      <td>Closed</td>\n",
       "      <td>department health mental hygiene review compla...</td>\n",
       "      <td>0</td>\n",
       "    </tr>\n",
       "    <tr>\n",
       "      <td>8</td>\n",
       "      <td>DSNY</td>\n",
       "      <td>street</td>\n",
       "      <td>StreetComplaints</td>\n",
       "      <td>derelict vehicl</td>\n",
       "      <td>0.0</td>\n",
       "      <td>0.0</td>\n",
       "      <td>2014</td>\n",
       "      <td>4</td>\n",
       "      <td>0</td>\n",
       "      <td>Closed</td>\n",
       "      <td>department sanitation removed item</td>\n",
       "      <td>1</td>\n",
       "    </tr>\n",
       "    <tr>\n",
       "      <td>9</td>\n",
       "      <td>DSNY</td>\n",
       "      <td>sidewalk</td>\n",
       "      <td>SanitationComplaints</td>\n",
       "      <td>dead anim</td>\n",
       "      <td>0.0</td>\n",
       "      <td>0.0</td>\n",
       "      <td>2014</td>\n",
       "      <td>4</td>\n",
       "      <td>0</td>\n",
       "      <td>Closed</td>\n",
       "      <td>department sanitation investigated complaint f...</td>\n",
       "      <td>2</td>\n",
       "    </tr>\n",
       "    <tr>\n",
       "      <td>10</td>\n",
       "      <td>HPD</td>\n",
       "      <td>RESIDENTIAL</td>\n",
       "      <td>Other Complaints</td>\n",
       "      <td>refriger</td>\n",
       "      <td>8.0</td>\n",
       "      <td>8.0</td>\n",
       "      <td>2014</td>\n",
       "      <td>4</td>\n",
       "      <td>0</td>\n",
       "      <td>Closed</td>\n",
       "      <td>department housing preservation development in...</td>\n",
       "      <td>3</td>\n",
       "    </tr>\n",
       "  </tbody>\n",
       "</table>\n",
       "</div>"
      ],
      "text/plain": [
       "   Agency          Location Type        Complaint Type        Descriptor  \\\n",
       "2   DOHMH     12 family dwelling                rodent         rat sight   \n",
       "3   DOHMH  3 family apt building                rodent         rat sight   \n",
       "8    DSNY                 street      StreetComplaints   derelict vehicl   \n",
       "9    DSNY               sidewalk  SanitationComplaints         dead anim   \n",
       "10    HPD            RESIDENTIAL      Other Complaints          refriger   \n",
       "\n",
       "    Resolution_Time  Total_Time  Year  Month  DayofWeek  Status  \\\n",
       "2               4.0         4.0  2014      4          0  Closed   \n",
       "3               8.0         8.0  2014      4          0  Closed   \n",
       "8               0.0         0.0  2014      4          0  Closed   \n",
       "9               0.0         0.0  2014      4          0  Closed   \n",
       "10              8.0         8.0  2014      4          0  Closed   \n",
       "\n",
       "                               Resolution Description  complaint_id  \n",
       "2   department health mental hygiene review compla...             0  \n",
       "3   department health mental hygiene review compla...             0  \n",
       "8                  department sanitation removed item             1  \n",
       "9   department sanitation investigated complaint f...             2  \n",
       "10  department housing preservation development in...             3  "
      ]
     },
     "execution_count": 24,
     "metadata": {},
     "output_type": "execute_result"
    }
   ],
   "source": [
    "df_model['complaint_id'] = df_model['Complaint Type'].factorize()[0]\n",
    "complaint_id_df = df_model[['Complaint Type', 'complaint_id']].drop_duplicates()\n",
    "\n",
    "\n",
    "# Dictionaries for future use\n",
    "category_to_id = dict(complaint_id_df.values)\n",
    "id_to_category = dict(complaint_id_df[['complaint_id', 'Complaint Type']].values)\n",
    "\n",
    "# New dataframe\n",
    "df_model.head()"
   ]
  },
  {
   "cell_type": "markdown",
   "metadata": {},
   "source": [
    "### Text Preprocessing"
   ]
  },
  {
   "cell_type": "code",
   "execution_count": 25,
   "metadata": {},
   "outputs": [],
   "source": [
    "tfidf = TfidfVectorizer(sublinear_tf=True, min_df=5,\n",
    "                        ngram_range=(1, 2), \n",
    "                        stop_words='english')"
   ]
  },
  {
   "cell_type": "code",
   "execution_count": 26,
   "metadata": {},
   "outputs": [
    {
     "data": {
      "text/html": [
       "<div>\n",
       "<style scoped>\n",
       "    .dataframe tbody tr th:only-of-type {\n",
       "        vertical-align: middle;\n",
       "    }\n",
       "\n",
       "    .dataframe tbody tr th {\n",
       "        vertical-align: top;\n",
       "    }\n",
       "\n",
       "    .dataframe thead th {\n",
       "        text-align: right;\n",
       "    }\n",
       "</style>\n",
       "<table border=\"1\" class=\"dataframe\">\n",
       "  <thead>\n",
       "    <tr style=\"text-align: right;\">\n",
       "      <th></th>\n",
       "      <th>Agency</th>\n",
       "      <th>Location Type</th>\n",
       "      <th>Complaint Type</th>\n",
       "      <th>Descriptor</th>\n",
       "      <th>Resolution_Time</th>\n",
       "      <th>Total_Time</th>\n",
       "      <th>Year</th>\n",
       "      <th>Month</th>\n",
       "      <th>DayofWeek</th>\n",
       "      <th>Status</th>\n",
       "      <th>Resolution Description</th>\n",
       "      <th>complaint_id</th>\n",
       "    </tr>\n",
       "  </thead>\n",
       "  <tbody>\n",
       "    <tr>\n",
       "      <td>2</td>\n",
       "      <td>DOHMH</td>\n",
       "      <td>12 family dwelling</td>\n",
       "      <td>rodent</td>\n",
       "      <td>rat sight</td>\n",
       "      <td>4.0</td>\n",
       "      <td>4.0</td>\n",
       "      <td>2014</td>\n",
       "      <td>4</td>\n",
       "      <td>0</td>\n",
       "      <td>Closed</td>\n",
       "      <td>department health mental hygiene review compla...</td>\n",
       "      <td>0</td>\n",
       "    </tr>\n",
       "    <tr>\n",
       "      <td>3</td>\n",
       "      <td>DOHMH</td>\n",
       "      <td>3 family apt building</td>\n",
       "      <td>rodent</td>\n",
       "      <td>rat sight</td>\n",
       "      <td>8.0</td>\n",
       "      <td>8.0</td>\n",
       "      <td>2014</td>\n",
       "      <td>4</td>\n",
       "      <td>0</td>\n",
       "      <td>Closed</td>\n",
       "      <td>department health mental hygiene review compla...</td>\n",
       "      <td>0</td>\n",
       "    </tr>\n",
       "    <tr>\n",
       "      <td>8</td>\n",
       "      <td>DSNY</td>\n",
       "      <td>street</td>\n",
       "      <td>StreetComplaints</td>\n",
       "      <td>derelict vehicl</td>\n",
       "      <td>0.0</td>\n",
       "      <td>0.0</td>\n",
       "      <td>2014</td>\n",
       "      <td>4</td>\n",
       "      <td>0</td>\n",
       "      <td>Closed</td>\n",
       "      <td>department sanitation removed item</td>\n",
       "      <td>1</td>\n",
       "    </tr>\n",
       "    <tr>\n",
       "      <td>9</td>\n",
       "      <td>DSNY</td>\n",
       "      <td>sidewalk</td>\n",
       "      <td>SanitationComplaints</td>\n",
       "      <td>dead anim</td>\n",
       "      <td>0.0</td>\n",
       "      <td>0.0</td>\n",
       "      <td>2014</td>\n",
       "      <td>4</td>\n",
       "      <td>0</td>\n",
       "      <td>Closed</td>\n",
       "      <td>department sanitation investigated complaint f...</td>\n",
       "      <td>2</td>\n",
       "    </tr>\n",
       "    <tr>\n",
       "      <td>10</td>\n",
       "      <td>HPD</td>\n",
       "      <td>RESIDENTIAL</td>\n",
       "      <td>Other Complaints</td>\n",
       "      <td>refriger</td>\n",
       "      <td>8.0</td>\n",
       "      <td>8.0</td>\n",
       "      <td>2014</td>\n",
       "      <td>4</td>\n",
       "      <td>0</td>\n",
       "      <td>Closed</td>\n",
       "      <td>department housing preservation development in...</td>\n",
       "      <td>3</td>\n",
       "    </tr>\n",
       "  </tbody>\n",
       "</table>\n",
       "</div>"
      ],
      "text/plain": [
       "   Agency          Location Type        Complaint Type        Descriptor  \\\n",
       "2   DOHMH     12 family dwelling                rodent         rat sight   \n",
       "3   DOHMH  3 family apt building                rodent         rat sight   \n",
       "8    DSNY                 street      StreetComplaints   derelict vehicl   \n",
       "9    DSNY               sidewalk  SanitationComplaints         dead anim   \n",
       "10    HPD            RESIDENTIAL      Other Complaints          refriger   \n",
       "\n",
       "    Resolution_Time  Total_Time  Year  Month  DayofWeek  Status  \\\n",
       "2               4.0         4.0  2014      4          0  Closed   \n",
       "3               8.0         8.0  2014      4          0  Closed   \n",
       "8               0.0         0.0  2014      4          0  Closed   \n",
       "9               0.0         0.0  2014      4          0  Closed   \n",
       "10              8.0         8.0  2014      4          0  Closed   \n",
       "\n",
       "                               Resolution Description  complaint_id  \n",
       "2   department health mental hygiene review compla...             0  \n",
       "3   department health mental hygiene review compla...             0  \n",
       "8                  department sanitation removed item             1  \n",
       "9   department sanitation investigated complaint f...             2  \n",
       "10  department housing preservation development in...             3  "
      ]
     },
     "execution_count": 26,
     "metadata": {},
     "output_type": "execute_result"
    }
   ],
   "source": [
    "df_model.head()"
   ]
  },
  {
   "cell_type": "markdown",
   "metadata": {},
   "source": [
    "**TF/IDF**\n",
    "\n",
    "1. TERM FREQUENCY (TF)  = Number of times term appears in doc / Total number of words in doc\n",
    "\n",
    "2. IDF = ln(no of docs / no of docs term appears in)\n",
    "\n",
    "3. TF-IDF gives **word frequency** scores\n",
    "\n",
    "4. ngrams(1,2) --> gives UNIGRAMS AND BIGRAMS\n",
    "\n",
    "5. min_df: **remove the words** from the vocabulary which have occurred in less than ‘min_df’ number of files"
   ]
  },
  {
   "cell_type": "markdown",
   "metadata": {},
   "source": [
    "As we knew descriptor is one of the important feature"
   ]
  },
  {
   "cell_type": "markdown",
   "metadata": {},
   "source": [
    "### TFIDF on \"Descriptor\""
   ]
  },
  {
   "cell_type": "code",
   "execution_count": 27,
   "metadata": {},
   "outputs": [
    {
     "name": "stdout",
     "output_type": "stream",
     "text": [
      "Each of the 2913822 complaints is represented by 1111 features (TF-IDF score of unigrams and bigrams)\n"
     ]
    }
   ],
   "source": [
    "tfidf = TfidfVectorizer(sublinear_tf=True, min_df=5,\n",
    "                        ngram_range=(1, 2), \n",
    "                        stop_words='english')\n",
    "\n",
    "# We transform each complaint into a vector\n",
    "features = tfidf.fit_transform(df_model['Descriptor']).toarray()\n",
    "\n",
    "labels = df_model.complaint_id\n",
    "\n",
    "print(\"Each of the %d complaints is represented by %d features (TF-IDF score of unigrams and bigrams)\" %(features.shape))"
   ]
  },
  {
   "cell_type": "markdown",
   "metadata": {},
   "source": [
    "#### Trying to Find most correlated terms of descriptor for each complaint type"
   ]
  },
  {
   "cell_type": "code",
   "execution_count": 28,
   "metadata": {},
   "outputs": [
    {
     "name": "stdout",
     "output_type": "stream",
     "text": [
      "\n",
      "==> BuildingComplaints:\n",
      "  * Most Correlated Unigrams are: fram, door, floor\n",
      "  * Most Correlated Bigrams are: window pan, door fram, window fram\n",
      "\n",
      "==> Construction/PlumbingComplaints:\n",
      "  * Most Correlated Unigrams are: toilet, waterleak, basinsink\n",
      "  * Most Correlated Bigrams are: entire build, loud musicparti, water suppli\n",
      "\n",
      "==> DOFComplaints:\n",
      "  * Most Correlated Unigrams are: info, statu, payment\n",
      "  * Most Correlated Bigrams are: refundcredit info, info statu, payment post\n",
      "\n",
      "==> HeatComplaints:\n",
      "  * Most Correlated Unigrams are: entire, build, heat\n",
      "  * Most Correlated Bigrams are: loud talk, loud musicparti, entire build\n",
      "\n",
      "==> HighwayComplaints:\n",
      "  * Most Correlated Unigrams are: painted, pothole, highway\n",
      "  * Most Correlated Bigrams are: graffiti highway, painted linemark, pothole highway\n",
      "\n",
      "==> HomelessComplaints:\n",
      "  * Most Correlated Unigrams are: musicparti, loud, nan\n",
      "  * Most Correlated Bigrams are: loud talk, entire build, loud musicparti\n",
      "\n",
      "==> NoiseComplaints:\n",
      "  * Most Correlated Unigrams are: bangingpound, musicparti, loud\n",
      "  * Most Correlated Bigrams are: cartruck mus, loud talk, loud musicparti\n",
      "\n",
      "==> Other Complaints:\n",
      "  * Most Correlated Unigrams are: refriger, mold, pest\n",
      "  * Most Correlated Bigrams are: smoke detector, electricgas rang, garbagerecycling storag\n",
      "\n",
      "==> Paint/PlasterComplaints:\n",
      "  * Most Correlated Unigrams are: windowfram, wall, ceil\n",
      "  * Most Correlated Bigrams are: loud talk, entire build, loud musicparti\n",
      "\n",
      "==> ParkingComplaints:\n",
      "  * Most Correlated Unigrams are: blocked, partial, access\n",
      "  * Most Correlated Bigrams are: blocked sidewalk, blocked hydr, partial access\n",
      "\n",
      "==> SanitationComplaints:\n",
      "  * Most Correlated Unigrams are: street, dirty, conddumpoutdropoff\n",
      "  * Most Correlated Bigrams are: illegal post, dirty sidewalk, street conddumpoutdropoff\n",
      "\n",
      "==> SewerComplaints:\n",
      "  * Most Correlated Unigrams are: leak, odor, sewage\n",
      "  * Most Correlated Bigrams are: loud musicparti, sewage leak, sewage odor\n",
      "\n",
      "==> StreetComplaints:\n",
      "  * Most Correlated Unigrams are: license, derelict, graffiti\n",
      "  * Most Correlated Bigrams are: sidewalk viol, license pl, derelict vehicl\n",
      "\n",
      "==> TaxiComplaints:\n",
      "  * Most Correlated Unigrams are: information, complaint, driver\n",
      "  * Most Correlated Bigrams are: insurance information, information request, driver complaint\n",
      "\n",
      "==> TrafficComplaints:\n",
      "  * Most Correlated Unigrams are: route, chronic, congestiongridlock\n",
      "  * Most Correlated Bigrams are: chronic speed, truck route, route viol\n",
      "\n",
      "==> WaterComplaints:\n",
      "  * Most Correlated Unigrams are: slow, flow, heavy\n",
      "  * Most Correlated Bigrams are: damp spot, slow leak, heavy flow\n",
      "\n",
      "==> broken muni meter:\n",
      "  * Most Correlated Unigrams are: card, order, receipt\n",
      "  * Most Correlated Bigrams are: card stuck, coin card, card regist\n",
      "\n",
      "==> consumer complaint:\n",
      "  * Most Correlated Unigrams are: laundri, retail, stor\n",
      "  * Most Correlated Bigrams are: car dealer, car wash, retail stor\n",
      "\n",
      "==> electric:\n",
      "  * Most Correlated Unigrams are: electricwir, outletswitch, light\n",
      "  * Most Correlated Bigrams are: entire build, loud musicparti, power outag\n",
      "\n",
      "==> food establishment:\n",
      "  * Most Correlated Unigrams are: spoil, food, rodentsinsectsgarbag\n",
      "  * Most Correlated Bigrams are: letter grad, food contamin, food spoil\n",
      "\n",
      "==> general:\n",
      "  * Most Correlated Unigrams are: bellbuzzerintercom, cooking, cabinet\n",
      "  * Most Correlated Bigrams are: loud musicparti, signage miss, cooking ga\n",
      "\n",
      "==> missed collection all materials:\n",
      "  * Most Correlated Unigrams are: bulkmissed, collect, missed\n",
      "  * Most Correlated Bigrams are: missed recyclingall, bulkmissed collect, missed collect\n",
      "\n",
      "==> nonconst:\n",
      "  * Most Correlated Unigrams are: smokedetector, rubbish, vermin\n",
      "  * Most Correlated Bigrams are: entire build, loud musicparti, carbon monoxid\n",
      "\n",
      "==> rodent:\n",
      "  * Most Correlated Unigrams are: rod, rat, sight\n",
      "  * Most Correlated Bigrams are: condition attracting, mouse sight, rat sight\n"
     ]
    }
   ],
   "source": [
    " #Finding the three most correlated terms with each of the complaint categories\n",
    "N = 3\n",
    "for Product, complaint_id in sorted(category_to_id.items()):\n",
    "    features_chi2 = chi2(features, labels == complaint_id)\n",
    "    indices = np.argsort(features_chi2[0])\n",
    "    feature_names = np.array(tfidf.get_feature_names())[indices]\n",
    "    unigrams = [v for v in feature_names if len(v.split(' ')) == 1]\n",
    "    bigrams = [v for v in feature_names if len(v.split(' ')) == 2]\n",
    "    print(\"\\n==> %s:\" %(Product))\n",
    "    print(\"  * Most Correlated Unigrams are: %s\" %(', '.join(unigrams[-N:])))\n",
    "    print(\"  * Most Correlated Bigrams are: %s\" %(', '.join(bigrams[-N:])))"
   ]
  },
  {
   "cell_type": "markdown",
   "metadata": {},
   "source": [
    "############################################################################################\n",
    "\n",
    "1. Multinominal Niave Bayes is most suitable for **word counts** where data are typically represented as word vector counts and  ignores non-occurrences of a feature i\n",
    "\n",
    "2. Naive Bayes is a simplified version of Bayes Theorem, where all features are assumed **conditioned independent** to each other (the classifiers), P(x|y) where x is the feature and y is the classifier\n",
    "\n",
    "#############################################################################################\n",
    "\n",
    "1. Linear SVC works well on text classification is a part of SVM best for multi class text classification\n",
    "\n",
    "2. For larger datasts SVM is not a better option as compared to naive bayes it takes more time \n",
    "\n",
    "3. If classes are over lapping( not in the case of our exampels) it doesnt work well\n",
    "\n",
    " "
   ]
  },
  {
   "cell_type": "code",
   "execution_count": 29,
   "metadata": {},
   "outputs": [
    {
     "ename": "MemoryError",
     "evalue": "Unable to allocate 19.3 GiB for an array with shape (2331046, 1111) and data type float64",
     "output_type": "error",
     "traceback": [
      "\u001b[1;31m---------------------------------------------------------------------------\u001b[0m",
      "\u001b[1;31mMemoryError\u001b[0m                               Traceback (most recent call last)",
      "\u001b[1;32m<ipython-input-29-18184bf0a685>\u001b[0m in \u001b[0;36m<module>\u001b[1;34m\u001b[0m\n\u001b[0;32m     12\u001b[0m \u001b[1;32mfor\u001b[0m \u001b[0mmodel\u001b[0m \u001b[1;32min\u001b[0m \u001b[0mmodels\u001b[0m\u001b[1;33m:\u001b[0m\u001b[1;33m\u001b[0m\u001b[1;33m\u001b[0m\u001b[0m\n\u001b[0;32m     13\u001b[0m     \u001b[0mmodel_name\u001b[0m \u001b[1;33m=\u001b[0m \u001b[0mmodel\u001b[0m\u001b[1;33m.\u001b[0m\u001b[0m__class__\u001b[0m\u001b[1;33m.\u001b[0m\u001b[0m__name__\u001b[0m\u001b[1;33m\u001b[0m\u001b[1;33m\u001b[0m\u001b[0m\n\u001b[1;32m---> 14\u001b[1;33m     \u001b[0maccuracies\u001b[0m \u001b[1;33m=\u001b[0m \u001b[0mcross_val_score\u001b[0m\u001b[1;33m(\u001b[0m\u001b[0mmodel\u001b[0m\u001b[1;33m,\u001b[0m \u001b[0mfeatures\u001b[0m\u001b[1;33m,\u001b[0m \u001b[0mlabels\u001b[0m\u001b[1;33m,\u001b[0m \u001b[0mscoring\u001b[0m\u001b[1;33m=\u001b[0m\u001b[1;34m'accuracy'\u001b[0m\u001b[1;33m,\u001b[0m \u001b[0mcv\u001b[0m\u001b[1;33m=\u001b[0m\u001b[0mCV\u001b[0m\u001b[1;33m)\u001b[0m\u001b[1;33m\u001b[0m\u001b[1;33m\u001b[0m\u001b[0m\n\u001b[0m\u001b[0;32m     15\u001b[0m     \u001b[1;32mfor\u001b[0m \u001b[0mfold_idx\u001b[0m\u001b[1;33m,\u001b[0m \u001b[0maccuracy\u001b[0m \u001b[1;32min\u001b[0m \u001b[0menumerate\u001b[0m\u001b[1;33m(\u001b[0m\u001b[0maccuracies\u001b[0m\u001b[1;33m)\u001b[0m\u001b[1;33m:\u001b[0m\u001b[1;33m\u001b[0m\u001b[1;33m\u001b[0m\u001b[0m\n\u001b[0;32m     16\u001b[0m         \u001b[0mentries\u001b[0m\u001b[1;33m.\u001b[0m\u001b[0mappend\u001b[0m\u001b[1;33m(\u001b[0m\u001b[1;33m(\u001b[0m\u001b[0mmodel_name\u001b[0m\u001b[1;33m,\u001b[0m \u001b[0mfold_idx\u001b[0m\u001b[1;33m,\u001b[0m \u001b[0maccuracy\u001b[0m\u001b[1;33m)\u001b[0m\u001b[1;33m)\u001b[0m\u001b[1;33m\u001b[0m\u001b[1;33m\u001b[0m\u001b[0m\n",
      "\u001b[1;32mC:\\Anaconda\\lib\\site-packages\\sklearn\\model_selection\\_validation.py\u001b[0m in \u001b[0;36mcross_val_score\u001b[1;34m(estimator, X, y, groups, scoring, cv, n_jobs, verbose, fit_params, pre_dispatch, error_score)\u001b[0m\n\u001b[0;32m    389\u001b[0m                                 \u001b[0mfit_params\u001b[0m\u001b[1;33m=\u001b[0m\u001b[0mfit_params\u001b[0m\u001b[1;33m,\u001b[0m\u001b[1;33m\u001b[0m\u001b[1;33m\u001b[0m\u001b[0m\n\u001b[0;32m    390\u001b[0m                                 \u001b[0mpre_dispatch\u001b[0m\u001b[1;33m=\u001b[0m\u001b[0mpre_dispatch\u001b[0m\u001b[1;33m,\u001b[0m\u001b[1;33m\u001b[0m\u001b[1;33m\u001b[0m\u001b[0m\n\u001b[1;32m--> 391\u001b[1;33m                                 error_score=error_score)\n\u001b[0m\u001b[0;32m    392\u001b[0m     \u001b[1;32mreturn\u001b[0m \u001b[0mcv_results\u001b[0m\u001b[1;33m[\u001b[0m\u001b[1;34m'test_score'\u001b[0m\u001b[1;33m]\u001b[0m\u001b[1;33m\u001b[0m\u001b[1;33m\u001b[0m\u001b[0m\n\u001b[0;32m    393\u001b[0m \u001b[1;33m\u001b[0m\u001b[0m\n",
      "\u001b[1;32mC:\\Anaconda\\lib\\site-packages\\sklearn\\model_selection\\_validation.py\u001b[0m in \u001b[0;36mcross_validate\u001b[1;34m(estimator, X, y, groups, scoring, cv, n_jobs, verbose, fit_params, pre_dispatch, return_train_score, return_estimator, error_score)\u001b[0m\n\u001b[0;32m    230\u001b[0m             \u001b[0mreturn_times\u001b[0m\u001b[1;33m=\u001b[0m\u001b[1;32mTrue\u001b[0m\u001b[1;33m,\u001b[0m \u001b[0mreturn_estimator\u001b[0m\u001b[1;33m=\u001b[0m\u001b[0mreturn_estimator\u001b[0m\u001b[1;33m,\u001b[0m\u001b[1;33m\u001b[0m\u001b[1;33m\u001b[0m\u001b[0m\n\u001b[0;32m    231\u001b[0m             error_score=error_score)\n\u001b[1;32m--> 232\u001b[1;33m         for train, test in cv.split(X, y, groups))\n\u001b[0m\u001b[0;32m    233\u001b[0m \u001b[1;33m\u001b[0m\u001b[0m\n\u001b[0;32m    234\u001b[0m     \u001b[0mzipped_scores\u001b[0m \u001b[1;33m=\u001b[0m \u001b[0mlist\u001b[0m\u001b[1;33m(\u001b[0m\u001b[0mzip\u001b[0m\u001b[1;33m(\u001b[0m\u001b[1;33m*\u001b[0m\u001b[0mscores\u001b[0m\u001b[1;33m)\u001b[0m\u001b[1;33m)\u001b[0m\u001b[1;33m\u001b[0m\u001b[1;33m\u001b[0m\u001b[0m\n",
      "\u001b[1;32mC:\\Anaconda\\lib\\site-packages\\joblib\\parallel.py\u001b[0m in \u001b[0;36m__call__\u001b[1;34m(self, iterable)\u001b[0m\n\u001b[0;32m    919\u001b[0m             \u001b[1;31m# remaining jobs.\u001b[0m\u001b[1;33m\u001b[0m\u001b[1;33m\u001b[0m\u001b[1;33m\u001b[0m\u001b[0m\n\u001b[0;32m    920\u001b[0m             \u001b[0mself\u001b[0m\u001b[1;33m.\u001b[0m\u001b[0m_iterating\u001b[0m \u001b[1;33m=\u001b[0m \u001b[1;32mFalse\u001b[0m\u001b[1;33m\u001b[0m\u001b[1;33m\u001b[0m\u001b[0m\n\u001b[1;32m--> 921\u001b[1;33m             \u001b[1;32mif\u001b[0m \u001b[0mself\u001b[0m\u001b[1;33m.\u001b[0m\u001b[0mdispatch_one_batch\u001b[0m\u001b[1;33m(\u001b[0m\u001b[0miterator\u001b[0m\u001b[1;33m)\u001b[0m\u001b[1;33m:\u001b[0m\u001b[1;33m\u001b[0m\u001b[1;33m\u001b[0m\u001b[0m\n\u001b[0m\u001b[0;32m    922\u001b[0m                 \u001b[0mself\u001b[0m\u001b[1;33m.\u001b[0m\u001b[0m_iterating\u001b[0m \u001b[1;33m=\u001b[0m \u001b[0mself\u001b[0m\u001b[1;33m.\u001b[0m\u001b[0m_original_iterator\u001b[0m \u001b[1;32mis\u001b[0m \u001b[1;32mnot\u001b[0m \u001b[1;32mNone\u001b[0m\u001b[1;33m\u001b[0m\u001b[1;33m\u001b[0m\u001b[0m\n\u001b[0;32m    923\u001b[0m \u001b[1;33m\u001b[0m\u001b[0m\n",
      "\u001b[1;32mC:\\Anaconda\\lib\\site-packages\\joblib\\parallel.py\u001b[0m in \u001b[0;36mdispatch_one_batch\u001b[1;34m(self, iterator)\u001b[0m\n\u001b[0;32m    757\u001b[0m                 \u001b[1;32mreturn\u001b[0m \u001b[1;32mFalse\u001b[0m\u001b[1;33m\u001b[0m\u001b[1;33m\u001b[0m\u001b[0m\n\u001b[0;32m    758\u001b[0m             \u001b[1;32melse\u001b[0m\u001b[1;33m:\u001b[0m\u001b[1;33m\u001b[0m\u001b[1;33m\u001b[0m\u001b[0m\n\u001b[1;32m--> 759\u001b[1;33m                 \u001b[0mself\u001b[0m\u001b[1;33m.\u001b[0m\u001b[0m_dispatch\u001b[0m\u001b[1;33m(\u001b[0m\u001b[0mtasks\u001b[0m\u001b[1;33m)\u001b[0m\u001b[1;33m\u001b[0m\u001b[1;33m\u001b[0m\u001b[0m\n\u001b[0m\u001b[0;32m    760\u001b[0m                 \u001b[1;32mreturn\u001b[0m \u001b[1;32mTrue\u001b[0m\u001b[1;33m\u001b[0m\u001b[1;33m\u001b[0m\u001b[0m\n\u001b[0;32m    761\u001b[0m \u001b[1;33m\u001b[0m\u001b[0m\n",
      "\u001b[1;32mC:\\Anaconda\\lib\\site-packages\\joblib\\parallel.py\u001b[0m in \u001b[0;36m_dispatch\u001b[1;34m(self, batch)\u001b[0m\n\u001b[0;32m    714\u001b[0m         \u001b[1;32mwith\u001b[0m \u001b[0mself\u001b[0m\u001b[1;33m.\u001b[0m\u001b[0m_lock\u001b[0m\u001b[1;33m:\u001b[0m\u001b[1;33m\u001b[0m\u001b[1;33m\u001b[0m\u001b[0m\n\u001b[0;32m    715\u001b[0m             \u001b[0mjob_idx\u001b[0m \u001b[1;33m=\u001b[0m \u001b[0mlen\u001b[0m\u001b[1;33m(\u001b[0m\u001b[0mself\u001b[0m\u001b[1;33m.\u001b[0m\u001b[0m_jobs\u001b[0m\u001b[1;33m)\u001b[0m\u001b[1;33m\u001b[0m\u001b[1;33m\u001b[0m\u001b[0m\n\u001b[1;32m--> 716\u001b[1;33m             \u001b[0mjob\u001b[0m \u001b[1;33m=\u001b[0m \u001b[0mself\u001b[0m\u001b[1;33m.\u001b[0m\u001b[0m_backend\u001b[0m\u001b[1;33m.\u001b[0m\u001b[0mapply_async\u001b[0m\u001b[1;33m(\u001b[0m\u001b[0mbatch\u001b[0m\u001b[1;33m,\u001b[0m \u001b[0mcallback\u001b[0m\u001b[1;33m=\u001b[0m\u001b[0mcb\u001b[0m\u001b[1;33m)\u001b[0m\u001b[1;33m\u001b[0m\u001b[1;33m\u001b[0m\u001b[0m\n\u001b[0m\u001b[0;32m    717\u001b[0m             \u001b[1;31m# A job can complete so quickly than its callback is\u001b[0m\u001b[1;33m\u001b[0m\u001b[1;33m\u001b[0m\u001b[1;33m\u001b[0m\u001b[0m\n\u001b[0;32m    718\u001b[0m             \u001b[1;31m# called before we get here, causing self._jobs to\u001b[0m\u001b[1;33m\u001b[0m\u001b[1;33m\u001b[0m\u001b[1;33m\u001b[0m\u001b[0m\n",
      "\u001b[1;32mC:\\Anaconda\\lib\\site-packages\\joblib\\_parallel_backends.py\u001b[0m in \u001b[0;36mapply_async\u001b[1;34m(self, func, callback)\u001b[0m\n\u001b[0;32m    180\u001b[0m     \u001b[1;32mdef\u001b[0m \u001b[0mapply_async\u001b[0m\u001b[1;33m(\u001b[0m\u001b[0mself\u001b[0m\u001b[1;33m,\u001b[0m \u001b[0mfunc\u001b[0m\u001b[1;33m,\u001b[0m \u001b[0mcallback\u001b[0m\u001b[1;33m=\u001b[0m\u001b[1;32mNone\u001b[0m\u001b[1;33m)\u001b[0m\u001b[1;33m:\u001b[0m\u001b[1;33m\u001b[0m\u001b[1;33m\u001b[0m\u001b[0m\n\u001b[0;32m    181\u001b[0m         \u001b[1;34m\"\"\"Schedule a func to be run\"\"\"\u001b[0m\u001b[1;33m\u001b[0m\u001b[1;33m\u001b[0m\u001b[0m\n\u001b[1;32m--> 182\u001b[1;33m         \u001b[0mresult\u001b[0m \u001b[1;33m=\u001b[0m \u001b[0mImmediateResult\u001b[0m\u001b[1;33m(\u001b[0m\u001b[0mfunc\u001b[0m\u001b[1;33m)\u001b[0m\u001b[1;33m\u001b[0m\u001b[1;33m\u001b[0m\u001b[0m\n\u001b[0m\u001b[0;32m    183\u001b[0m         \u001b[1;32mif\u001b[0m \u001b[0mcallback\u001b[0m\u001b[1;33m:\u001b[0m\u001b[1;33m\u001b[0m\u001b[1;33m\u001b[0m\u001b[0m\n\u001b[0;32m    184\u001b[0m             \u001b[0mcallback\u001b[0m\u001b[1;33m(\u001b[0m\u001b[0mresult\u001b[0m\u001b[1;33m)\u001b[0m\u001b[1;33m\u001b[0m\u001b[1;33m\u001b[0m\u001b[0m\n",
      "\u001b[1;32mC:\\Anaconda\\lib\\site-packages\\joblib\\_parallel_backends.py\u001b[0m in \u001b[0;36m__init__\u001b[1;34m(self, batch)\u001b[0m\n\u001b[0;32m    547\u001b[0m         \u001b[1;31m# Don't delay the application, to avoid keeping the input\u001b[0m\u001b[1;33m\u001b[0m\u001b[1;33m\u001b[0m\u001b[1;33m\u001b[0m\u001b[0m\n\u001b[0;32m    548\u001b[0m         \u001b[1;31m# arguments in memory\u001b[0m\u001b[1;33m\u001b[0m\u001b[1;33m\u001b[0m\u001b[1;33m\u001b[0m\u001b[0m\n\u001b[1;32m--> 549\u001b[1;33m         \u001b[0mself\u001b[0m\u001b[1;33m.\u001b[0m\u001b[0mresults\u001b[0m \u001b[1;33m=\u001b[0m \u001b[0mbatch\u001b[0m\u001b[1;33m(\u001b[0m\u001b[1;33m)\u001b[0m\u001b[1;33m\u001b[0m\u001b[1;33m\u001b[0m\u001b[0m\n\u001b[0m\u001b[0;32m    550\u001b[0m \u001b[1;33m\u001b[0m\u001b[0m\n\u001b[0;32m    551\u001b[0m     \u001b[1;32mdef\u001b[0m \u001b[0mget\u001b[0m\u001b[1;33m(\u001b[0m\u001b[0mself\u001b[0m\u001b[1;33m)\u001b[0m\u001b[1;33m:\u001b[0m\u001b[1;33m\u001b[0m\u001b[1;33m\u001b[0m\u001b[0m\n",
      "\u001b[1;32mC:\\Anaconda\\lib\\site-packages\\joblib\\parallel.py\u001b[0m in \u001b[0;36m__call__\u001b[1;34m(self)\u001b[0m\n\u001b[0;32m    223\u001b[0m         \u001b[1;32mwith\u001b[0m \u001b[0mparallel_backend\u001b[0m\u001b[1;33m(\u001b[0m\u001b[0mself\u001b[0m\u001b[1;33m.\u001b[0m\u001b[0m_backend\u001b[0m\u001b[1;33m,\u001b[0m \u001b[0mn_jobs\u001b[0m\u001b[1;33m=\u001b[0m\u001b[0mself\u001b[0m\u001b[1;33m.\u001b[0m\u001b[0m_n_jobs\u001b[0m\u001b[1;33m)\u001b[0m\u001b[1;33m:\u001b[0m\u001b[1;33m\u001b[0m\u001b[1;33m\u001b[0m\u001b[0m\n\u001b[0;32m    224\u001b[0m             return [func(*args, **kwargs)\n\u001b[1;32m--> 225\u001b[1;33m                     for func, args, kwargs in self.items]\n\u001b[0m\u001b[0;32m    226\u001b[0m \u001b[1;33m\u001b[0m\u001b[0m\n\u001b[0;32m    227\u001b[0m     \u001b[1;32mdef\u001b[0m \u001b[0m__len__\u001b[0m\u001b[1;33m(\u001b[0m\u001b[0mself\u001b[0m\u001b[1;33m)\u001b[0m\u001b[1;33m:\u001b[0m\u001b[1;33m\u001b[0m\u001b[1;33m\u001b[0m\u001b[0m\n",
      "\u001b[1;32mC:\\Anaconda\\lib\\site-packages\\joblib\\parallel.py\u001b[0m in \u001b[0;36m<listcomp>\u001b[1;34m(.0)\u001b[0m\n\u001b[0;32m    223\u001b[0m         \u001b[1;32mwith\u001b[0m \u001b[0mparallel_backend\u001b[0m\u001b[1;33m(\u001b[0m\u001b[0mself\u001b[0m\u001b[1;33m.\u001b[0m\u001b[0m_backend\u001b[0m\u001b[1;33m,\u001b[0m \u001b[0mn_jobs\u001b[0m\u001b[1;33m=\u001b[0m\u001b[0mself\u001b[0m\u001b[1;33m.\u001b[0m\u001b[0m_n_jobs\u001b[0m\u001b[1;33m)\u001b[0m\u001b[1;33m:\u001b[0m\u001b[1;33m\u001b[0m\u001b[1;33m\u001b[0m\u001b[0m\n\u001b[0;32m    224\u001b[0m             return [func(*args, **kwargs)\n\u001b[1;32m--> 225\u001b[1;33m                     for func, args, kwargs in self.items]\n\u001b[0m\u001b[0;32m    226\u001b[0m \u001b[1;33m\u001b[0m\u001b[0m\n\u001b[0;32m    227\u001b[0m     \u001b[1;32mdef\u001b[0m \u001b[0m__len__\u001b[0m\u001b[1;33m(\u001b[0m\u001b[0mself\u001b[0m\u001b[1;33m)\u001b[0m\u001b[1;33m:\u001b[0m\u001b[1;33m\u001b[0m\u001b[1;33m\u001b[0m\u001b[0m\n",
      "\u001b[1;32mC:\\Anaconda\\lib\\site-packages\\sklearn\\model_selection\\_validation.py\u001b[0m in \u001b[0;36m_fit_and_score\u001b[1;34m(estimator, X, y, scorer, train, test, verbose, parameters, fit_params, return_train_score, return_parameters, return_n_test_samples, return_times, return_estimator, error_score)\u001b[0m\n\u001b[0;32m    505\u001b[0m     \u001b[0mstart_time\u001b[0m \u001b[1;33m=\u001b[0m \u001b[0mtime\u001b[0m\u001b[1;33m.\u001b[0m\u001b[0mtime\u001b[0m\u001b[1;33m(\u001b[0m\u001b[1;33m)\u001b[0m\u001b[1;33m\u001b[0m\u001b[1;33m\u001b[0m\u001b[0m\n\u001b[0;32m    506\u001b[0m \u001b[1;33m\u001b[0m\u001b[0m\n\u001b[1;32m--> 507\u001b[1;33m     \u001b[0mX_train\u001b[0m\u001b[1;33m,\u001b[0m \u001b[0my_train\u001b[0m \u001b[1;33m=\u001b[0m \u001b[0m_safe_split\u001b[0m\u001b[1;33m(\u001b[0m\u001b[0mestimator\u001b[0m\u001b[1;33m,\u001b[0m \u001b[0mX\u001b[0m\u001b[1;33m,\u001b[0m \u001b[0my\u001b[0m\u001b[1;33m,\u001b[0m \u001b[0mtrain\u001b[0m\u001b[1;33m)\u001b[0m\u001b[1;33m\u001b[0m\u001b[1;33m\u001b[0m\u001b[0m\n\u001b[0m\u001b[0;32m    508\u001b[0m     \u001b[0mX_test\u001b[0m\u001b[1;33m,\u001b[0m \u001b[0my_test\u001b[0m \u001b[1;33m=\u001b[0m \u001b[0m_safe_split\u001b[0m\u001b[1;33m(\u001b[0m\u001b[0mestimator\u001b[0m\u001b[1;33m,\u001b[0m \u001b[0mX\u001b[0m\u001b[1;33m,\u001b[0m \u001b[0my\u001b[0m\u001b[1;33m,\u001b[0m \u001b[0mtest\u001b[0m\u001b[1;33m,\u001b[0m \u001b[0mtrain\u001b[0m\u001b[1;33m)\u001b[0m\u001b[1;33m\u001b[0m\u001b[1;33m\u001b[0m\u001b[0m\n\u001b[0;32m    509\u001b[0m \u001b[1;33m\u001b[0m\u001b[0m\n",
      "\u001b[1;32mC:\\Anaconda\\lib\\site-packages\\sklearn\\utils\\metaestimators.py\u001b[0m in \u001b[0;36m_safe_split\u001b[1;34m(estimator, X, y, indices, train_indices)\u001b[0m\n\u001b[0;32m    199\u001b[0m             \u001b[0mX_subset\u001b[0m \u001b[1;33m=\u001b[0m \u001b[0mX\u001b[0m\u001b[1;33m[\u001b[0m\u001b[0mnp\u001b[0m\u001b[1;33m.\u001b[0m\u001b[0mix_\u001b[0m\u001b[1;33m(\u001b[0m\u001b[0mindices\u001b[0m\u001b[1;33m,\u001b[0m \u001b[0mtrain_indices\u001b[0m\u001b[1;33m)\u001b[0m\u001b[1;33m]\u001b[0m\u001b[1;33m\u001b[0m\u001b[1;33m\u001b[0m\u001b[0m\n\u001b[0;32m    200\u001b[0m     \u001b[1;32melse\u001b[0m\u001b[1;33m:\u001b[0m\u001b[1;33m\u001b[0m\u001b[1;33m\u001b[0m\u001b[0m\n\u001b[1;32m--> 201\u001b[1;33m         \u001b[0mX_subset\u001b[0m \u001b[1;33m=\u001b[0m \u001b[0msafe_indexing\u001b[0m\u001b[1;33m(\u001b[0m\u001b[0mX\u001b[0m\u001b[1;33m,\u001b[0m \u001b[0mindices\u001b[0m\u001b[1;33m)\u001b[0m\u001b[1;33m\u001b[0m\u001b[1;33m\u001b[0m\u001b[0m\n\u001b[0m\u001b[0;32m    202\u001b[0m \u001b[1;33m\u001b[0m\u001b[0m\n\u001b[0;32m    203\u001b[0m     \u001b[1;32mif\u001b[0m \u001b[0my\u001b[0m \u001b[1;32mis\u001b[0m \u001b[1;32mnot\u001b[0m \u001b[1;32mNone\u001b[0m\u001b[1;33m:\u001b[0m\u001b[1;33m\u001b[0m\u001b[1;33m\u001b[0m\u001b[0m\n",
      "\u001b[1;32mC:\\Anaconda\\lib\\site-packages\\sklearn\\utils\\__init__.py\u001b[0m in \u001b[0;36msafe_indexing\u001b[1;34m(X, indices)\u001b[0m\n\u001b[0;32m    217\u001b[0m                                    indices.dtype.kind == 'i'):\n\u001b[0;32m    218\u001b[0m             \u001b[1;31m# This is often substantially faster than X[indices]\u001b[0m\u001b[1;33m\u001b[0m\u001b[1;33m\u001b[0m\u001b[1;33m\u001b[0m\u001b[0m\n\u001b[1;32m--> 219\u001b[1;33m             \u001b[1;32mreturn\u001b[0m \u001b[0mX\u001b[0m\u001b[1;33m.\u001b[0m\u001b[0mtake\u001b[0m\u001b[1;33m(\u001b[0m\u001b[0mindices\u001b[0m\u001b[1;33m,\u001b[0m \u001b[0maxis\u001b[0m\u001b[1;33m=\u001b[0m\u001b[1;36m0\u001b[0m\u001b[1;33m)\u001b[0m\u001b[1;33m\u001b[0m\u001b[1;33m\u001b[0m\u001b[0m\n\u001b[0m\u001b[0;32m    220\u001b[0m         \u001b[1;32melse\u001b[0m\u001b[1;33m:\u001b[0m\u001b[1;33m\u001b[0m\u001b[1;33m\u001b[0m\u001b[0m\n\u001b[0;32m    221\u001b[0m             \u001b[1;32mreturn\u001b[0m \u001b[0mX\u001b[0m\u001b[1;33m[\u001b[0m\u001b[0mindices\u001b[0m\u001b[1;33m]\u001b[0m\u001b[1;33m\u001b[0m\u001b[1;33m\u001b[0m\u001b[0m\n",
      "\u001b[1;31mMemoryError\u001b[0m: Unable to allocate 19.3 GiB for an array with shape (2331046, 1111) and data type float64"
     ]
    }
   ],
   "source": [
    "models = [\n",
    "    RandomForestClassifier(n_estimators=100, max_depth=5, random_state=0),\n",
    "    LinearSVC(),\n",
    "    MultinomialNB(),\n",
    "]\n",
    "\n",
    "# 5 Cross-validation\n",
    "CV = 5\n",
    "cv_df = pd.DataFrame(index=range(CV * len(models)))\n",
    "\n",
    "entries = []\n",
    "for model in models:\n",
    "    model_name = model.__class__.__name__\n",
    "    accuracies = cross_val_score(model, features, labels, scoring='accuracy', cv=CV)\n",
    "    for fold_idx, accuracy in enumerate(accuracies):\n",
    "        entries.append((model_name, fold_idx, accuracy))\n",
    "    \n",
    "cv_df = pd.DataFrame(entries, columns=['model_name', 'fold_idx', 'accuracy'])"
   ]
  },
  {
   "cell_type": "code",
   "execution_count": null,
   "metadata": {},
   "outputs": [],
   "source": [
    "mean_accuracy = cv_df.groupby('model_name').accuracy.mean()\n",
    "std_accuracy = cv_df.groupby('model_name').accuracy.std()\n",
    "\n",
    "acc = pd.concat([mean_accuracy, std_accuracy], axis= 1, \n",
    "          ignore_index=True)\n",
    "acc.columns = ['Mean Accuracy', 'Standard deviation']\n",
    "acc"
   ]
  },
  {
   "cell_type": "markdown",
   "metadata": {},
   "source": [
    "#### Model Evaluation"
   ]
  },
  {
   "cell_type": "code",
   "execution_count": null,
   "metadata": {},
   "outputs": [],
   "source": [
    "X_train, X_test, y_train, y_test,indices_train,indices_test = train_test_split(features, \n",
    "                                                               labels, \n",
    "                                                               df_model.index, test_size=0.25, \n",
    "                                                               random_state=1)\n",
    "model = LinearSVC()\n",
    "model.fit(X_train, y_train)\n",
    "y_pred = model.predict(X_test)"
   ]
  },
  {
   "cell_type": "code",
   "execution_count": null,
   "metadata": {},
   "outputs": [],
   "source": [
    "# Classification report\n",
    "from sklearn import metrics\n",
    "print('\\t\\t\\t\\tCLASSIFICATIION METRICS\\n')\n",
    "print(metrics.classification_report(y_test, y_pred, \n",
    "                                    target_names= df_model['Complaint Type'].unique()))"
   ]
  },
  {
   "cell_type": "code",
   "execution_count": null,
   "metadata": {},
   "outputs": [],
   "source": [
    "conf_mat = confusion_matrix(y_test, y_pred)\n",
    "fig, ax = plt.subplots(figsize=(20,20))\n",
    "sns.heatmap(conf_mat, annot=True, cmap=\"Blues\", fmt='d',\n",
    "            xticklabels=complaint_id_df['Complaint Type'].values, \n",
    "            yticklabels=complaint_id_df['Complaint Type'].values)\n",
    "plt.ylabel('Actual')\n",
    "plt.xlabel('Predicted')\n",
    "plt.title(\"CONFUSION MATRIX - RF\\n\", size=10);"
   ]
  },
  {
   "cell_type": "markdown",
   "metadata": {},
   "source": [
    "### Seeing what complaints are classified different"
   ]
  },
  {
   "cell_type": "code",
   "execution_count": null,
   "metadata": {},
   "outputs": [],
   "source": [
    "for predicted in complaint_id_df.complaint_id:\n",
    "    for actual in complaint_id_df.complaint_id:\n",
    "        if predicted != actual and conf_mat[actual, predicted] >= 20:\n",
    "            print(\"'{}' predicted as '{}' : {} examples.\".format(id_to_category[actual], \n",
    "                                                           id_to_category[predicted], \n",
    "                                                           conf_mat[actual, predicted]))\n",
    "            display(df_model.loc[indices_test[(y_test == actual) & (y_pred == predicted)]][['Complaint Type','Descriptor','Resolution Description']])\n",
    "            print('')"
   ]
  },
  {
   "cell_type": "markdown",
   "metadata": {},
   "source": [
    "#### Most correlated terms in each compalint"
   ]
  },
  {
   "cell_type": "code",
   "execution_count": null,
   "metadata": {},
   "outputs": [],
   "source": [
    "model.fit(features, labels)\n",
    "\n",
    "N = 4\n",
    "for Product, complaint_id in sorted(category_to_id.items()):\n",
    "    indices = np.argsort(model.coef_[complaint_id])\n",
    "    feature_names = np.array(tfidf.get_feature_names())[indices]\n",
    "    unigrams = [v for v in reversed(feature_names) if len(v.split(' ')) == 1][:N]\n",
    "    bigrams = [v for v in reversed(feature_names) if len(v.split(' ')) == 2][:N]\n",
    "    print(\"\\n==> '{}':\".format(Product))\n",
    "    print(\"  * Top unigrams: %s\" %(', '.join(unigrams)))\n",
    "    print(\"  * Top bigrams: %s\" %(', '.join(bigrams)))"
   ]
  },
  {
   "cell_type": "markdown",
   "metadata": {},
   "source": [
    "### Predictions"
   ]
  },
  {
   "cell_type": "code",
   "execution_count": null,
   "metadata": {},
   "outputs": [],
   "source": [
    "X = df_model['Descriptor']\n",
    "y = df_model['Complaint Type']"
   ]
  },
  {
   "cell_type": "code",
   "execution_count": null,
   "metadata": {},
   "outputs": [],
   "source": [
    "X_train, X_test, y_train, y_test = train_test_split(X,y, \n",
    "                                                    test_size=0.25,\n",
    "                                                    random_state = 0)\n",
    "\n",
    "tfidf = TfidfVectorizer(sublinear_tf=True, min_df=5,\n",
    "                        ngram_range=(1, 2), \n",
    "                        stop_words='english')\n",
    "\n",
    "fitted_vectorizer = tfidf.fit(X_train)\n",
    "tfidf_vectorizer_vectors = fitted_vectorizer.transform(X_train)\n",
    "\n",
    "model = LinearSVC().fit(tfidf_vectorizer_vectors, y_train)"
   ]
  },
  {
   "cell_type": "markdown",
   "metadata": {},
   "source": [
    "##### I am predicting my model for new descriptors"
   ]
  },
  {
   "cell_type": "code",
   "execution_count": null,
   "metadata": {},
   "outputs": [],
   "source": [
    "new_descriptor1 = \"\"\"loud\"\"\"\n",
    "print(model.predict(fitted_vectorizer.transform([new_descriptor1])))"
   ]
  },
  {
   "cell_type": "code",
   "execution_count": null,
   "metadata": {},
   "outputs": [],
   "source": [
    "new_descriptor2 = \"\"\"rod\"\"\"\n",
    "print(model.predict(fitted_vectorizer.transform([new_descriptor2])))"
   ]
  },
  {
   "cell_type": "code",
   "execution_count": null,
   "metadata": {},
   "outputs": [],
   "source": [
    "new_descriptor3 = \"\"\"dirty\"\"\"\n",
    "print(model.predict(fitted_vectorizer.transform([new_descriptor3])))"
   ]
  },
  {
   "cell_type": "markdown",
   "metadata": {},
   "source": [
    "##### TF IDF Vectorization"
   ]
  },
  {
   "cell_type": "markdown",
   "metadata": {},
   "source": [
    "cv = CountVectorizer(min_df=10)\n",
    "X_agency = cv.fit_transform(df_model['Agency'])\n",
    "print(X_agency)\n",
    "\n",
    "##### Apply TFIDF to \"resolution description\", \n",
    "tv = TfidfVectorizer(max_features=55000, ngram_range=(1, 2), stop_words='english')\n",
    "X_description = tv.fit_transform(df_model['Resolution Description'])\n",
    "\n",
    "tv = TfidfVectorizer(max_features=55000, ngram_range=(1, 2), stop_words='english')\n",
    "X_descriptor = tv.fit_transform(df_model['Descriptor'])\n",
    "\n",
    "lb = LabelBinarizer(sparse_output=True)\n",
    "X_status = lb.fit_transform(df_model['Status'])\n",
    "\n",
    "lb = LabelBinarizer(sparse_output=True)\n",
    "X_comtype = lb.fit_transform(df_model['Complaint Type'])\n",
    "\n",
    "lb = LabelBinarizer(sparse_output=True)\n",
    "X_loctype = lb.fit_transform(df_model['Location Type'])\n",
    "\n",
    "##### Create our final sparse matrix\n",
    "X_dummies = csr_matrix(pd.get_dummies(df_model[['Total_Time', 'Resolution_Time','Year','Month','DayofWeek']], sparse=True).values)\n",
    "\n",
    "###### Combine everything together\n",
    "sparse_merge = hstack((X_dummies, X_description, X_descriptor, X_status, X_loctype)).tocsr()\n",
    "\n",
    "print(\"nrows\",sparse_merge.shape[0])"
   ]
  },
  {
   "cell_type": "code",
   "execution_count": 36,
   "metadata": {},
   "outputs": [],
   "source": [
    "import string\n",
    "import spacy\n",
    "import pickle\n",
    "\n",
    "import dask.dataframe as dd\n",
    "from dask.distributed import Client\n",
    "from dask_ml.model_selection import train_test_split\n",
    "from dask_ml.feature_extraction.text import HashingVectorizer\n",
    "from dask_ml.wrappers import Incremental\n",
    "from dask_ml.metrics import accuracy_score\n",
    "\n",
    "from spacy.lang.en.stop_words import STOP_WORDS\n",
    "from spacy.lang.en import English\n",
    "\n",
    "from sklearn.feature_extraction.text import CountVectorizer\n",
    "from sklearn.feature_extraction.text import TfidfTransformer\n",
    "from sklearn.pipeline import Pipeline\n",
    "from sklearn.utils import class_weight\n",
    "from sklearn.linear_model import SGDClassifier\n",
    "from sklearn.metrics import classification_report"
   ]
  },
  {
   "cell_type": "code",
   "execution_count": 60,
   "metadata": {},
   "outputs": [
    {
     "data": {
      "text/plain": [
       "(2913822, 12)"
      ]
     },
     "execution_count": 60,
     "metadata": {},
     "output_type": "execute_result"
    }
   ],
   "source": [
    "df_model.shape"
   ]
  },
  {
   "cell_type": "markdown",
   "metadata": {},
   "source": [
    "### DASK ML"
   ]
  },
  {
   "cell_type": "code",
   "execution_count": 61,
   "metadata": {},
   "outputs": [
    {
     "name": "stdout",
     "output_type": "stream",
     "text": [
      "Dask DataFrame Structure:\n",
      "               Agency Location Type Complaint Type Descriptor Resolution_Time Total_Time   Year  Month DayofWeek  Status Resolution Description complaint_id\n",
      "npartitions=3                                                                                                                                               \n",
      "0              object        object         object     object         float64    float64  int64  int64     int64  object                 object        int64\n",
      "37128             ...           ...            ...        ...             ...        ...    ...    ...       ...     ...                    ...          ...\n",
      "73262             ...           ...            ...        ...             ...        ...    ...    ...       ...     ...                    ...          ...\n",
      "128433            ...           ...            ...        ...             ...        ...    ...    ...       ...     ...                    ...          ...\n",
      "Dask Name: from_pandas, 3 tasks\n"
     ]
    }
   ],
   "source": [
    "from dask import dataframe as dd \n",
    "sd = dd.from_pandas(df_model, npartitions=3)\n",
    "print (sd)"
   ]
  },
  {
   "cell_type": "code",
   "execution_count": 62,
   "metadata": {},
   "outputs": [
    {
     "name": "stderr",
     "output_type": "stream",
     "text": [
      "C:\\Anaconda\\lib\\site-packages\\distributed\\dashboard\\core.py:79: UserWarning: \n",
      "Port 8787 is already in use. \n",
      "Perhaps you already have a cluster running?\n",
      "Hosting the diagnostics dashboard on a random port instead.\n",
      "  warnings.warn(\"\\n\" + msg)\n"
     ]
    },
    {
     "data": {
      "text/html": [
       "<table style=\"border: 2px solid white;\">\n",
       "<tr>\n",
       "<td style=\"vertical-align: top; border: 0px solid white\">\n",
       "<h3 style=\"text-align: left;\">Client</h3>\n",
       "<ul style=\"text-align: left; list-style: none; margin: 0; padding: 0;\">\n",
       "  <li><b>Scheduler: </b>tcp://127.0.0.1:49610</li>\n",
       "  <li><b>Dashboard: </b><a href='http://127.0.0.1:49613/status' target='_blank'>http://127.0.0.1:49613/status</a>\n",
       "</ul>\n",
       "</td>\n",
       "<td style=\"vertical-align: top; border: 0px solid white\">\n",
       "<h3 style=\"text-align: left;\">Cluster</h3>\n",
       "<ul style=\"text-align: left; list-style:none; margin: 0; padding: 0;\">\n",
       "  <li><b>Workers: </b>5</li>\n",
       "  <li><b>Cores: </b>10</li>\n",
       "  <li><b>Memory: </b>15.00 GB</li>\n",
       "</ul>\n",
       "</td>\n",
       "</tr>\n",
       "</table>"
      ],
      "text/plain": [
       "<Client: 'tcp://127.0.0.1:49610' processes=5 threads=10, memory=15.00 GB>"
      ]
     },
     "execution_count": 62,
     "metadata": {},
     "output_type": "execute_result"
    }
   ],
   "source": [
    "from dask.distributed import Client\n",
    "\n",
    "client = Client(threads_per_worker=2,n_workers=5, memory_limit='3GB')\n",
    "client"
   ]
  },
  {
   "cell_type": "code",
   "execution_count": 63,
   "metadata": {},
   "outputs": [],
   "source": [
    "X = sd['Descriptor']\n",
    "ylabels = sd['Complaint Type']"
   ]
  },
  {
   "cell_type": "code",
   "execution_count": 64,
   "metadata": {},
   "outputs": [],
   "source": [
    "keys = np.unique(ylabels.compute())\n",
    "values = class_weight.compute_class_weight('balanced',\n",
    "                                           keys,\n",
    "                                           ylabels.compute())\n",
    "class_weights = dict(zip(keys, values))\n"
   ]
  },
  {
   "cell_type": "code",
   "execution_count": 65,
   "metadata": {},
   "outputs": [
    {
     "data": {
      "text/plain": [
       "{'BuildingComplaints': 1.0711572734330888,\n",
       " 'Construction/PlumbingComplaints': 0.44199607549038167,\n",
       " 'DOFComplaints': 146.10018050541515,\n",
       " 'HeatComplaints': 0.20293489361773256,\n",
       " 'HighwayComplaints': 24.39896503215434,\n",
       " 'HomelessComplaints': 22.086456248863016,\n",
       " 'NoiseComplaints': 0.19902405319143704,\n",
       " 'Other Complaints': 0.466640979025817,\n",
       " 'Paint/PlasterComplaints': 0.6428735954758702,\n",
       " 'ParkingComplaints': 0.46665174058599923,\n",
       " 'SanitationComplaints': 1.4757235234772885,\n",
       " 'SewerComplaints': 77.03632614213198,\n",
       " 'StreetComplaints': 0.610796540760268,\n",
       " 'TaxiComplaints': 78.8884015594542,\n",
       " 'TrafficComplaints': 31.874310842740876,\n",
       " 'WaterComplaints': 1.896367654868639,\n",
       " 'broken muni meter': 9.79501815248084,\n",
       " 'consumer complaint': 804.0347682119206,\n",
       " 'electric': 1.6860522441950894,\n",
       " 'food establishment': 20.66540425531915,\n",
       " 'general': 2.992291861783408,\n",
       " 'missed collection all materials': 6.787948674941295,\n",
       " 'nonconst': 2.5580845325635786,\n",
       " 'rodent': 2.4951036807168254}"
      ]
     },
     "execution_count": 65,
     "metadata": {},
     "output_type": "execute_result"
    }
   ],
   "source": [
    "class_weights"
   ]
  },
  {
   "cell_type": "code",
   "execution_count": 66,
   "metadata": {},
   "outputs": [],
   "source": [
    "X_train, X_test, y_train, y_test = train_test_split(X, ylabels, test_size=0.3)"
   ]
  },
  {
   "cell_type": "code",
   "execution_count": 67,
   "metadata": {},
   "outputs": [],
   "source": [
    "# Create our list of punctuation marks\n",
    "punctuations = string.punctuation\n",
    "\n",
    "# Create our list of stopwords\n",
    "nlp = spacy.load('en')\n",
    "stop_words = spacy.lang.en.stop_words.STOP_WORDS\n",
    "\n",
    "# Load English tokenizer, tagger, parser, NER and word vectors\n",
    "parser = English()"
   ]
  },
  {
   "cell_type": "code",
   "execution_count": 68,
   "metadata": {},
   "outputs": [],
   "source": [
    "def spacy_tokenizer(sentence):\n",
    "    # Creating our token object, which is used to create documents with linguistic annotations.\n",
    "    mytokens = parser(sentence)\n",
    "\n",
    "    # Lemmatizing each token and converting each token into lowercase\n",
    "    mytokens = [ word.lemma_.lower().strip() if word.lemma_ != \"-PRON-\" else word.lower_ for word in mytokens ]\n",
    "\n",
    "    # Removing stop words\n",
    "    mytokens = [ word for word in mytokens if word not in stop_words and word not in punctuations ]\n",
    "\n",
    "    # return preprocessed list of tokens\n",
    "    return mytokens"
   ]
  },
  {
   "cell_type": "markdown",
   "metadata": {},
   "source": [
    "#### Hashing Vecorization (Just like TF-IDF Vectorization in Pandas)\n",
    "\n",
    "1. text vectorizer implementation uses the hashing trick to find the **token string name to feature integer index mapping**\n",
    "\n",
    "2. **Less Memory** scaled for Large Data Sets\n",
    "\n",
    "3. parallel pipeline as there is no state computed during fit.\n"
   ]
  },
  {
   "cell_type": "code",
   "execution_count": 69,
   "metadata": {},
   "outputs": [],
   "source": [
    "from dask_ml.feature_extraction.text import HashingVectorizer\n",
    "hw_vector = HashingVectorizer(tokenizer = spacy_tokenizer, ngram_range=(1, 2), n_features=2**20)"
   ]
  },
  {
   "cell_type": "code",
   "execution_count": 82,
   "metadata": {},
   "outputs": [
    {
     "data": {
      "text/plain": [
       "HashingVectorizer(alternate_sign=True, analyzer='word', binary=False,\n",
       "                  decode_error='strict', dtype=<class 'numpy.float64'>,\n",
       "                  encoding='utf-8', input='content', lowercase=True,\n",
       "                  n_features=1048576, ngram_range=(1, 2), norm='l2',\n",
       "                  preprocessor=None, stop_words=None, strip_accents=None,\n",
       "                  token_pattern='(?u)\\\\b\\\\w\\\\w+\\\\b',\n",
       "                  tokenizer=<function spacy_tokenizer at 0x0000019CF9CE6828>)"
      ]
     },
     "execution_count": 82,
     "metadata": {},
     "output_type": "execute_result"
    }
   ],
   "source": [
    "hw_vector"
   ]
  },
  {
   "cell_type": "code",
   "execution_count": 70,
   "metadata": {},
   "outputs": [
    {
     "name": "stdout",
     "output_type": "stream",
     "text": [
      "Wall time: 0 ns\n"
     ]
    }
   ],
   "source": [
    "%time\n",
    "Feature_pipeline = Pipeline([('vectorizer', hw_vector)])\n",
    "Pipeline_Model = Feature_pipeline.fit(X_train.values)"
   ]
  },
  {
   "cell_type": "code",
   "execution_count": 71,
   "metadata": {},
   "outputs": [],
   "source": [
    "Text_preprocess_pipe = pickle.dumps(Pipeline_Model)\n",
    "Pipeline_Model = pickle.loads(Text_preprocess_pipe)"
   ]
  },
  {
   "cell_type": "code",
   "execution_count": 72,
   "metadata": {},
   "outputs": [
    {
     "name": "stdout",
     "output_type": "stream",
     "text": [
      "Wall time: 0 ns\n"
     ]
    }
   ],
   "source": [
    "%time\n",
    "X_transformed = Pipeline_Model.transform(X_train)"
   ]
  },
  {
   "cell_type": "code",
   "execution_count": 73,
   "metadata": {},
   "outputs": [
    {
     "name": "stdout",
     "output_type": "stream",
     "text": [
      "Wall time: 25 s\n"
     ]
    }
   ],
   "source": [
    "%%time\n",
    "import joblib\n",
    "estimator = SGDClassifier(random_state=10, max_iter=200, loss='modified_huber',class_weight = class_weights, n_jobs=-1)\n",
    "classifier = Incremental(estimator)\n",
    "Model = classifier.fit(X_transformed,y_train,classes=list(class_weights.keys()))"
   ]
  },
  {
   "cell_type": "code",
   "execution_count": 74,
   "metadata": {},
   "outputs": [
    {
     "data": {
      "text/html": [
       "<table>\n",
       "<tr>\n",
       "<td>\n",
       "<table>\n",
       "  <thead>\n",
       "    <tr><td> </td><th> Array </th><th> Chunk </th></tr>\n",
       "  </thead>\n",
       "  <tbody>\n",
       "    <tr><th> Bytes </th><td> unknown </td> <td> unknown </td></tr>\n",
       "    <tr><th> Shape </th><td> (nan,) </td> <td> (nan,) </td></tr>\n",
       "    <tr><th> Count </th><td> 18 Tasks </td><td> 3 Chunks </td></tr>\n",
       "    <tr><th> Type </th><td> int32 </td><td> numpy.ndarray </td></tr>\n",
       "  </tbody>\n",
       "</table>\n",
       "</td>\n",
       "<td>\n",
       "\n",
       "</td>\n",
       "</tr>\n",
       "</table>"
      ],
      "text/plain": [
       "dask.array<_predict, shape=(nan,), dtype=int32, chunksize=(nan,), chunktype=numpy.ndarray>"
      ]
     },
     "execution_count": 74,
     "metadata": {},
     "output_type": "execute_result"
    }
   ],
   "source": [
    "predictions = Model.predict(Pipeline_Model.transform(X_test))\n",
    "predictions"
   ]
  },
  {
   "cell_type": "code",
   "execution_count": 76,
   "metadata": {},
   "outputs": [],
   "source": [
    "ML_Model = pickle.dumps(Model)"
   ]
  },
  {
   "cell_type": "code",
   "execution_count": 77,
   "metadata": {},
   "outputs": [
    {
     "name": "stdout",
     "output_type": "stream",
     "text": [
      "Wall time: 0 ns\n"
     ]
    }
   ],
   "source": [
    "%time\n",
    "Model = pickle.loads(ML_Model)\n",
    "# X = Model.predict_proba(X_transformed).compute()"
   ]
  },
  {
   "cell_type": "code",
   "execution_count": 78,
   "metadata": {},
   "outputs": [
    {
     "name": "stdout",
     "output_type": "stream",
     "text": [
      "Wall time: 0 ns\n"
     ]
    }
   ],
   "source": [
    "%time\n",
    "x_test_transformed = Pipeline_Model.transform(X_test)\n",
    "y_pred = Model.predict(x_test_transformed).compute()"
   ]
  },
  {
   "cell_type": "code",
   "execution_count": 79,
   "metadata": {},
   "outputs": [
    {
     "name": "stdout",
     "output_type": "stream",
     "text": [
      "Wall time: 0 ns\n",
      "                                 precision    recall  f1-score   support\n",
      "\n",
      "             BuildingComplaints       0.75      1.00      0.85     79328\n",
      "Construction/PlumbingComplaints       0.99      0.75      0.86    192176\n",
      "                  DOFComplaints       1.00      1.00      1.00       582\n",
      "                 HeatComplaints       1.00      1.00      1.00    418783\n",
      "              HighwayComplaints       0.89      0.84      0.86      3427\n",
      "             HomelessComplaints       0.67      1.00      0.80      3863\n",
      "                NoiseComplaints       1.00      1.00      1.00    426672\n",
      "               Other Complaints       0.91      0.97      0.94    181644\n",
      "        Paint/PlasterComplaints       1.00      0.99      0.99    132160\n",
      "              ParkingComplaints       1.00      0.98      0.99    182252\n",
      "           SanitationComplaints       0.99      1.00      1.00     57485\n",
      "                SewerComplaints       1.00      1.00      1.00      1112\n",
      "               StreetComplaints       1.00      0.98      0.99    139431\n",
      "                 TaxiComplaints       0.30      1.00      0.46      1104\n",
      "              TrafficComplaints       0.96      1.00      0.98      2697\n",
      "                WaterComplaints       1.00      0.99      0.99     44763\n",
      "              broken muni meter       0.71      0.99      0.83      8657\n",
      "             consumer complaint       0.04      1.00      0.08       104\n",
      "                       electric       1.00      0.94      0.97     50447\n",
      "             food establishment       0.99      0.99      0.99      4075\n",
      "                        general       0.73      0.94      0.82     28534\n",
      "missed collection all materials       1.00      1.00      1.00     12559\n",
      "                       nonconst       1.00      0.97      0.99     33143\n",
      "                         rodent       1.00      1.00      1.00     34056\n",
      "\n",
      "                       accuracy                           0.97   2039054\n",
      "                      macro avg       0.87      0.97      0.89   2039054\n",
      "                   weighted avg       0.97      0.97      0.97   2039054\n",
      "\n"
     ]
    }
   ],
   "source": [
    "%time\n",
    "print(classification_report(y_train,Model.predict(Pipeline_Model.transform(X_train)).compute()))"
   ]
  },
  {
   "cell_type": "code",
   "execution_count": 80,
   "metadata": {},
   "outputs": [
    {
     "name": "stdout",
     "output_type": "stream",
     "text": [
      "Wall time: 0 ns\n",
      "                                 precision    recall  f1-score   support\n",
      "\n",
      "             BuildingComplaints       0.75      1.00      0.86     34016\n",
      "Construction/PlumbingComplaints       0.99      0.75      0.86     82508\n",
      "                  DOFComplaints       1.00      1.00      1.00       249\n",
      "                 HeatComplaints       1.00      1.00      1.00    179484\n",
      "              HighwayComplaints       0.90      0.84      0.87      1549\n",
      "             HomelessComplaints       0.67      1.00      0.80      1634\n",
      "                NoiseComplaints       1.00      1.00      1.00    183351\n",
      "               Other Complaints       0.91      0.97      0.94     78533\n",
      "        Paint/PlasterComplaints       1.00      0.99      0.99     56694\n",
      "              ParkingComplaints       1.00      0.98      0.99     77919\n",
      "           SanitationComplaints       0.99      1.00      1.00     24786\n",
      "                SewerComplaints       1.00      1.00      1.00       464\n",
      "               StreetComplaints       0.99      0.98      0.99     59341\n",
      "                 TaxiComplaints       0.27      0.99      0.43       435\n",
      "              TrafficComplaints       0.96      1.00      0.98      1112\n",
      "                WaterComplaints       1.00      0.99      0.99     19259\n",
      "              broken muni meter       0.72      0.99      0.83      3738\n",
      "             consumer complaint       0.04      1.00      0.08        47\n",
      "                       electric       0.99      0.94      0.97     21561\n",
      "             food establishment       0.99      0.99      0.99      1800\n",
      "                        general       0.72      0.94      0.82     12040\n",
      "missed collection all materials       1.00      1.00      1.00      5327\n",
      "                       nonconst       1.00      0.97      0.99     14318\n",
      "                         rodent       1.00      1.00      1.00     14603\n",
      "\n",
      "                       accuracy                           0.97    874768\n",
      "                      macro avg       0.87      0.97      0.89    874768\n",
      "                   weighted avg       0.97      0.97      0.97    874768\n",
      "\n"
     ]
    }
   ],
   "source": [
    "%time\n",
    "print(classification_report(y_test, y_pred))"
   ]
  },
  {
   "cell_type": "code",
   "execution_count": 81,
   "metadata": {},
   "outputs": [],
   "source": [
    "client.close()"
   ]
  },
  {
   "cell_type": "code",
   "execution_count": null,
   "metadata": {},
   "outputs": [],
   "source": []
  }
 ],
 "metadata": {
  "kernelspec": {
   "display_name": "Python 3",
   "language": "python",
   "name": "python3"
  },
  "language_info": {
   "codemirror_mode": {
    "name": "ipython",
    "version": 3
   },
   "file_extension": ".py",
   "mimetype": "text/x-python",
   "name": "python",
   "nbconvert_exporter": "python",
   "pygments_lexer": "ipython3",
   "version": "3.7.4"
  }
 },
 "nbformat": 4,
 "nbformat_minor": 2
}
