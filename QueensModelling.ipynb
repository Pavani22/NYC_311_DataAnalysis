{
 "cells": [
  {
   "cell_type": "code",
   "execution_count": 1,
   "metadata": {},
   "outputs": [],
   "source": [
    "import requests\n",
    "import pandas as pd\n",
    "import json\n",
    "import psycopg2\n",
    "from sqlalchemy import create_engine \n",
    "from dask.diagnostics import ProgressBar\n",
    "import dask.dataframe as dd\n",
    "import dask.array as da\n",
    "import seaborn as sns\n",
    "import matplotlib.pyplot as plt\n",
    "import numpy as np\n",
    "import datetime\n",
    "from nltk.stem import WordNetLemmatizer\n",
    "import re\n",
    "import nltk\n",
    "from sklearn.feature_extraction.text import CountVectorizer, TfidfVectorizer\n",
    "from sklearn.preprocessing import LabelBinarizer\n",
    "from scipy.sparse import vstack, hstack, csr_matrix\n",
    "from sklearn.model_selection import cross_val_score\n",
    "from sklearn.metrics import confusion_matrix\n",
    "from nltk.corpus import stopwords\n",
    "from sklearn.preprocessing import LabelEncoder\n",
    "from sklearn.model_selection import train_test_split\n",
    "from sklearn.neighbors import KNeighborsClassifier\n",
    "\n",
    "from sklearn.ensemble import RandomForestClassifier\n",
    "from sklearn.model_selection import cross_val_score\n",
    "from sklearn.metrics import classification_report, confusion_matrix\n",
    "from sklearn.discriminant_analysis import LinearDiscriminantAnalysis\n",
    "from sklearn.model_selection import KFold\n",
    "from sklearn.model_selection import cross_val_score\n",
    "from sklearn.feature_extraction.text import TfidfVectorizer\n",
    "#stop_words = set(stopwords.words('english'))\n",
    "from sklearn.naive_bayes import MultinomialNB\n",
    "from sklearn.metrics import accuracy_score\n",
    "from sklearn.multiclass import OneVsRestClassifier\n",
    "from sklearn.svm import LinearSVC\n",
    "from sklearn.linear_model import LogisticRegression\n",
    "from sklearn.pipeline import Pipeline\n",
    "from sklearn.preprocessing import StandardScaler\n",
    "import matplotlib as mpl\n",
    "from matplotlib import pyplot as plt\n",
    "%matplotlib inline\n",
    "from sklearn.feature_selection import SelectKBest\n",
    "from sklearn.feature_selection import chi2\n",
    "from sklearn.svm import SVC\n",
    "from sklearn.ensemble import VotingClassifier\n",
    "import dask_ml.feature_extraction.text\n",
    "\n",
    "import numpy as np\n",
    "import pandas as pd\n",
    "import string\n",
    "import spacy\n",
    "import pickle\n",
    "\n",
    "import dask.dataframe as dd\n",
    "from dask.distributed import Client\n",
    "from dask_ml.model_selection import train_test_split\n",
    "from dask_ml.feature_extraction.text import HashingVectorizer\n",
    "from dask_ml.wrappers import Incremental\n",
    "from dask_ml.metrics import accuracy_score\n",
    "\n",
    "from spacy.lang.en.stop_words import STOP_WORDS\n",
    "from spacy.lang.en import English\n",
    "\n",
    "from sklearn.feature_extraction.text import CountVectorizer\n",
    "from sklearn.feature_extraction.text import TfidfTransformer\n",
    "from sklearn.pipeline import Pipeline\n",
    "from sklearn.utils import class_weight\n",
    "from sklearn.linear_model import SGDClassifier\n",
    "from sklearn.metrics import classification_report"
   ]
  },
  {
   "cell_type": "markdown",
   "metadata": {},
   "source": [
    "# OBJECTIVE\n",
    "\n",
    "From the previous analysis we found that \n",
    "\n",
    "1. The dataset contains features that are not necessary to solve our **multi-classification problem**. \n",
    "\n",
    "2. For this **text classification problem**, we are going to build another dataframe that contains ‘Descriptor’ and ‘Compalint Type’\n",
    "\n"
   ]
  },
  {
   "cell_type": "markdown",
   "metadata": {},
   "source": [
    "# PIPELINE\n",
    "\n",
    "1. Text Classifiction problems can be modelled well with Linear SVC, Naive Bayers, Random Forests\n",
    "\n",
    "2. Modelling the Prediction of Compalint based on Descriptor"
   ]
  },
  {
   "cell_type": "code",
   "execution_count": 2,
   "metadata": {},
   "outputs": [],
   "source": [
    "df = dd.read_csv(\"C:\\\\NYCOpendata\\\\Queens.csv\",error_bad_lines=False)\n",
    "df = df.compute()"
   ]
  },
  {
   "cell_type": "code",
   "execution_count": 3,
   "metadata": {},
   "outputs": [
    {
     "name": "stderr",
     "output_type": "stream",
     "text": [
      "[nltk_data] Downloading package punkt to\n",
      "[nltk_data]     C:\\Users\\pavani.nrusimhadevar\\AppData\\Roaming\\nltk_dat\n",
      "[nltk_data]     a...\n",
      "[nltk_data]   Package punkt is already up-to-date!\n",
      "[nltk_data] Downloading package stopwords to\n",
      "[nltk_data]     C:\\Users\\pavani.nrusimhadevar\\AppData\\Roaming\\nltk_dat\n",
      "[nltk_data]     a...\n",
      "[nltk_data]   Package stopwords is already up-to-date!\n"
     ]
    }
   ],
   "source": [
    "def remove_digits(x):\n",
    "    x = ''.join([i for i in x if not i.isdigit()])\n",
    "    return x\n",
    "\n",
    "import string\n",
    "def remove_punctuation(sentence: str) -> str:\n",
    "    return sentence.translate(str.maketrans('', '', string.punctuation))\n",
    "\n",
    "import nltk\n",
    "nltk.download('punkt')\n",
    "\n",
    "from nltk.corpus import stopwords\n",
    "nltk.download('stopwords')\n",
    "\n",
    "stop = stopwords.words('english')\n",
    "\n",
    "def remove_stop_words(x):\n",
    "    x = ' '.join([i for i in x.lower().split(' ') if i not in stop])\n",
    "    return x\n",
    "\n",
    "def to_lower(x):\n",
    "    return x.lower()\n",
    "\n",
    "\n",
    "from nltk.stem.porter import PorterStemmer\n",
    "\n",
    "porter = PorterStemmer()"
   ]
  },
  {
   "cell_type": "code",
   "execution_count": 4,
   "metadata": {},
   "outputs": [],
   "source": [
    "df[\"Resolution Description\"]= df[\"Resolution Description\"].astype(str)\n",
    "df[\"Descriptor\"]= df[\"Descriptor\"].astype(str) \n",
    "\n",
    "df['Descriptor'] = df['Descriptor'].apply(to_lower)\n",
    "df[\"Descriptor\"]= df[\"Descriptor\"].astype(str) \n",
    "df['Descriptor'] = df['Descriptor'].apply(remove_stop_words)\n",
    "df['Descriptor'] = df['Descriptor'].apply(remove_digits)\n",
    "df['Descriptor'] = df['Descriptor'].apply(remove_punctuation)\n",
    "df['Descriptor']= df['Descriptor'].apply(porter.stem)\n",
    "df['Resolution Description'] = df['Resolution Description'].apply(to_lower)\n",
    "df['Resolution Description'] = df['Resolution Description'].apply(remove_stop_words)\n",
    "df['Resolution Description'] = df['Resolution Description'].apply(remove_digits)\n",
    "df['Resolution Description'] = df['Resolution Description'].apply(remove_punctuation)\n",
    "df['Resolution Description']= df['Resolution Description'].apply(porter.stem)"
   ]
  },
  {
   "cell_type": "code",
   "execution_count": 5,
   "metadata": {},
   "outputs": [],
   "source": [
    "df['Location Type'] = df['Location Type'].astype(str) \n",
    "df['Location Type'] = df['Location Type'].apply(to_lower)\n",
    "df['Location Type'] = df['Location Type'].apply(remove_punctuation)"
   ]
  },
  {
   "cell_type": "code",
   "execution_count": 6,
   "metadata": {},
   "outputs": [
    {
     "data": {
      "text/html": [
       "<div>\n",
       "<style scoped>\n",
       "    .dataframe tbody tr th:only-of-type {\n",
       "        vertical-align: middle;\n",
       "    }\n",
       "\n",
       "    .dataframe tbody tr th {\n",
       "        vertical-align: top;\n",
       "    }\n",
       "\n",
       "    .dataframe thead th {\n",
       "        text-align: right;\n",
       "    }\n",
       "</style>\n",
       "<table border=\"1\" class=\"dataframe\">\n",
       "  <thead>\n",
       "    <tr style=\"text-align: right;\">\n",
       "      <th></th>\n",
       "      <th>Unique Key</th>\n",
       "      <th>Created Date</th>\n",
       "      <th>Closed Date</th>\n",
       "      <th>Agency</th>\n",
       "      <th>Agency Name</th>\n",
       "      <th>Complaint Type</th>\n",
       "      <th>Descriptor</th>\n",
       "      <th>Location Type</th>\n",
       "      <th>Incident Zip</th>\n",
       "      <th>Incident Address</th>\n",
       "      <th>...</th>\n",
       "      <th>Park Facility Name</th>\n",
       "      <th>Park Borough</th>\n",
       "      <th>Latitude</th>\n",
       "      <th>Longitude</th>\n",
       "      <th>Location</th>\n",
       "      <th>Total_Time</th>\n",
       "      <th>Resolution_Time</th>\n",
       "      <th>Year</th>\n",
       "      <th>Month</th>\n",
       "      <th>DayofWeek</th>\n",
       "    </tr>\n",
       "  </thead>\n",
       "  <tbody>\n",
       "    <tr>\n",
       "      <td>0</td>\n",
       "      <td>27842659</td>\n",
       "      <td>2014-04-14 13:27:00</td>\n",
       "      <td>2014-04-14 15:03:00</td>\n",
       "      <td>DEP</td>\n",
       "      <td>Department of Environmental Protection</td>\n",
       "      <td>Sewer</td>\n",
       "      <td>sewer backup use comments sa</td>\n",
       "      <td>nan</td>\n",
       "      <td>11428</td>\n",
       "      <td>220-05 93 AVENUE</td>\n",
       "      <td>...</td>\n",
       "      <td>Unspecified</td>\n",
       "      <td>QUEENS</td>\n",
       "      <td>40.722790</td>\n",
       "      <td>-73.735491</td>\n",
       "      <td>(40.722789705537885, -73.73549132976942)</td>\n",
       "      <td>0.0</td>\n",
       "      <td>0.0</td>\n",
       "      <td>2014</td>\n",
       "      <td>4</td>\n",
       "      <td>0</td>\n",
       "    </tr>\n",
       "    <tr>\n",
       "      <td>1</td>\n",
       "      <td>27842663</td>\n",
       "      <td>2014-04-14 12:35:00</td>\n",
       "      <td>2014-04-14 14:28:00</td>\n",
       "      <td>DEP</td>\n",
       "      <td>Department of Environmental Protection</td>\n",
       "      <td>Sewer</td>\n",
       "      <td>sewer backup use comments sa</td>\n",
       "      <td>nan</td>\n",
       "      <td>11434</td>\n",
       "      <td>132-41 BENNETT COURT</td>\n",
       "      <td>...</td>\n",
       "      <td>Unspecified</td>\n",
       "      <td>QUEENS</td>\n",
       "      <td>40.678152</td>\n",
       "      <td>-73.762001</td>\n",
       "      <td>(40.678151620421175, -73.76200138093122)</td>\n",
       "      <td>0.0</td>\n",
       "      <td>0.0</td>\n",
       "      <td>2014</td>\n",
       "      <td>4</td>\n",
       "      <td>0</td>\n",
       "    </tr>\n",
       "    <tr>\n",
       "      <td>2</td>\n",
       "      <td>27842672</td>\n",
       "      <td>2014-04-14 01:11:00</td>\n",
       "      <td>2014-04-14 07:00:00</td>\n",
       "      <td>DEP</td>\n",
       "      <td>Department of Environmental Protection</td>\n",
       "      <td>Water System</td>\n",
       "      <td>hydrant leaking wc</td>\n",
       "      <td>nan</td>\n",
       "      <td>11370</td>\n",
       "      <td>NaN</td>\n",
       "      <td>...</td>\n",
       "      <td>Unspecified</td>\n",
       "      <td>QUEENS</td>\n",
       "      <td>40.766705</td>\n",
       "      <td>-73.890236</td>\n",
       "      <td>(40.766704728837894, -73.89023597243937)</td>\n",
       "      <td>0.0</td>\n",
       "      <td>0.0</td>\n",
       "      <td>2014</td>\n",
       "      <td>4</td>\n",
       "      <td>0</td>\n",
       "    </tr>\n",
       "    <tr>\n",
       "      <td>3</td>\n",
       "      <td>27842673</td>\n",
       "      <td>2014-04-14 07:43:00</td>\n",
       "      <td>2014-04-14 07:55:00</td>\n",
       "      <td>DEP</td>\n",
       "      <td>Department of Environmental Protection</td>\n",
       "      <td>Water System</td>\n",
       "      <td>leak use comments wa</td>\n",
       "      <td>nan</td>\n",
       "      <td>11355</td>\n",
       "      <td>136-13 41 AVENUE</td>\n",
       "      <td>...</td>\n",
       "      <td>Unspecified</td>\n",
       "      <td>QUEENS</td>\n",
       "      <td>40.758676</td>\n",
       "      <td>-73.829084</td>\n",
       "      <td>(40.75867596109416, -73.82908396074494)</td>\n",
       "      <td>0.0</td>\n",
       "      <td>0.0</td>\n",
       "      <td>2014</td>\n",
       "      <td>4</td>\n",
       "      <td>0</td>\n",
       "    </tr>\n",
       "    <tr>\n",
       "      <td>4</td>\n",
       "      <td>27842676</td>\n",
       "      <td>2014-04-14 15:40:00</td>\n",
       "      <td>2014-05-30 10:15:00</td>\n",
       "      <td>DEP</td>\n",
       "      <td>Department of Environmental Protection</td>\n",
       "      <td>Water System</td>\n",
       "      <td>hydrant leaking wc</td>\n",
       "      <td>nan</td>\n",
       "      <td>11357</td>\n",
       "      <td>147-15 7 AVENUE</td>\n",
       "      <td>...</td>\n",
       "      <td>Unspecified</td>\n",
       "      <td>QUEENS</td>\n",
       "      <td>40.793684</td>\n",
       "      <td>-73.820933</td>\n",
       "      <td>(40.793683752861675, -73.82093313934396)</td>\n",
       "      <td>45.0</td>\n",
       "      <td>45.0</td>\n",
       "      <td>2014</td>\n",
       "      <td>4</td>\n",
       "      <td>0</td>\n",
       "    </tr>\n",
       "  </tbody>\n",
       "</table>\n",
       "<p>5 rows × 34 columns</p>\n",
       "</div>"
      ],
      "text/plain": [
       "   Unique Key         Created Date          Closed Date Agency  \\\n",
       "0    27842659  2014-04-14 13:27:00  2014-04-14 15:03:00    DEP   \n",
       "1    27842663  2014-04-14 12:35:00  2014-04-14 14:28:00    DEP   \n",
       "2    27842672  2014-04-14 01:11:00  2014-04-14 07:00:00    DEP   \n",
       "3    27842673  2014-04-14 07:43:00  2014-04-14 07:55:00    DEP   \n",
       "4    27842676  2014-04-14 15:40:00  2014-05-30 10:15:00    DEP   \n",
       "\n",
       "                              Agency Name Complaint Type  \\\n",
       "0  Department of Environmental Protection          Sewer   \n",
       "1  Department of Environmental Protection          Sewer   \n",
       "2  Department of Environmental Protection   Water System   \n",
       "3  Department of Environmental Protection   Water System   \n",
       "4  Department of Environmental Protection   Water System   \n",
       "\n",
       "                     Descriptor Location Type  Incident Zip  \\\n",
       "0  sewer backup use comments sa           nan         11428   \n",
       "1  sewer backup use comments sa           nan         11434   \n",
       "2            hydrant leaking wc           nan         11370   \n",
       "3          leak use comments wa           nan         11355   \n",
       "4            hydrant leaking wc           nan         11357   \n",
       "\n",
       "       Incident Address  ... Park Facility Name Park Borough   Latitude  \\\n",
       "0      220-05 93 AVENUE  ...        Unspecified       QUEENS  40.722790   \n",
       "1  132-41 BENNETT COURT  ...        Unspecified       QUEENS  40.678152   \n",
       "2                   NaN  ...        Unspecified       QUEENS  40.766705   \n",
       "3      136-13 41 AVENUE  ...        Unspecified       QUEENS  40.758676   \n",
       "4       147-15 7 AVENUE  ...        Unspecified       QUEENS  40.793684   \n",
       "\n",
       "   Longitude                                  Location Total_Time  \\\n",
       "0 -73.735491  (40.722789705537885, -73.73549132976942)        0.0   \n",
       "1 -73.762001  (40.678151620421175, -73.76200138093122)        0.0   \n",
       "2 -73.890236  (40.766704728837894, -73.89023597243937)        0.0   \n",
       "3 -73.829084   (40.75867596109416, -73.82908396074494)        0.0   \n",
       "4 -73.820933  (40.793683752861675, -73.82093313934396)       45.0   \n",
       "\n",
       "  Resolution_Time  Year Month  DayofWeek  \n",
       "0             0.0  2014     4          0  \n",
       "1             0.0  2014     4          0  \n",
       "2             0.0  2014     4          0  \n",
       "3             0.0  2014     4          0  \n",
       "4            45.0  2014     4          0  \n",
       "\n",
       "[5 rows x 34 columns]"
      ]
     },
     "execution_count": 6,
     "metadata": {},
     "output_type": "execute_result"
    }
   ],
   "source": [
    "df.head()"
   ]
  },
  {
   "cell_type": "code",
   "execution_count": 7,
   "metadata": {},
   "outputs": [
    {
     "data": {
      "text/html": [
       "<div>\n",
       "<style scoped>\n",
       "    .dataframe tbody tr th:only-of-type {\n",
       "        vertical-align: middle;\n",
       "    }\n",
       "\n",
       "    .dataframe tbody tr th {\n",
       "        vertical-align: top;\n",
       "    }\n",
       "\n",
       "    .dataframe thead th {\n",
       "        text-align: right;\n",
       "    }\n",
       "</style>\n",
       "<table border=\"1\" class=\"dataframe\">\n",
       "  <thead>\n",
       "    <tr style=\"text-align: right;\">\n",
       "      <th></th>\n",
       "      <th>Complaint Type</th>\n",
       "      <th>Descriptor</th>\n",
       "      <th>Resolution Description</th>\n",
       "    </tr>\n",
       "  </thead>\n",
       "  <tbody>\n",
       "    <tr>\n",
       "      <td>0</td>\n",
       "      <td>sewer</td>\n",
       "      <td>sewer backup use comments sa</td>\n",
       "      <td>department environmental protection investigat...</td>\n",
       "    </tr>\n",
       "    <tr>\n",
       "      <td>1</td>\n",
       "      <td>sewer</td>\n",
       "      <td>sewer backup use comments sa</td>\n",
       "      <td>department environmental protection investigat...</td>\n",
       "    </tr>\n",
       "    <tr>\n",
       "      <td>2</td>\n",
       "      <td>water system</td>\n",
       "      <td>hydrant leaking wc</td>\n",
       "      <td>department environmental protection determined...</td>\n",
       "    </tr>\n",
       "    <tr>\n",
       "      <td>3</td>\n",
       "      <td>water system</td>\n",
       "      <td>leak use comments wa</td>\n",
       "      <td>department environmental protection determined...</td>\n",
       "    </tr>\n",
       "    <tr>\n",
       "      <td>4</td>\n",
       "      <td>water system</td>\n",
       "      <td>hydrant leaking wc</td>\n",
       "      <td>department environmental protection investigat...</td>\n",
       "    </tr>\n",
       "  </tbody>\n",
       "</table>\n",
       "</div>"
      ],
      "text/plain": [
       "  Complaint Type                    Descriptor  \\\n",
       "0          sewer  sewer backup use comments sa   \n",
       "1          sewer  sewer backup use comments sa   \n",
       "2   water system            hydrant leaking wc   \n",
       "3   water system          leak use comments wa   \n",
       "4   water system            hydrant leaking wc   \n",
       "\n",
       "                              Resolution Description  \n",
       "0  department environmental protection investigat...  \n",
       "1  department environmental protection investigat...  \n",
       "2  department environmental protection determined...  \n",
       "3  department environmental protection determined...  \n",
       "4  department environmental protection investigat...  "
      ]
     },
     "execution_count": 7,
     "metadata": {},
     "output_type": "execute_result"
    }
   ],
   "source": [
    "df= df[df['Longitude'].notnull()]\n",
    "df= df[df['Latitude'].notnull()]\n",
    "df= df[df['Location'].notnull()]\n",
    "df['Complaint Type'] = df['Complaint Type'].apply(remove_punctuation)\n",
    "df['Complaint Type'] = df['Complaint Type'].apply(to_lower)\n",
    "df[['Complaint Type','Descriptor','Resolution Description']].head()"
   ]
  },
  {
   "cell_type": "markdown",
   "metadata": {},
   "source": [
    "#### Target Variable Rephrasing"
   ]
  },
  {
   "cell_type": "code",
   "execution_count": 8,
   "metadata": {},
   "outputs": [],
   "source": [
    "df['Complaint Type'] = df['Complaint Type'].replace(df[df['Complaint Type'].str.contains(\"heat\") ][\"Complaint Type\"].unique(),'HeatComplaints')\n",
    "df['Complaint Type'] = df['Complaint Type'].replace(df[df['Complaint Type'].str.contains(\"noise\") ][\"Complaint Type\"].unique(), 'NoiseComplaints')\n",
    "df['Complaint Type'] = df['Complaint Type'].replace(df[df['Complaint Type'].str.contains(\"construction|plumbing\") ][\"Complaint Type\"].unique(),'Construction/PlumbingComplaints')\n",
    "df['Complaint Type'] = df['Complaint Type'].replace(df[df['Complaint Type'].str.contains(\"dof\") ][\"Complaint Type\"].unique(),'DOFComplaints')\n",
    "df['Complaint Type'] = df['Complaint Type'].replace(df[df['Complaint Type'].str.contains(\"parking|blocked driveway|park\") ][\"Complaint Type\"].unique(),'ParkingComplaints')\n",
    "df['Complaint Type'] = df['Complaint Type'].replace(df[df['Complaint Type'].str.contains(\"paint\") ][\"Complaint Type\"].unique(),'Paint/PlasterComplaints')\n",
    "df['Complaint Type'] = df['Complaint Type'].replace(df[df['Complaint Type'].str.contains(\"water\") ][\"Complaint Type\"].unique(),'WaterComplaints')\n",
    "df['Complaint Type'] = df['Complaint Type'].replace(df[df['Complaint Type'].str.contains(\"dirt|sanitation condition\") ][\"Complaint Type\"].unique(),'SanitationComplaints')\n",
    "df['Complaint Type'] = df['Complaint Type'].replace(df[df['Complaint Type'].str.contains(\"highway\") ][\"Complaint Type\"].unique(),'HighwayComplaints')\n",
    "df['Complaint Type'] = df['Complaint Type'].replace(['street light condition', 'street condition',\n",
    "       'street sign  damaged', 'sidewalk condition', 'dead tree',\n",
    "       'street sign  dangling', 'street sign  missing', 'damaged tree',\n",
    "       'new tree request', 'illegal tree damage',\n",
    "       'rootsewersidewalk condition', 'overgrown treebranches',\n",
    "       'request xmas tree collection', 'deaddying tree',\n",
    "       'dep sidewalk condition','graffiti','derelict vehicles',\n",
    "       'for hire vehicle complaint', 'derelict vehicle',\n",
    "       'for hire vehicle report', 'abandoned vehicle',\n",
    "       'city vehicle placard complaint'],'StreetComplaints')\n",
    "\n",
    "df['Complaint Type'] = df['Complaint Type'].replace(df[df['Complaint Type'].str.contains(\"sewer|sewage\") ][\"Complaint Type\"].unique(),'SewerComplaints')\n",
    "df['Complaint Type'] = df['Complaint Type'].replace(df[df['Complaint Type'].str.contains(\"homeless\") ][\"Complaint Type\"].unique(),'HomelessComplaints')\n",
    "df['Complaint Type'] = df['Complaint Type'].replace(['traffic signal condition', 'traffic'],'TrafficComplaints')\n",
    "df['Complaint Type'] = df['Complaint Type'].replace(['taxi complaint', 'taxi report', 'taxi compliment',\n",
    "       'green taxi report', 'dispatched taxi complaint'],'TaxiComplaints')\n",
    "df['Complaint Type'] = df['Complaint Type'].replace(['doorwindow', 'flooringstairs', 'buildinguse', 'outside building',\n",
    "       'vacant apartment', 'building marshals office',\n",
    "       'building condition','elevator'],'BuildingComplaints')\n",
    "pd.set_option('display.max_rows', None)\n",
    "df['Complaint Type'].value_counts()\n",
    "df.loc[~df[\"Complaint Type\"].isin(['NoiseComplaints',\n",
    "'HeatComplaints',                           \n",
    "'StreetComplaints',                         \n",
    "'Construction/PlumbingComplaints',                    \n",
    "'SanitationComplaints',                     \n",
    "'WaterComplaints',                         \n",
    "'BuildingComplaints',                       \n",
    "'Paint/PlasterComplaints',                   \n",
    "'TaxiComplaints',                           \n",
    "'HomelessComplaints',\n",
    "'DOFComplaints',\n",
    "'HighwayComplaints',\n",
    "'ParkingComplaints',\n",
    "'broken muni meter',                        \n",
    "'rodent',                                   \n",
    "'consumer complaint',                      \n",
    "'electric',                                  \n",
    "'general',                                 \n",
    "'SewerComplaints',                          \n",
    "'request large bulky item collection',      \n",
    "'air quality',                                \n",
    "'nonconst',                                 \n",
    "'TrafficComplaints',                         \n",
    "'vending',                                   \n",
    "'food establishment',                       \n",
    "'missed collection all materials' ]), \"Complaint Type\"] = \"Other Complaints\""
   ]
  },
  {
   "cell_type": "code",
   "execution_count": 9,
   "metadata": {},
   "outputs": [
    {
     "data": {
      "text/plain": [
       "StreetComplaints                       947344\n",
       "ParkingComplaints                      677899\n",
       "NoiseComplaints                        604892\n",
       "Other Complaints                       314282\n",
       "HeatComplaints                         239114\n",
       "Construction/PlumbingComplaints        220697\n",
       "WaterComplaints                        218191\n",
       "SanitationComplaints                   191305\n",
       "BuildingComplaints                     172033\n",
       "SewerComplaints                        143956\n",
       "request large bulky item collection    129673\n",
       "TrafficComplaints                       94872\n",
       "missed collection all materials         87082\n",
       "Paint/PlasterComplaints                 62480\n",
       "rodent                                  43690\n",
       "consumer complaint                      41393\n",
       "electric                                36661\n",
       "broken muni meter                       31654\n",
       "TaxiComplaints                          23446\n",
       "nonconst                                23068\n",
       "general                                 17989\n",
       "air quality                             12968\n",
       "food establishment                      12635\n",
       "HighwayComplaints                       11126\n",
       "HomelessComplaints                      10689\n",
       "DOFComplaints                            3074\n",
       "Name: Complaint Type, dtype: int64"
      ]
     },
     "execution_count": 9,
     "metadata": {},
     "output_type": "execute_result"
    }
   ],
   "source": [
    "df['Complaint Type'] = df['Complaint Type'].replace(['vending'],'StreetComplaints')\n",
    "df['Complaint Type'].value_counts()"
   ]
  },
  {
   "cell_type": "markdown",
   "metadata": {},
   "source": [
    "#### Location Type Rephrasing"
   ]
  },
  {
   "cell_type": "code",
   "execution_count": 10,
   "metadata": {},
   "outputs": [],
   "source": [
    "df['Location Type'] = df['Location Type'].replace(df[df['Location Type'].str.contains(\"residential\") ][\"Location Type\"].unique(),'RESIDENTIAL')\n",
    "df['Location Type'] = df['Location Type'].replace(df[df['Location Type'].str.contains(\"school\") ][\"Location Type\"].unique(),'SCHOOL')\n",
    "df['Location Type'] = df['Location Type'].replace(df[df['Location Type'].str.contains(\"apartment\") ][\"Location Type\"].unique(),'APARTMENT')\n",
    "df['Location Type'] = df['Location Type'].replace(df[df['Location Type'].str.contains(\"comercial|commercial\") ][\"Location Type\"].unique(),'COMMERCIAL')\n",
    "df['Location Type'] = df['Location Type'].replace(['public gardenpark', 'park', 'parkplayground', 'public parkgarden'],'PARK')\n",
    "df['Location Type'] = df['Location Type'].replace(df[df['Location Type'].str.contains(\"restaurant\") ][\"Location Type\"].unique(),'RESTAURANT')\n"
   ]
  },
  {
   "cell_type": "code",
   "execution_count": 11,
   "metadata": {},
   "outputs": [
    {
     "data": {
      "text/plain": [
       "nan                                   1142242\n",
       "RESIDENTIAL                           1012835\n",
       "streetsidewalk                         885003\n",
       "street                                 581992\n",
       "sidewalk                               461965\n",
       "RESTAURANT                              50445\n",
       "COMMERCIAL                              44488\n",
       "lot                                     29083\n",
       "12 family dwelling                      27539\n",
       "street address                          27227\n",
       "PARK                                    17017\n",
       "highway                                 12159\n",
       "3 family apt building                   10841\n",
       "mixed use                                7133\n",
       "other explain below                      6970\n",
       "APARTMENT                                6735\n",
       "streetcurbside                           6330\n",
       "curb                                     5123\n",
       "bus stop shelter                         4133\n",
       "other                                    3659\n",
       "SCHOOL                                   3255\n",
       "property address                         3066\n",
       "house of worship                         2204\n",
       "3 family mixed use building              2195\n",
       "vacant lot                               2141\n",
       "12 family mixed use building             1824\n",
       "publicunfenced area                      1008\n",
       "bike lane                                 992\n",
       "street and sidewalk                       915\n",
       "above address                             845\n",
       "vacant building                           799\n",
       "drie tenants address                      793\n",
       "crosswalk                                 786\n",
       "home                                      703\n",
       "construction site                         623\n",
       "house and store                           547\n",
       "senior center                             529\n",
       "parking lotgarage                         467\n",
       "recreation center                         461\n",
       "overpass                                  395\n",
       "taxi                                      386\n",
       "pool                                      379\n",
       "bridgeunderpass                           366\n",
       "vehicle lane                              348\n",
       "catch basinsewer                          347\n",
       "residence                                 260\n",
       "bridge                                    238\n",
       "parking lot                               179\n",
       "street area                               139\n",
       "hallway                                   133\n",
       "food cart vendor                          129\n",
       "beach                                     121\n",
       "13 family dwelling                         97\n",
       "catering service                           88\n",
       "public garden                              86\n",
       "kennelanimal shelter                       83\n",
       "government building                        83\n",
       "other explain in complaint details         75\n",
       "subway                                     74\n",
       "speed reducer                              70\n",
       "garage                                     58\n",
       "abandoned building                         50\n",
       "day carenursery                            49\n",
       "stairwell                                  47\n",
       "common area                                47\n",
       "spa pool                                   45\n",
       "service provider                           44\n",
       "pet shop                                   44\n",
       "private house                              43\n",
       "subway station                             40\n",
       "roadway                                    40\n",
       "office building                            40\n",
       "store                                      35\n",
       "sauna                                      35\n",
       "golf                                       33\n",
       "lobby                                      32\n",
       "building                                   32\n",
       "hospital                                   32\n",
       "tire shop                                  30\n",
       "roadway tunnel                             27\n",
       "single room occupancy sro                  23\n",
       "soup kitchen                               20\n",
       "street fair vendor                         18\n",
       "cafeteria  collegeuniversity               18\n",
       "public stairs                              17\n",
       "grocery store                              17\n",
       "doctors office                             15\n",
       "correctional facility  city                12\n",
       "groomer                                     9\n",
       "13 family mixed use building                9\n",
       "vacant lotproperty                          9\n",
       "permanent food stand                        7\n",
       "roof                                        7\n",
       "tanning salon                               7\n",
       "ground                                      7\n",
       "cafeteria  private                          7\n",
       "petting zooanimal exhibit                   6\n",
       "catering hall                               6\n",
       "steam room                                  6\n",
       "summer camp                                 6\n",
       "horse stable                                5\n",
       "dentists office                             5\n",
       "street vendor                               4\n",
       "swamp or pond                               4\n",
       "cemetery                                    3\n",
       "public plaza                                2\n",
       "tattoo parlor                               2\n",
       "pier                                        2\n",
       "wooded area                                 2\n",
       "nail salon                                  2\n",
       "airport or trainbus station                 1\n",
       "health club                                 1\n",
       "correctional facility  state                1\n",
       "cafeteria                                   1\n",
       "private residence                           1\n",
       "Name: Location Type, dtype: int64"
      ]
     },
     "execution_count": 11,
     "metadata": {},
     "output_type": "execute_result"
    }
   ],
   "source": [
    "df['Location Type'].value_counts()"
   ]
  },
  {
   "cell_type": "markdown",
   "metadata": {},
   "source": [
    "#### Status"
   ]
  },
  {
   "cell_type": "code",
   "execution_count": 12,
   "metadata": {},
   "outputs": [],
   "source": [
    "df.loc[((df['Status']!='Closed') & (df['Year'] == 2012) \n",
    "       & (df['Resolution Description'].str.contains(\"investigated|submitted|reviewed|inspected\"))) , \"Status\"] = \"Closed\""
   ]
  },
  {
   "cell_type": "code",
   "execution_count": 13,
   "metadata": {},
   "outputs": [],
   "source": [
    "df.loc[((df['Status']!='Closed' ) \n",
    "       & (df['Descriptor'].str.contains(\"derelict vehicl\") ) \n",
    "       & (df['Resolution Description'].str.contains(\"removed\"))) , \"Status\"] = \"Closed\""
   ]
  },
  {
   "cell_type": "code",
   "execution_count": 14,
   "metadata": {},
   "outputs": [
    {
     "data": {
      "image/png": "[encoded data removed]",
      "text/plain": [
       "<Figure size 864x864 with 9 Axes>"
      ]
     },
     "metadata": {
      "needs_background": "light"
     },
     "output_type": "display_data"
    }
   ],
   "source": [
    "borough_comp = df.groupby(['Year','Status']).size().unstack()\n",
    "\n",
    "col_number = 3\n",
    "row_number = 3\n",
    "fig, axes = plt.subplots(row_number,col_number, figsize=(12,12))\n",
    "\n",
    "for i, (label,col) in enumerate(borough_comp.iteritems()):\n",
    "    ax = axes[int(i/col_number), i%col_number]\n",
    "    col = col.sort_values(ascending=True)[:15]\n",
    "    col.plot(kind='barh', ax=ax)\n",
    "    ax.set_title(label)\n",
    "    \n",
    "plt.tight_layout()"
   ]
  },
  {
   "cell_type": "code",
   "execution_count": 15,
   "metadata": {},
   "outputs": [],
   "source": [
    "df = df[df['Location Type']!='nan']\n",
    "df = df[df['Resolution Description']!='nan']"
   ]
  },
  {
   "cell_type": "code",
   "execution_count": 16,
   "metadata": {},
   "outputs": [
    {
     "data": {
      "text/html": [
       "<div>\n",
       "<style scoped>\n",
       "    .dataframe tbody tr th:only-of-type {\n",
       "        vertical-align: middle;\n",
       "    }\n",
       "\n",
       "    .dataframe tbody tr th {\n",
       "        vertical-align: top;\n",
       "    }\n",
       "\n",
       "    .dataframe thead th {\n",
       "        text-align: right;\n",
       "    }\n",
       "</style>\n",
       "<table border=\"1\" class=\"dataframe\">\n",
       "  <thead>\n",
       "    <tr style=\"text-align: right;\">\n",
       "      <th></th>\n",
       "      <th>9</th>\n",
       "      <th>22</th>\n",
       "    </tr>\n",
       "  </thead>\n",
       "  <tbody>\n",
       "    <tr>\n",
       "      <td>Unique Key</td>\n",
       "      <td>27842711</td>\n",
       "      <td>27842762</td>\n",
       "    </tr>\n",
       "    <tr>\n",
       "      <td>Created Date</td>\n",
       "      <td>2014-04-14 09:36:00</td>\n",
       "      <td>2014-04-14 19:06:00</td>\n",
       "    </tr>\n",
       "    <tr>\n",
       "      <td>Closed Date</td>\n",
       "      <td>2014-04-15 12:00:00</td>\n",
       "      <td>2014-04-14 19:06:00</td>\n",
       "    </tr>\n",
       "    <tr>\n",
       "      <td>Agency</td>\n",
       "      <td>DSNY</td>\n",
       "      <td>DSNY</td>\n",
       "    </tr>\n",
       "    <tr>\n",
       "      <td>Agency Name</td>\n",
       "      <td>BCC - Queens East</td>\n",
       "      <td>BCC - Queens West</td>\n",
       "    </tr>\n",
       "    <tr>\n",
       "      <td>Complaint Type</td>\n",
       "      <td>SanitationComplaints</td>\n",
       "      <td>StreetComplaints</td>\n",
       "    </tr>\n",
       "    <tr>\n",
       "      <td>Descriptor</td>\n",
       "      <td>dead anim</td>\n",
       "      <td>derelict vehicl</td>\n",
       "    </tr>\n",
       "    <tr>\n",
       "      <td>Location Type</td>\n",
       "      <td>sidewalk</td>\n",
       "      <td>street</td>\n",
       "    </tr>\n",
       "    <tr>\n",
       "      <td>Incident Zip</td>\n",
       "      <td>11432</td>\n",
       "      <td>11385</td>\n",
       "    </tr>\n",
       "    <tr>\n",
       "      <td>Incident Address</td>\n",
       "      <td>185-19 HILLSIDE AVENUE</td>\n",
       "      <td>1718 NORMAN STREET</td>\n",
       "    </tr>\n",
       "    <tr>\n",
       "      <td>Street Name</td>\n",
       "      <td>HILLSIDE AVENUE</td>\n",
       "      <td>NORMAN STREET</td>\n",
       "    </tr>\n",
       "    <tr>\n",
       "      <td>Cross Street 1</td>\n",
       "      <td>184 PLACE</td>\n",
       "      <td>CYPRESS AVENUE</td>\n",
       "    </tr>\n",
       "    <tr>\n",
       "      <td>Cross Street 2</td>\n",
       "      <td>186 STREET</td>\n",
       "      <td>SENECA AVENUE</td>\n",
       "    </tr>\n",
       "    <tr>\n",
       "      <td>Address Type</td>\n",
       "      <td>ADDRESS</td>\n",
       "      <td>ADDRESS</td>\n",
       "    </tr>\n",
       "    <tr>\n",
       "      <td>City</td>\n",
       "      <td>Jamaica</td>\n",
       "      <td>Ridgewood</td>\n",
       "    </tr>\n",
       "    <tr>\n",
       "      <td>Status</td>\n",
       "      <td>Closed</td>\n",
       "      <td>Closed</td>\n",
       "    </tr>\n",
       "    <tr>\n",
       "      <td>Resolution Description</td>\n",
       "      <td>department sanitation investigated complaint f...</td>\n",
       "      <td>department sanitation removed item</td>\n",
       "    </tr>\n",
       "    <tr>\n",
       "      <td>Resolution Action Updated Date</td>\n",
       "      <td>2014-04-15 12:00:00</td>\n",
       "      <td>2014-04-14 19:06:00</td>\n",
       "    </tr>\n",
       "    <tr>\n",
       "      <td>Community Board</td>\n",
       "      <td>08 QUEENS</td>\n",
       "      <td>05 QUEENS</td>\n",
       "    </tr>\n",
       "    <tr>\n",
       "      <td>BBL</td>\n",
       "      <td>4.09954e+09</td>\n",
       "      <td>4.03566e+09</td>\n",
       "    </tr>\n",
       "    <tr>\n",
       "      <td>Borough</td>\n",
       "      <td>QUEENS</td>\n",
       "      <td>QUEENS</td>\n",
       "    </tr>\n",
       "    <tr>\n",
       "      <td>X Coordinate (State Plane)</td>\n",
       "      <td>1.04624e+06</td>\n",
       "      <td>1.01173e+06</td>\n",
       "    </tr>\n",
       "    <tr>\n",
       "      <td>Y Coordinate (State Plane)</td>\n",
       "      <td>199647</td>\n",
       "      <td>193405</td>\n",
       "    </tr>\n",
       "    <tr>\n",
       "      <td>Open Data Channel Type</td>\n",
       "      <td>PHONE</td>\n",
       "      <td>ONLINE</td>\n",
       "    </tr>\n",
       "    <tr>\n",
       "      <td>Park Facility Name</td>\n",
       "      <td>Unspecified</td>\n",
       "      <td>Unspecified</td>\n",
       "    </tr>\n",
       "    <tr>\n",
       "      <td>Park Borough</td>\n",
       "      <td>QUEENS</td>\n",
       "      <td>QUEENS</td>\n",
       "    </tr>\n",
       "    <tr>\n",
       "      <td>Latitude</td>\n",
       "      <td>40.7144</td>\n",
       "      <td>40.6975</td>\n",
       "    </tr>\n",
       "    <tr>\n",
       "      <td>Longitude</td>\n",
       "      <td>-73.7764</td>\n",
       "      <td>-73.9009</td>\n",
       "    </tr>\n",
       "    <tr>\n",
       "      <td>Location</td>\n",
       "      <td>(40.71444448670634, -73.77639816990789)</td>\n",
       "      <td>(40.697486153061526, -73.90089841441812)</td>\n",
       "    </tr>\n",
       "    <tr>\n",
       "      <td>Total_Time</td>\n",
       "      <td>1</td>\n",
       "      <td>0</td>\n",
       "    </tr>\n",
       "    <tr>\n",
       "      <td>Resolution_Time</td>\n",
       "      <td>1</td>\n",
       "      <td>0</td>\n",
       "    </tr>\n",
       "    <tr>\n",
       "      <td>Year</td>\n",
       "      <td>2014</td>\n",
       "      <td>2014</td>\n",
       "    </tr>\n",
       "    <tr>\n",
       "      <td>Month</td>\n",
       "      <td>4</td>\n",
       "      <td>4</td>\n",
       "    </tr>\n",
       "    <tr>\n",
       "      <td>DayofWeek</td>\n",
       "      <td>0</td>\n",
       "      <td>0</td>\n",
       "    </tr>\n",
       "  </tbody>\n",
       "</table>\n",
       "</div>"
      ],
      "text/plain": [
       "                                                                               9   \\\n",
       "Unique Key                                                               27842711   \n",
       "Created Date                                                  2014-04-14 09:36:00   \n",
       "Closed Date                                                   2014-04-15 12:00:00   \n",
       "Agency                                                                       DSNY   \n",
       "Agency Name                                                     BCC - Queens East   \n",
       "Complaint Type                                               SanitationComplaints   \n",
       "Descriptor                                                              dead anim   \n",
       "Location Type                                                            sidewalk   \n",
       "Incident Zip                                                                11432   \n",
       "Incident Address                                           185-19 HILLSIDE AVENUE   \n",
       "Street Name                                                       HILLSIDE AVENUE   \n",
       "Cross Street 1                                                          184 PLACE   \n",
       "Cross Street 2                                                         186 STREET   \n",
       "Address Type                                                              ADDRESS   \n",
       "City                                                                      Jamaica   \n",
       "Status                                                                     Closed   \n",
       "Resolution Description          department sanitation investigated complaint f...   \n",
       "Resolution Action Updated Date                                2014-04-15 12:00:00   \n",
       "Community Board                                                         08 QUEENS   \n",
       "BBL                                                                   4.09954e+09   \n",
       "Borough                                                                    QUEENS   \n",
       "X Coordinate (State Plane)                                            1.04624e+06   \n",
       "Y Coordinate (State Plane)                                                 199647   \n",
       "Open Data Channel Type                                                      PHONE   \n",
       "Park Facility Name                                                    Unspecified   \n",
       "Park Borough                                                               QUEENS   \n",
       "Latitude                                                                  40.7144   \n",
       "Longitude                                                                -73.7764   \n",
       "Location                                  (40.71444448670634, -73.77639816990789)   \n",
       "Total_Time                                                                      1   \n",
       "Resolution_Time                                                                 1   \n",
       "Year                                                                         2014   \n",
       "Month                                                                           4   \n",
       "DayofWeek                                                                       0   \n",
       "\n",
       "                                                                      22  \n",
       "Unique Key                                                      27842762  \n",
       "Created Date                                         2014-04-14 19:06:00  \n",
       "Closed Date                                          2014-04-14 19:06:00  \n",
       "Agency                                                              DSNY  \n",
       "Agency Name                                            BCC - Queens West  \n",
       "Complaint Type                                          StreetComplaints  \n",
       "Descriptor                                               derelict vehicl  \n",
       "Location Type                                                     street  \n",
       "Incident Zip                                                       11385  \n",
       "Incident Address                                      1718 NORMAN STREET  \n",
       "Street Name                                                NORMAN STREET  \n",
       "Cross Street 1                                            CYPRESS AVENUE  \n",
       "Cross Street 2                                             SENECA AVENUE  \n",
       "Address Type                                                     ADDRESS  \n",
       "City                                                           Ridgewood  \n",
       "Status                                                            Closed  \n",
       "Resolution Description                department sanitation removed item  \n",
       "Resolution Action Updated Date                       2014-04-14 19:06:00  \n",
       "Community Board                                                05 QUEENS  \n",
       "BBL                                                          4.03566e+09  \n",
       "Borough                                                           QUEENS  \n",
       "X Coordinate (State Plane)                                   1.01173e+06  \n",
       "Y Coordinate (State Plane)                                        193405  \n",
       "Open Data Channel Type                                            ONLINE  \n",
       "Park Facility Name                                           Unspecified  \n",
       "Park Borough                                                      QUEENS  \n",
       "Latitude                                                         40.6975  \n",
       "Longitude                                                       -73.9009  \n",
       "Location                        (40.697486153061526, -73.90089841441812)  \n",
       "Total_Time                                                             0  \n",
       "Resolution_Time                                                        0  \n",
       "Year                                                                2014  \n",
       "Month                                                                  4  \n",
       "DayofWeek                                                              0  "
      ]
     },
     "execution_count": 16,
     "metadata": {},
     "output_type": "execute_result"
    }
   ],
   "source": [
    "df.head(2).T"
   ]
  },
  {
   "cell_type": "code",
   "execution_count": 17,
   "metadata": {},
   "outputs": [],
   "source": [
    "df1 = df[['Agency','Location Type','Complaint Type','Descriptor','Resolution_Time','Total_Time','Year','Month','DayofWeek','Status','Resolution Description']]"
   ]
  },
  {
   "cell_type": "code",
   "execution_count": 18,
   "metadata": {},
   "outputs": [
    {
     "data": {
      "text/plain": [
       "(3094693, 11)"
      ]
     },
     "execution_count": 18,
     "metadata": {},
     "output_type": "execute_result"
    }
   ],
   "source": [
    "df1.shape"
   ]
  },
  {
   "cell_type": "code",
   "execution_count": 19,
   "metadata": {},
   "outputs": [],
   "source": [
    "#df_model = df1.head(60000)"
   ]
  },
  {
   "cell_type": "code",
   "execution_count": 20,
   "metadata": {},
   "outputs": [],
   "source": [
    "df_model = df1"
   ]
  },
  {
   "cell_type": "code",
   "execution_count": 21,
   "metadata": {},
   "outputs": [
    {
     "data": {
      "text/html": [
       "<div>\n",
       "<style scoped>\n",
       "    .dataframe tbody tr th:only-of-type {\n",
       "        vertical-align: middle;\n",
       "    }\n",
       "\n",
       "    .dataframe tbody tr th {\n",
       "        vertical-align: top;\n",
       "    }\n",
       "\n",
       "    .dataframe thead th {\n",
       "        text-align: right;\n",
       "    }\n",
       "</style>\n",
       "<table border=\"1\" class=\"dataframe\">\n",
       "  <thead>\n",
       "    <tr style=\"text-align: right;\">\n",
       "      <th></th>\n",
       "      <th>Agency</th>\n",
       "      <th>Location Type</th>\n",
       "      <th>Complaint Type</th>\n",
       "      <th>Descriptor</th>\n",
       "      <th>Resolution_Time</th>\n",
       "      <th>Total_Time</th>\n",
       "      <th>Year</th>\n",
       "      <th>Month</th>\n",
       "      <th>DayofWeek</th>\n",
       "      <th>Status</th>\n",
       "      <th>Resolution Description</th>\n",
       "    </tr>\n",
       "  </thead>\n",
       "  <tbody>\n",
       "    <tr>\n",
       "      <td>9</td>\n",
       "      <td>DSNY</td>\n",
       "      <td>sidewalk</td>\n",
       "      <td>SanitationComplaints</td>\n",
       "      <td>dead anim</td>\n",
       "      <td>1.0</td>\n",
       "      <td>1.0</td>\n",
       "      <td>2014</td>\n",
       "      <td>4</td>\n",
       "      <td>0</td>\n",
       "      <td>Closed</td>\n",
       "      <td>department sanitation investigated complaint f...</td>\n",
       "    </tr>\n",
       "    <tr>\n",
       "      <td>22</td>\n",
       "      <td>DSNY</td>\n",
       "      <td>street</td>\n",
       "      <td>StreetComplaints</td>\n",
       "      <td>derelict vehicl</td>\n",
       "      <td>0.0</td>\n",
       "      <td>0.0</td>\n",
       "      <td>2014</td>\n",
       "      <td>4</td>\n",
       "      <td>0</td>\n",
       "      <td>Closed</td>\n",
       "      <td>department sanitation removed item</td>\n",
       "    </tr>\n",
       "    <tr>\n",
       "      <td>23</td>\n",
       "      <td>DOHMH</td>\n",
       "      <td>12 family dwelling</td>\n",
       "      <td>Other Complaints</td>\n",
       "      <td>animal wast</td>\n",
       "      <td>4.0</td>\n",
       "      <td>4.0</td>\n",
       "      <td>2014</td>\n",
       "      <td>4</td>\n",
       "      <td>0</td>\n",
       "      <td>Closed</td>\n",
       "      <td>department health mental hygiene review compla...</td>\n",
       "    </tr>\n",
       "    <tr>\n",
       "      <td>24</td>\n",
       "      <td>DOHMH</td>\n",
       "      <td>12 family dwelling</td>\n",
       "      <td>Other Complaints</td>\n",
       "      <td>animal odor</td>\n",
       "      <td>9.0</td>\n",
       "      <td>9.0</td>\n",
       "      <td>2014</td>\n",
       "      <td>4</td>\n",
       "      <td>0</td>\n",
       "      <td>Closed</td>\n",
       "      <td>department health mental hygiene review compla...</td>\n",
       "    </tr>\n",
       "    <tr>\n",
       "      <td>26</td>\n",
       "      <td>HPD</td>\n",
       "      <td>RESIDENTIAL</td>\n",
       "      <td>WaterComplaints</td>\n",
       "      <td>heavy flow</td>\n",
       "      <td>15.0</td>\n",
       "      <td>15.0</td>\n",
       "      <td>2014</td>\n",
       "      <td>4</td>\n",
       "      <td>0</td>\n",
       "      <td>Closed</td>\n",
       "      <td>department housing preservation development in...</td>\n",
       "    </tr>\n",
       "  </tbody>\n",
       "</table>\n",
       "</div>"
      ],
      "text/plain": [
       "   Agency       Location Type        Complaint Type        Descriptor  \\\n",
       "9    DSNY            sidewalk  SanitationComplaints         dead anim   \n",
       "22   DSNY              street      StreetComplaints   derelict vehicl   \n",
       "23  DOHMH  12 family dwelling      Other Complaints       animal wast   \n",
       "24  DOHMH  12 family dwelling      Other Complaints       animal odor   \n",
       "26    HPD         RESIDENTIAL       WaterComplaints        heavy flow   \n",
       "\n",
       "    Resolution_Time  Total_Time  Year  Month  DayofWeek  Status  \\\n",
       "9               1.0         1.0  2014      4          0  Closed   \n",
       "22              0.0         0.0  2014      4          0  Closed   \n",
       "23              4.0         4.0  2014      4          0  Closed   \n",
       "24              9.0         9.0  2014      4          0  Closed   \n",
       "26             15.0        15.0  2014      4          0  Closed   \n",
       "\n",
       "                               Resolution Description  \n",
       "9   department sanitation investigated complaint f...  \n",
       "22                 department sanitation removed item  \n",
       "23  department health mental hygiene review compla...  \n",
       "24  department health mental hygiene review compla...  \n",
       "26  department housing preservation development in...  "
      ]
     },
     "execution_count": 21,
     "metadata": {},
     "output_type": "execute_result"
    }
   ],
   "source": [
    "df_model.head()"
   ]
  },
  {
   "cell_type": "markdown",
   "metadata": {},
   "source": [
    "### Create a new column 'complaint_id' with encoded Complaint Types"
   ]
  },
  {
   "cell_type": "code",
   "execution_count": null,
   "metadata": {},
   "outputs": [],
   "source": [
    "df_model['complaint_id'] = df_model['Complaint Type'].factorize()[0]\n",
    "complaint_id_df = df_model[['Complaint Type', 'complaint_id']].drop_duplicates()\n",
    "\n",
    "\n",
    "# Dictionaries for future use\n",
    "category_to_id = dict(complaint_id_df.values)\n",
    "id_to_category = dict(complaint_id_df[['complaint_id', 'Complaint Type']].values)\n",
    "\n",
    "# New dataframe\n",
    "df_model.head()"
   ]
  },
  {
   "cell_type": "markdown",
   "metadata": {},
   "source": [
    "### Text Preprocessing"
   ]
  },
  {
   "cell_type": "code",
   "execution_count": null,
   "metadata": {},
   "outputs": [],
   "source": [
    "tfidf = TfidfVectorizer(sublinear_tf=True, min_df=5,\n",
    "                        ngram_range=(1, 2), \n",
    "                        stop_words='english')"
   ]
  },
  {
   "cell_type": "code",
   "execution_count": null,
   "metadata": {},
   "outputs": [],
   "source": [
    "df_model.head()"
   ]
  },
  {
   "cell_type": "markdown",
   "metadata": {},
   "source": [
    "**TF/IDF**\n",
    "\n",
    "1. TERM FREQUENCY (TF)  = Number of times term appears in doc / Total number of words in doc\n",
    "\n",
    "2. IDF = ln(no of docs / no of docs term appears in)\n",
    "\n",
    "3. TF-IDF gives **word frequency** scores\n",
    "\n",
    "4. ngrams(1,2) --> gives UNIGRAMS AND BIGRAMS\n",
    "\n",
    "5. min_df: **remove the words** from the vocabulary which have occurred in less than ‘min_df’ number of files"
   ]
  },
  {
   "cell_type": "markdown",
   "metadata": {},
   "source": [
    "As we knew descriptor is one of the important feature"
   ]
  },
  {
   "cell_type": "markdown",
   "metadata": {},
   "source": [
    "### TFIDF on \"Descriptor\""
   ]
  },
  {
   "cell_type": "code",
   "execution_count": null,
   "metadata": {},
   "outputs": [],
   "source": [
    "tfidf = TfidfVectorizer(sublinear_tf=True, min_df=5,\n",
    "                        ngram_range=(1, 2), \n",
    "                        stop_words='english')\n",
    "\n",
    "# We transform each complaint into a vector\n",
    "features = tfidf.fit_transform(df_model['Descriptor']).toarray()\n",
    "\n",
    "labels = df_model.complaint_id\n",
    "\n",
    "print(\"Each of the %d complaints is represented by %d features (TF-IDF score of unigrams and bigrams)\" %(features.shape))"
   ]
  },
  {
   "cell_type": "markdown",
   "metadata": {},
   "source": [
    "#### Trying to Find most correlated terms of descriptor for each complaint type"
   ]
  },
  {
   "cell_type": "code",
   "execution_count": null,
   "metadata": {},
   "outputs": [],
   "source": [
    " #Finding the three most correlated terms with each of the complaint categories\n",
    "N = 3\n",
    "for Product, complaint_id in sorted(category_to_id.items()):\n",
    "    features_chi2 = chi2(features, labels == complaint_id)\n",
    "    indices = np.argsort(features_chi2[0])\n",
    "    feature_names = np.array(tfidf.get_feature_names())[indices]\n",
    "    unigrams = [v for v in feature_names if len(v.split(' ')) == 1]\n",
    "    bigrams = [v for v in feature_names if len(v.split(' ')) == 2]\n",
    "    print(\"\\n==> %s:\" %(Product))\n",
    "    print(\"  * Most Correlated Unigrams are: %s\" %(', '.join(unigrams[-N:])))\n",
    "    print(\"  * Most Correlated Bigrams are: %s\" %(', '.join(bigrams[-N:])))"
   ]
  },
  {
   "cell_type": "markdown",
   "metadata": {},
   "source": [
    "############################################################################################\n",
    "\n",
    "1. Multinominal Niave Bayes is most suitable for **word counts** where data are typically represented as word vector counts and  ignores non-occurrences of a feature i\n",
    "\n",
    "2. Naive Bayes is a simplified version of Bayes Theorem, where all features are assumed **conditioned independent** to each other (the classifiers), P(x|y) where x is the feature and y is the classifier\n",
    "\n",
    "#############################################################################################\n",
    "\n",
    "1. Linear SVC works well on text classification is a part of SVM best for multi class text classification\n",
    "\n",
    "2. For larger datasts SVM is not a better option as compared to naive bayes it takes more time \n",
    "\n",
    "3. If classes are over lapping( not in the case of our exampels) it doesnt work well\n",
    "\n",
    " "
   ]
  },
  {
   "cell_type": "code",
   "execution_count": null,
   "metadata": {},
   "outputs": [],
   "source": [
    "models = [\n",
    "    RandomForestClassifier(n_estimators=100, max_depth=5, random_state=0),\n",
    "    LinearSVC(),\n",
    "    MultinomialNB(),\n",
    "]\n",
    "\n",
    "# 5 Cross-validation\n",
    "CV = 5\n",
    "cv_df = pd.DataFrame(index=range(CV * len(models)))\n",
    "\n",
    "entries = []\n",
    "for model in models:\n",
    "    model_name = model.__class__.__name__\n",
    "    accuracies = cross_val_score(model, features, labels, scoring='accuracy', cv=CV)\n",
    "    for fold_idx, accuracy in enumerate(accuracies):\n",
    "        entries.append((model_name, fold_idx, accuracy))\n",
    "    \n",
    "cv_df = pd.DataFrame(entries, columns=['model_name', 'fold_idx', 'accuracy'])"
   ]
  },
  {
   "cell_type": "code",
   "execution_count": null,
   "metadata": {},
   "outputs": [],
   "source": [
    "mean_accuracy = cv_df.groupby('model_name').accuracy.mean()\n",
    "std_accuracy = cv_df.groupby('model_name').accuracy.std()\n",
    "\n",
    "acc = pd.concat([mean_accuracy, std_accuracy], axis= 1, \n",
    "          ignore_index=True)\n",
    "acc.columns = ['Mean Accuracy', 'Standard deviation']\n",
    "acc"
   ]
  },
  {
   "cell_type": "markdown",
   "metadata": {},
   "source": [
    "#### Model Evaluation"
   ]
  },
  {
   "cell_type": "code",
   "execution_count": null,
   "metadata": {},
   "outputs": [],
   "source": [
    "X_train, X_test, y_train, y_test,indices_train,indices_test = train_test_split(features, \n",
    "                                                               labels, \n",
    "                                                               df_model.index, test_size=0.25, \n",
    "                                                               random_state=1)\n",
    "model = LinearSVC()\n",
    "model.fit(X_train, y_train)\n",
    "y_pred = model.predict(X_test)"
   ]
  },
  {
   "cell_type": "code",
   "execution_count": null,
   "metadata": {},
   "outputs": [],
   "source": [
    "# Classification report\n",
    "from sklearn import metrics\n",
    "print('\\t\\t\\t\\tCLASSIFICATIION METRICS\\n')\n",
    "print(metrics.classification_report(y_test, y_pred, \n",
    "                                    target_names= df_model['Complaint Type'].unique()))"
   ]
  },
  {
   "cell_type": "code",
   "execution_count": null,
   "metadata": {},
   "outputs": [],
   "source": [
    "conf_mat = confusion_matrix(y_test, y_pred)\n",
    "fig, ax = plt.subplots(figsize=(20,20))\n",
    "sns.heatmap(conf_mat, annot=True, cmap=\"Blues\", fmt='d',\n",
    "            xticklabels=complaint_id_df['Complaint Type'].values, \n",
    "            yticklabels=complaint_id_df['Complaint Type'].values)\n",
    "plt.ylabel('Actual')\n",
    "plt.xlabel('Predicted')\n",
    "plt.title(\"CONFUSION MATRIX - RF\\n\", size=10);"
   ]
  },
  {
   "cell_type": "markdown",
   "metadata": {},
   "source": [
    "### Seeing what complaints are classified different"
   ]
  },
  {
   "cell_type": "code",
   "execution_count": null,
   "metadata": {},
   "outputs": [],
   "source": [
    "for predicted in complaint_id_df.complaint_id:\n",
    "    for actual in complaint_id_df.complaint_id:\n",
    "        if predicted != actual and conf_mat[actual, predicted] >= 20:\n",
    "            print(\"'{}' predicted as '{}' : {} examples.\".format(id_to_category[actual], \n",
    "                                                           id_to_category[predicted], \n",
    "                                                           conf_mat[actual, predicted]))\n",
    "            display(df_model.loc[indices_test[(y_test == actual) & (y_pred == predicted)]][['Complaint Type','Descriptor','Resolution Description']])\n",
    "            print('')"
   ]
  },
  {
   "cell_type": "markdown",
   "metadata": {},
   "source": [
    "#### Most correlated terms in each compalint"
   ]
  },
  {
   "cell_type": "code",
   "execution_count": null,
   "metadata": {},
   "outputs": [],
   "source": [
    "model.fit(features, labels)\n",
    "\n",
    "N = 4\n",
    "for Product, complaint_id in sorted(category_to_id.items()):\n",
    "    indices = np.argsort(model.coef_[complaint_id])\n",
    "    feature_names = np.array(tfidf.get_feature_names())[indices]\n",
    "    unigrams = [v for v in reversed(feature_names) if len(v.split(' ')) == 1][:N]\n",
    "    bigrams = [v for v in reversed(feature_names) if len(v.split(' ')) == 2][:N]\n",
    "    print(\"\\n==> '{}':\".format(Product))\n",
    "    print(\"  * Top unigrams: %s\" %(', '.join(unigrams)))\n",
    "    print(\"  * Top bigrams: %s\" %(', '.join(bigrams)))"
   ]
  },
  {
   "cell_type": "markdown",
   "metadata": {},
   "source": [
    "### Predictions"
   ]
  },
  {
   "cell_type": "code",
   "execution_count": null,
   "metadata": {},
   "outputs": [],
   "source": [
    "X = df_model['Descriptor']\n",
    "y = df_model['Complaint Type']"
   ]
  },
  {
   "cell_type": "code",
   "execution_count": null,
   "metadata": {},
   "outputs": [],
   "source": [
    "X_train, X_test, y_train, y_test = train_test_split(X,y, \n",
    "                                                    test_size=0.25,\n",
    "                                                    random_state = 0)\n",
    "\n",
    "tfidf = TfidfVectorizer(sublinear_tf=True, min_df=5,\n",
    "                        ngram_range=(1, 2), \n",
    "                        stop_words='english')\n",
    "\n",
    "fitted_vectorizer = tfidf.fit(X_train)\n",
    "tfidf_vectorizer_vectors = fitted_vectorizer.transform(X_train)\n",
    "\n",
    "model = LinearSVC().fit(tfidf_vectorizer_vectors, y_train)"
   ]
  },
  {
   "cell_type": "markdown",
   "metadata": {},
   "source": [
    "##### I am predicting my model for new descriptors"
   ]
  },
  {
   "cell_type": "code",
   "execution_count": null,
   "metadata": {},
   "outputs": [],
   "source": [
    "new_descriptor1 = \"\"\"loud\"\"\"\n",
    "print(model.predict(fitted_vectorizer.transform([new_descriptor1])))"
   ]
  },
  {
   "cell_type": "code",
   "execution_count": null,
   "metadata": {},
   "outputs": [],
   "source": [
    "new_descriptor2 = \"\"\"rod\"\"\"\n",
    "print(model.predict(fitted_vectorizer.transform([new_descriptor2])))"
   ]
  },
  {
   "cell_type": "code",
   "execution_count": null,
   "metadata": {},
   "outputs": [],
   "source": [
    "new_descriptor3 = \"\"\"dirty\"\"\"\n",
    "print(model.predict(fitted_vectorizer.transform([new_descriptor3])))"
   ]
  },
  {
   "cell_type": "markdown",
   "metadata": {},
   "source": [
    "##### TF IDF Vectorization"
   ]
  },
  {
   "cell_type": "markdown",
   "metadata": {},
   "source": [
    "cv = CountVectorizer(min_df=10)\n",
    "X_agency = cv.fit_transform(df_model['Agency'])\n",
    "print(X_agency)\n",
    "\n",
    "##### Apply TFIDF to \"resolution description\", \n",
    "tv = TfidfVectorizer(max_features=55000, ngram_range=(1, 2), stop_words='english')\n",
    "X_description = tv.fit_transform(df_model['Resolution Description'])\n",
    "\n",
    "tv = TfidfVectorizer(max_features=55000, ngram_range=(1, 2), stop_words='english')\n",
    "X_descriptor = tv.fit_transform(df_model['Descriptor'])\n",
    "\n",
    "lb = LabelBinarizer(sparse_output=True)\n",
    "X_status = lb.fit_transform(df_model['Status'])\n",
    "\n",
    "lb = LabelBinarizer(sparse_output=True)\n",
    "X_comtype = lb.fit_transform(df_model['Complaint Type'])\n",
    "\n",
    "lb = LabelBinarizer(sparse_output=True)\n",
    "X_loctype = lb.fit_transform(df_model['Location Type'])\n",
    "\n",
    "##### Create our final sparse matrix\n",
    "X_dummies = csr_matrix(pd.get_dummies(df_model[['Total_Time', 'Resolution_Time','Year','Month','DayofWeek']], sparse=True).values)\n",
    "\n",
    "###### Combine everything together\n",
    "sparse_merge = hstack((X_dummies, X_description, X_descriptor, X_status, X_loctype)).tocsr()\n",
    "\n",
    "print(\"nrows\",sparse_merge.shape[0])"
   ]
  },
  {
   "cell_type": "code",
   "execution_count": 22,
   "metadata": {},
   "outputs": [],
   "source": [
    "import string\n",
    "import spacy\n",
    "import pickle\n",
    "\n",
    "import dask.dataframe as dd\n",
    "from dask.distributed import Client\n",
    "from dask_ml.model_selection import train_test_split\n",
    "from dask_ml.feature_extraction.text import HashingVectorizer\n",
    "from dask_ml.wrappers import Incremental\n",
    "from dask_ml.metrics import accuracy_score\n",
    "\n",
    "from spacy.lang.en.stop_words import STOP_WORDS\n",
    "from spacy.lang.en import English\n",
    "\n",
    "from sklearn.feature_extraction.text import CountVectorizer\n",
    "from sklearn.feature_extraction.text import TfidfTransformer\n",
    "from sklearn.pipeline import Pipeline\n",
    "from sklearn.utils import class_weight\n",
    "from sklearn.linear_model import SGDClassifier\n",
    "from sklearn.metrics import classification_report"
   ]
  },
  {
   "cell_type": "code",
   "execution_count": 23,
   "metadata": {},
   "outputs": [
    {
     "data": {
      "text/plain": [
       "(3094693, 11)"
      ]
     },
     "execution_count": 23,
     "metadata": {},
     "output_type": "execute_result"
    }
   ],
   "source": [
    "df_model.shape"
   ]
  },
  {
   "cell_type": "markdown",
   "metadata": {},
   "source": [
    "### DASK ML"
   ]
  },
  {
   "cell_type": "code",
   "execution_count": 24,
   "metadata": {},
   "outputs": [
    {
     "name": "stdout",
     "output_type": "stream",
     "text": [
      "Dask DataFrame Structure:\n",
      "               Agency Location Type Complaint Type Descriptor Resolution_Time Total_Time   Year  Month DayofWeek  Status Resolution Description\n",
      "npartitions=3                                                                                                                                  \n",
      "0              object        object         object     object         float64    float64  int64  int64     int64  object                 object\n",
      "39271             ...           ...            ...        ...             ...        ...    ...    ...       ...     ...                    ...\n",
      "79259             ...           ...            ...        ...             ...        ...    ...    ...       ...     ...                    ...\n",
      "133380            ...           ...            ...        ...             ...        ...    ...    ...       ...     ...                    ...\n",
      "Dask Name: from_pandas, 3 tasks\n"
     ]
    }
   ],
   "source": [
    "from dask import dataframe as dd \n",
    "sd = dd.from_pandas(df_model, npartitions=3)\n",
    "print (sd)"
   ]
  },
  {
   "cell_type": "code",
   "execution_count": 25,
   "metadata": {},
   "outputs": [
    {
     "data": {
      "text/html": [
       "<table style=\"border: 2px solid white;\">\n",
       "<tr>\n",
       "<td style=\"vertical-align: top; border: 0px solid white\">\n",
       "<h3 style=\"text-align: left;\">Client</h3>\n",
       "<ul style=\"text-align: left; list-style: none; margin: 0; padding: 0;\">\n",
       "  <li><b>Scheduler: </b>tcp://127.0.0.1:49546</li>\n",
       "  <li><b>Dashboard: </b><a href='http://127.0.0.1:8787/status' target='_blank'>http://127.0.0.1:8787/status</a>\n",
       "</ul>\n",
       "</td>\n",
       "<td style=\"vertical-align: top; border: 0px solid white\">\n",
       "<h3 style=\"text-align: left;\">Cluster</h3>\n",
       "<ul style=\"text-align: left; list-style:none; margin: 0; padding: 0;\">\n",
       "  <li><b>Workers: </b>5</li>\n",
       "  <li><b>Cores: </b>10</li>\n",
       "  <li><b>Memory: </b>15.00 GB</li>\n",
       "</ul>\n",
       "</td>\n",
       "</tr>\n",
       "</table>"
      ],
      "text/plain": [
       "<Client: 'tcp://127.0.0.1:49546' processes=5 threads=10, memory=15.00 GB>"
      ]
     },
     "execution_count": 25,
     "metadata": {},
     "output_type": "execute_result"
    }
   ],
   "source": [
    "from dask.distributed import Client\n",
    "\n",
    "client = Client(threads_per_worker=2,n_workers=5, memory_limit='3GB')\n",
    "client"
   ]
  },
  {
   "cell_type": "code",
   "execution_count": 26,
   "metadata": {},
   "outputs": [],
   "source": [
    "X = sd['Descriptor']\n",
    "ylabels = sd['Complaint Type']"
   ]
  },
  {
   "cell_type": "code",
   "execution_count": 27,
   "metadata": {},
   "outputs": [],
   "source": [
    "from sklearn.utils import class_weight\n",
    "keys = np.unique(ylabels.compute())\n",
    "values = class_weight.compute_class_weight('balanced',\n",
    "                                           keys,\n",
    "                                           ylabels.compute())\n",
    "class_weights = dict(zip(keys, values))\n"
   ]
  },
  {
   "cell_type": "code",
   "execution_count": 28,
   "metadata": {},
   "outputs": [
    {
     "data": {
      "text/plain": [
       "{'BuildingComplaints': 3.433420536443356,\n",
       " 'Construction/PlumbingComplaints': 0.9733869425509483,\n",
       " 'DOFComplaints': 41.96080106302202,\n",
       " 'HeatComplaints': 0.5392638727413145,\n",
       " 'HighwayComplaints': 11.589568727904608,\n",
       " 'HomelessComplaints': 13.46689730200174,\n",
       " 'NoiseComplaints': 0.2490926333385491,\n",
       " 'Other Complaints': 0.5232924600533524,\n",
       " 'Paint/PlasterComplaints': 2.0637890791720017,\n",
       " 'ParkingComplaints': 0.19370354096406958,\n",
       " 'SanitationComplaints': 0.6740312154238868,\n",
       " 'SewerComplaints': 76.34431122952438,\n",
       " 'StreetComplaints': 0.1889622057636809,\n",
       " 'TaxiComplaints': 12.348739864649174,\n",
       " 'TrafficComplaints': 16.084014178204647,\n",
       " 'WaterComplaints': 4.870648246077913,\n",
       " 'broken muni meter': 4.07359391124871,\n",
       " 'consumer complaint': 417.2994875943905,\n",
       " 'electric': 3.517240164389042,\n",
       " 'food establishment': 10.205424746075716,\n",
       " 'general': 7.197228268958845,\n",
       " 'missed collection all materials': 1.5108031923826486,\n",
       " 'nonconst': 5.589801528813363,\n",
       " 'rodent': 3.097195533991465}"
      ]
     },
     "execution_count": 28,
     "metadata": {},
     "output_type": "execute_result"
    }
   ],
   "source": [
    "class_weights"
   ]
  },
  {
   "cell_type": "code",
   "execution_count": 50,
   "metadata": {},
   "outputs": [],
   "source": [
    "X = sd['Descriptor']\n",
    "ylabels = sd['Complaint Type']\n",
    "X_train, X_test, y_train, y_test = train_test_split(X, ylabels, test_size=0.3)"
   ]
  },
  {
   "cell_type": "code",
   "execution_count": 51,
   "metadata": {},
   "outputs": [],
   "source": [
    "# Create our list of punctuation marks\n",
    "punctuations = string.punctuation\n",
    "\n",
    "# Create our list of stopwords\n",
    "nlp = spacy.load('en')\n",
    "stop_words = spacy.lang.en.stop_words.STOP_WORDS\n",
    "\n",
    "# Load English tokenizer, tagger, parser, NER and word vectors\n",
    "parser = English()"
   ]
  },
  {
   "cell_type": "code",
   "execution_count": 52,
   "metadata": {},
   "outputs": [],
   "source": [
    "def spacy_tokenizer(sentence):\n",
    "    # Creating our token object, which is used to create documents with linguistic annotations.\n",
    "    mytokens = parser(sentence)\n",
    "\n",
    "    # Lemmatizing each token and converting each token into lowercase\n",
    "    mytokens = [ word.lemma_.lower().strip() if word.lemma_ != \"-PRON-\" else word.lower_ for word in mytokens ]\n",
    "\n",
    "    # Removing stop words\n",
    "    mytokens = [ word for word in mytokens if word not in stop_words and word not in punctuations ]\n",
    "\n",
    "    # return preprocessed list of tokens\n",
    "    return mytokens"
   ]
  },
  {
   "cell_type": "markdown",
   "metadata": {},
   "source": [
    "#### Hashing Vecorization (Just like TF-IDF Vectorization in Pandas)\n",
    "\n",
    "1. text vectorizer implementation uses the hashing trick to find the **token string name to feature integer index mapping**\n",
    "\n",
    "2. **Less Memory** scaled for Large Data Sets\n",
    "\n",
    "3. parallel pipeline as there is no state computed during fit.\n"
   ]
  },
  {
   "cell_type": "code",
   "execution_count": 53,
   "metadata": {},
   "outputs": [],
   "source": [
    "from dask_ml.feature_extraction.text import HashingVectorizer\n",
    "hw_vector = HashingVectorizer(tokenizer = spacy_tokenizer, ngram_range=(1, 2), n_features=2**20)"
   ]
  },
  {
   "cell_type": "code",
   "execution_count": 54,
   "metadata": {},
   "outputs": [
    {
     "data": {
      "text/plain": [
       "HashingVectorizer(alternate_sign=True, analyzer='word', binary=False,\n",
       "                  decode_error='strict', dtype=<class 'numpy.float64'>,\n",
       "                  encoding='utf-8', input='content', lowercase=True,\n",
       "                  n_features=1048576, ngram_range=(1, 2), norm='l2',\n",
       "                  preprocessor=None, stop_words=None, strip_accents=None,\n",
       "                  token_pattern='(?u)\\\\b\\\\w\\\\w+\\\\b',\n",
       "                  tokenizer=<function spacy_tokenizer at 0x000001F8034C9AF8>)"
      ]
     },
     "execution_count": 54,
     "metadata": {},
     "output_type": "execute_result"
    }
   ],
   "source": [
    "hw_vector"
   ]
  },
  {
   "cell_type": "code",
   "execution_count": 55,
   "metadata": {},
   "outputs": [
    {
     "name": "stdout",
     "output_type": "stream",
     "text": [
      "Wall time: 0 ns\n"
     ]
    }
   ],
   "source": [
    "%time\n",
    "Feature_pipeline = Pipeline([('vectorizer', hw_vector)])\n",
    "Pipeline_Model = Feature_pipeline.fit(X_train.values)"
   ]
  },
  {
   "cell_type": "code",
   "execution_count": 56,
   "metadata": {},
   "outputs": [],
   "source": [
    "Text_preprocess_pipe = pickle.dumps(Pipeline_Model)\n",
    "Pipeline_Model = pickle.loads(Text_preprocess_pipe)"
   ]
  },
  {
   "cell_type": "code",
   "execution_count": 57,
   "metadata": {},
   "outputs": [
    {
     "name": "stdout",
     "output_type": "stream",
     "text": [
      "Wall time: 0 ns\n"
     ]
    }
   ],
   "source": [
    "%time\n",
    "X_transformed = Pipeline_Model.transform(X_train)"
   ]
  },
  {
   "cell_type": "code",
   "execution_count": 58,
   "metadata": {},
   "outputs": [
    {
     "name": "stdout",
     "output_type": "stream",
     "text": [
      "Wall time: 40.1 s\n"
     ]
    }
   ],
   "source": [
    "%%time\n",
    "import joblib\n",
    "estimator = SGDClassifier(random_state=10, max_iter=200, loss='modified_huber',class_weight = class_weights, n_jobs=-1)\n",
    "classifier = Incremental(estimator)\n",
    "Model = classifier.fit(X_transformed,y_train,classes=list(class_weights.keys()))"
   ]
  },
  {
   "cell_type": "code",
   "execution_count": 59,
   "metadata": {},
   "outputs": [
    {
     "data": {
      "text/html": [
       "<table>\n",
       "<tr>\n",
       "<td>\n",
       "<table>\n",
       "  <thead>\n",
       "    <tr><td> </td><th> Array </th><th> Chunk </th></tr>\n",
       "  </thead>\n",
       "  <tbody>\n",
       "    <tr><th> Bytes </th><td> unknown </td> <td> unknown </td></tr>\n",
       "    <tr><th> Shape </th><td> (nan,) </td> <td> (nan,) </td></tr>\n",
       "    <tr><th> Count </th><td> 18 Tasks </td><td> 3 Chunks </td></tr>\n",
       "    <tr><th> Type </th><td> int32 </td><td> numpy.ndarray </td></tr>\n",
       "  </tbody>\n",
       "</table>\n",
       "</td>\n",
       "<td>\n",
       "\n",
       "</td>\n",
       "</tr>\n",
       "</table>"
      ],
      "text/plain": [
       "dask.array<_predict, shape=(nan,), dtype=int32, chunksize=(nan,), chunktype=numpy.ndarray>"
      ]
     },
     "execution_count": 59,
     "metadata": {},
     "output_type": "execute_result"
    }
   ],
   "source": [
    "predictions = Model.predict(Pipeline_Model.transform(X_test))\n",
    "predictions"
   ]
  },
  {
   "cell_type": "code",
   "execution_count": 60,
   "metadata": {},
   "outputs": [],
   "source": [
    "ML_Model = pickle.dumps(Model)"
   ]
  },
  {
   "cell_type": "code",
   "execution_count": 61,
   "metadata": {},
   "outputs": [
    {
     "name": "stdout",
     "output_type": "stream",
     "text": [
      "Wall time: 0 ns\n"
     ]
    }
   ],
   "source": [
    "%time\n",
    "Model = pickle.loads(ML_Model)\n",
    "# X = Model.predict_proba(X_transformed).compute()"
   ]
  },
  {
   "cell_type": "code",
   "execution_count": 62,
   "metadata": {},
   "outputs": [
    {
     "name": "stdout",
     "output_type": "stream",
     "text": [
      "Wall time: 0 ns\n"
     ]
    }
   ],
   "source": [
    "%time\n",
    "x_test_transformed = Pipeline_Model.transform(X_test)\n",
    "y_pred = Model.predict(x_test_transformed).compute()"
   ]
  },
  {
   "cell_type": "code",
   "execution_count": 63,
   "metadata": {},
   "outputs": [
    {
     "name": "stdout",
     "output_type": "stream",
     "text": [
      "Wall time: 0 ns\n",
      "                                 precision    recall  f1-score   support\n",
      "\n",
      "             BuildingComplaints       0.74      1.00      0.85     26408\n",
      "Construction/PlumbingComplaints       0.99      0.81      0.89     92821\n",
      "                  DOFComplaints       1.00      1.00      1.00      2113\n",
      "                 HeatComplaints       1.00      1.00      1.00    167566\n",
      "              HighwayComplaints       0.90      0.88      0.89      7692\n",
      "             HomelessComplaints       0.69      1.00      0.82      6727\n",
      "                NoiseComplaints       1.00      1.00      1.00    362228\n",
      "               Other Complaints       0.95      0.97      0.96    172739\n",
      "        Paint/PlasterComplaints       1.00      0.98      0.99     43691\n",
      "              ParkingComplaints       1.00      0.98      0.99    466482\n",
      "           SanitationComplaints       1.00      1.00      1.00    133626\n",
      "                SewerComplaints       1.00      1.00      1.00      1212\n",
      "               StreetComplaints       1.00      0.99      0.99    477482\n",
      "                 TaxiComplaints       0.64      1.00      0.78      7279\n",
      "              TrafficComplaints       0.97      1.00      0.98      5643\n",
      "                WaterComplaints       0.95      1.00      0.97     18572\n",
      "              broken muni meter       0.73      1.00      0.84     22383\n",
      "             consumer complaint       0.40      0.98      0.57       214\n",
      "                       electric       0.98      0.96      0.97     25805\n",
      "             food establishment       1.00      0.99      0.99      8823\n",
      "                        general       0.75      0.90      0.82     12619\n",
      "missed collection all materials       1.00      1.00      1.00     59768\n",
      "                       nonconst       1.00      0.97      0.99     16097\n",
      "                         rodent       1.00      1.00      1.00     29277\n",
      "\n",
      "                       accuracy                           0.98   2167267\n",
      "                      macro avg       0.90      0.98      0.93   2167267\n",
      "                   weighted avg       0.98      0.98      0.98   2167267\n",
      "\n"
     ]
    }
   ],
   "source": [
    "%time\n",
    "print(classification_report(y_train,Model.predict(Pipeline_Model.transform(X_train)).compute()))"
   ]
  },
  {
   "cell_type": "code",
   "execution_count": 64,
   "metadata": {},
   "outputs": [
    {
     "name": "stdout",
     "output_type": "stream",
     "text": [
      "Wall time: 0 ns\n",
      "                                 precision    recall  f1-score   support\n",
      "\n",
      "             BuildingComplaints       0.73      1.00      0.84     11148\n",
      "Construction/PlumbingComplaints       0.99      0.81      0.89     39650\n",
      "                  DOFComplaints       1.00      1.00      1.00       960\n",
      "                 HeatComplaints       1.00      1.00      1.00     71548\n",
      "              HighwayComplaints       0.89      0.88      0.89      3434\n",
      "             HomelessComplaints       0.69      1.00      0.82      2848\n",
      "                NoiseComplaints       1.00      1.00      1.00    155433\n",
      "               Other Complaints       0.95      0.97      0.96     73673\n",
      "        Paint/PlasterComplaints       1.00      0.98      0.99     18789\n",
      "              ParkingComplaints       1.00      0.98      0.99    199203\n",
      "           SanitationComplaints       0.99      1.00      1.00     57679\n",
      "                SewerComplaints       1.00      1.00      1.00       477\n",
      "               StreetComplaints       1.00      0.99      0.99    204906\n",
      "                 TaxiComplaints       0.64      1.00      0.78      3163\n",
      "              TrafficComplaints       0.97      1.00      0.98      2374\n",
      "                WaterComplaints       0.94      1.00      0.97      7902\n",
      "              broken muni meter       0.72      1.00      0.84      9271\n",
      "             consumer complaint       0.46      0.95      0.62        95\n",
      "                       electric       0.98      0.96      0.97     10856\n",
      "             food establishment       1.00      0.99      0.99      3812\n",
      "                        general       0.75      0.90      0.82      5297\n",
      "missed collection all materials       1.00      1.00      1.00     25581\n",
      "                       nonconst       1.00      0.97      0.98      6971\n",
      "                         rodent       1.00      1.00      1.00     12356\n",
      "\n",
      "                       accuracy                           0.98    927426\n",
      "                      macro avg       0.90      0.97      0.93    927426\n",
      "                   weighted avg       0.98      0.98      0.98    927426\n",
      "\n"
     ]
    }
   ],
   "source": [
    "%time\n",
    "print(classification_report(y_test, y_pred))"
   ]
  },
  {
   "cell_type": "code",
   "execution_count": 65,
   "metadata": {},
   "outputs": [],
   "source": [
    "client.close()"
   ]
  },
  {
   "cell_type": "code",
   "execution_count": null,
   "metadata": {},
   "outputs": [],
   "source": []
  }
 ],
 "metadata": {
  "kernelspec": {
   "display_name": "Python 3",
   "language": "python",
   "name": "python3"
  },
  "language_info": {
   "codemirror_mode": {
    "name": "ipython",
    "version": 3
   },
   "file_extension": ".py",
   "mimetype": "text/x-python",
   "name": "python",
   "nbconvert_exporter": "python",
   "pygments_lexer": "ipython3",
   "version": "3.7.4"
  }
 },
 "nbformat": 4,
 "nbformat_minor": 2
}
