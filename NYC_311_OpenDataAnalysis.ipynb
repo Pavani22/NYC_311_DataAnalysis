{
 "cells": [
  {
   "cell_type": "markdown",
   "metadata": {},
   "source": [
    "# NYC OPEN DATA \n",
    "### _DATA SCIENCE - ASSESSMENT <a href=\"https://nycopendata.socrata.com/Social-Services/311-Service-Requests-from-2010-to-Present/erm2-nwe9\">NYC_OPEN_DATA</a>_\n",
    "\n",
    "### Author : VENKATA LAKSHMI PAVANI NRUSIMHADEVARA"
   ]
  },
  {
   "cell_type": "code",
   "execution_count": 3,
   "metadata": {},
   "outputs": [],
   "source": [
    "\n",
    "\n",
    "import requests\n",
    "import pandas as pd\n",
    "import json\n",
    "import psycopg2\n",
    "from sqlalchemy import create_engine \n",
    "from dask.diagnostics import ProgressBar\n",
    "import dask.dataframe as dd\n",
    "import dask.array as da\n",
    "import seaborn as sns\n",
    "import matplotlib.pyplot as plt\n",
    "import numpy as np\n",
    "import datetime"
   ]
  },
  {
   "cell_type": "markdown",
   "metadata": {},
   "source": [
    "## TASKS\n",
    "\n",
    "1. Find the number of Incidents reported in each Year and Borough with most incident requests\n",
    "\n",
    "2. Prediction of Type of Complaint"
   ]
  },
  {
   "cell_type": "markdown",
   "metadata": {},
   "source": [
    "This project is divided in 5 sections:\n",
    "\n",
    "   ## Introduction\n",
    "\n",
    "    Exploring The Data\n",
    "\n",
    "    2.1 The Data\n",
    "\n",
    "   ## Exploratory Data Analysis (EDA)\n",
    "\n",
    "    3.1 Missing Data\n",
    "    \n",
    "    3.2 Determining Categorical Outliers\n",
    "    \n",
    "    3.3 Data Mining\n",
    "\n",
    "    3.3 Feature Engineering\n",
    "\n",
    "       3.3.1 Processing Categorical Feature: Label-Encoding\n",
    "            \n",
    "       3.3.2  Adding and Removing Features\n",
    "       \n",
    "\n",
    "   ## Model Selection\n",
    "\n",
    "    4.1 Data Preparation: Training and Testing Sets\n",
    "\n",
    "    4.2 Model Selection: \n",
    "\n",
    "     4.2.1 Logistic Regression, Random Forests, KNN \n",
    "     \n",
    "     4.2.2 Multi Class Text Classification : Linear SVC\n",
    "\n",
    "     4.2.3 Accuracy,Confusion Matrix, Precision, Recall, F1-Score\n",
    "\n",
    "   ## Prediction of Complaints\n",
    "   \n",
    "   ## Data Visualization\n",
    "\n"
   ]
  },
  {
   "cell_type": "markdown",
   "metadata": {},
   "source": [
    "# Objective"
   ]
  },
  {
   "cell_type": "markdown",
   "metadata": {},
   "source": [
    "My goal in this notebook is to clean this unbalnced dataset and do some analysis to understand the data at higher level"
   ]
  },
  {
   "cell_type": "markdown",
   "metadata": {},
   "source": [
    "# Pipeline"
   ]
  },
  {
   "cell_type": "markdown",
   "metadata": {},
   "source": [
    "1. Obtaining the data is the first approach in solving the problem.\n",
    "\n",
    "2. Cleaning the data is the next step. This includes data imputation of missing or invalid data and fixing column names.\n",
    "\n"
   ]
  },
  {
   "cell_type": "markdown",
   "metadata": {},
   "source": [
    "# Extracting Data"
   ]
  },
  {
   "cell_type": "code",
   "execution_count": 4,
   "metadata": {},
   "outputs": [
    {
     "name": "stdout",
     "output_type": "stream",
     "text": [
      "Wall time: 233 ms\n"
     ]
    }
   ],
   "source": [
    "%time df = dd.read_csv(\"C:\\\\EZOIC_ASSESSMENT\\\\311_Service_Requests_from_2010_to_Present.csv\")"
   ]
  },
  {
   "cell_type": "code",
   "execution_count": 5,
   "metadata": {},
   "outputs": [
    {
     "name": "stdout",
     "output_type": "stream",
     "text": [
      "Unique Key                          int64\n",
      "Created Date                       object\n",
      "Closed Date                        object\n",
      "Agency                             object\n",
      "Agency Name                        object\n",
      "Complaint Type                     object\n",
      "Descriptor                         object\n",
      "Location Type                      object\n",
      "Incident Zip                        int64\n",
      "Incident Address                   object\n",
      "Street Name                        object\n",
      "Cross Street 1                     object\n",
      "Cross Street 2                     object\n",
      "Intersection Street 1              object\n",
      "Intersection Street 2              object\n",
      "Address Type                       object\n",
      "City                               object\n",
      "Landmark                          float64\n",
      "Facility Type                      object\n",
      "Status                             object\n",
      "Due Date                           object\n",
      "Resolution Description             object\n",
      "Resolution Action Updated Date     object\n",
      "Community Board                    object\n",
      "BBL                               float64\n",
      "Borough                            object\n",
      "X Coordinate (State Plane)          int64\n",
      "Y Coordinate (State Plane)          int64\n",
      "Open Data Channel Type             object\n",
      "Park Facility Name                 object\n",
      "Park Borough                       object\n",
      "Vehicle Type                      float64\n",
      "Taxi Company Borough              float64\n",
      "Taxi Pick Up Location              object\n",
      "Bridge Highway Name               float64\n",
      "Bridge Highway Direction          float64\n",
      "Road Ramp                         float64\n",
      "Bridge Highway Segment            float64\n",
      "Latitude                          float64\n",
      "Longitude                         float64\n",
      "Location                           object\n",
      "dtype: object\n"
     ]
    }
   ],
   "source": [
    "pd.set_option('display.max_rows',100)\n",
    "print(df.dtypes)"
   ]
  },
  {
   "cell_type": "code",
   "execution_count": 5,
   "metadata": {},
   "outputs": [],
   "source": [
    "#print(df.head())"
   ]
  },
  {
   "cell_type": "markdown",
   "metadata": {},
   "source": [
    "#### Some of the datatypes are wrong "
   ]
  },
  {
   "cell_type": "raw",
   "metadata": {},
   "source": [
    "Bridge Highway Direction\n",
    "'Bridge Highway Name'\n",
    "'Bridge Highway Segment'\n",
    " 'Landmark'\n",
    " 'Road Ramp'\n",
    " 'Taxi Company Borough'\n",
    " 'Vehicle Type'\n",
    " \n",
    " Also \n",
    " \n",
    " X and Y Coordinates should(can) be floats (large values possible)\n",
    " \n",
    " Note: BBL means Barrel Unit so its a number\n",
    " \n",
    " Also need to check Incident Zip ( Can be like 67220-2966 and when I checked the data some are like *,???,**), Latitude Longitude \n",
    " \n",
    " Date dataypes need to be changed but lets do it later coz removing null values is important\n"
   ]
  },
  {
   "cell_type": "markdown",
   "metadata": {},
   "source": [
    "### The data types were initialized incorrectly for some of the columns"
   ]
  },
  {
   "cell_type": "markdown",
   "metadata": {},
   "source": [
    "String columns should be intialized as 'Object' instead of 'float' we need to convert it in dataframe as below and deal with null values too"
   ]
  },
  {
   "cell_type": "code",
   "execution_count": 6,
   "metadata": {},
   "outputs": [
    {
     "name": "stdout",
     "output_type": "stream",
     "text": [
      "Wall time: 269 ms\n"
     ]
    }
   ],
   "source": [
    "%time df1 = dd.read_csv(\"C:\\\\EZOIC_ASSESSMENT\\\\311_Service_Requests_from_2010_to_Present.csv\",dtype={'Incident Zip':'object','Vehicle Type': 'object','Bridge Highway Direction': 'object','Bridge Highway Name': 'object','Bridge Highway Segment': 'object','Landmark': 'object','Road Ramp': 'object','Taxi Company Borough': 'object','X Coordinate (State Plane)':'float64','Y Coordinate (State Plane)':'float64'})"
   ]
  },
  {
   "cell_type": "code",
   "execution_count": 7,
   "metadata": {},
   "outputs": [
    {
     "data": {
      "text/plain": [
       "Unique Key                          int64\n",
       "Created Date                       object\n",
       "Closed Date                        object\n",
       "Agency                             object\n",
       "Agency Name                        object\n",
       "Complaint Type                     object\n",
       "Descriptor                         object\n",
       "Location Type                      object\n",
       "Incident Zip                       object\n",
       "Incident Address                   object\n",
       "Street Name                        object\n",
       "Cross Street 1                     object\n",
       "Cross Street 2                     object\n",
       "Intersection Street 1              object\n",
       "Intersection Street 2              object\n",
       "Address Type                       object\n",
       "City                               object\n",
       "Landmark                           object\n",
       "Facility Type                      object\n",
       "Status                             object\n",
       "Due Date                           object\n",
       "Resolution Description             object\n",
       "Resolution Action Updated Date     object\n",
       "Community Board                    object\n",
       "BBL                               float64\n",
       "Borough                            object\n",
       "X Coordinate (State Plane)        float64\n",
       "Y Coordinate (State Plane)        float64\n",
       "Open Data Channel Type             object\n",
       "Park Facility Name                 object\n",
       "Park Borough                       object\n",
       "Vehicle Type                       object\n",
       "Taxi Company Borough               object\n",
       "Taxi Pick Up Location              object\n",
       "Bridge Highway Name                object\n",
       "Bridge Highway Direction           object\n",
       "Road Ramp                          object\n",
       "Bridge Highway Segment             object\n",
       "Latitude                          float64\n",
       "Longitude                         float64\n",
       "Location                           object\n",
       "dtype: object"
      ]
     },
     "execution_count": 7,
     "metadata": {},
     "output_type": "execute_result"
    }
   ],
   "source": [
    "df1.dtypes"
   ]
  },
  {
   "cell_type": "markdown",
   "metadata": {},
   "source": [
    "Checking Missing Values on new dataframe"
   ]
  },
  {
   "cell_type": "markdown",
   "metadata": {},
   "source": [
    "#### MISSING VALUES"
   ]
  },
  {
   "cell_type": "code",
   "execution_count": 8,
   "metadata": {},
   "outputs": [
    {
     "data": {
      "text/plain": [
       "Dask Series Structure:\n",
       "npartitions=1\n",
       "Address Type                  int64\n",
       "Y Coordinate (State Plane)      ...\n",
       "dtype: int64\n",
       "Dask Name: dataframe-sum-agg, 996 tasks"
      ]
     },
     "execution_count": 8,
     "metadata": {},
     "output_type": "execute_result"
    }
   ],
   "source": [
    "missing_values = df1.isnull().sum()\n",
    "missing_values"
   ]
  },
  {
   "cell_type": "markdown",
   "metadata": {},
   "source": [
    "#### MISSING VALUES PERCENTAGE"
   ]
  },
  {
   "cell_type": "code",
   "execution_count": 9,
   "metadata": {},
   "outputs": [
    {
     "data": {
      "text/plain": [
       "Dask Series Structure:\n",
       "npartitions=1\n",
       "Address Type                  float64\n",
       "Y Coordinate (State Plane)        ...\n",
       "dtype: float64\n",
       "Dask Name: mul, 1397 tasks"
      ]
     },
     "execution_count": 9,
     "metadata": {},
     "output_type": "execute_result"
    }
   ],
   "source": [
    "missing_count = ((missing_values / df1.index.size) * 100)\n",
    "missing_count"
   ]
  },
  {
   "cell_type": "code",
   "execution_count": 10,
   "metadata": {},
   "outputs": [
    {
     "name": "stdout",
     "output_type": "stream",
     "text": [
      "[###########                             ] | 28% Completed | 53.9s"
     ]
    },
    {
     "name": "stderr",
     "output_type": "stream",
     "text": [
      "C:\\Users\\pavani.nrusimhadevar\\AppData\\Local\\Continuum\\anaconda3\\lib\\site-packages\\dask\\local.py:252: DtypeWarning: Columns (33) have mixed types. Specify dtype option on import or set low_memory=False.\n",
      "  args2 = [_execute_task(a, cache) for a in args]\n"
     ]
    },
    {
     "name": "stdout",
     "output_type": "stream",
     "text": [
      "[#############                           ] | 34% Completed |  1min  2.0s"
     ]
    },
    {
     "name": "stderr",
     "output_type": "stream",
     "text": [
      "C:\\Users\\pavani.nrusimhadevar\\AppData\\Local\\Continuum\\anaconda3\\lib\\site-packages\\dask\\local.py:252: DtypeWarning: Columns (20) have mixed types. Specify dtype option on import or set low_memory=False.\n",
      "  args2 = [_execute_task(a, cache) for a in args]\n"
     ]
    },
    {
     "name": "stdout",
     "output_type": "stream",
     "text": [
      "[##############                          ] | 36% Completed |  1min  8.9s"
     ]
    },
    {
     "name": "stderr",
     "output_type": "stream",
     "text": [
      "C:\\Users\\pavani.nrusimhadevar\\AppData\\Local\\Continuum\\anaconda3\\lib\\site-packages\\dask\\local.py:252: DtypeWarning: Columns (18,20) have mixed types. Specify dtype option on import or set low_memory=False.\n",
      "  args2 = [_execute_task(a, cache) for a in args]\n"
     ]
    },
    {
     "name": "stdout",
     "output_type": "stream",
     "text": [
      "[###############################         ] | 79% Completed |  2min 26.2s"
     ]
    },
    {
     "name": "stderr",
     "output_type": "stream",
     "text": [
      "C:\\Users\\pavani.nrusimhadevar\\AppData\\Local\\Continuum\\anaconda3\\lib\\site-packages\\dask\\local.py:252: DtypeWarning: Columns (20,33) have mixed types. Specify dtype option on import or set low_memory=False.\n",
      "  args2 = [_execute_task(a, cache) for a in args]\n"
     ]
    },
    {
     "name": "stdout",
     "output_type": "stream",
     "text": [
      "[################################        ] | 80% Completed |  2min 30.2s"
     ]
    },
    {
     "name": "stderr",
     "output_type": "stream",
     "text": [
      "C:\\Users\\pavani.nrusimhadevar\\AppData\\Local\\Continuum\\anaconda3\\lib\\site-packages\\dask\\local.py:252: DtypeWarning: Columns (18,20,33) have mixed types. Specify dtype option on import or set low_memory=False.\n",
      "  args2 = [_execute_task(a, cache) for a in args]\n"
     ]
    },
    {
     "name": "stdout",
     "output_type": "stream",
     "text": [
      "[########################################] | 100% Completed |  2min 57.4s\n"
     ]
    },
    {
     "data": {
      "text/plain": [
       "Unique Key                         0.000000\n",
       "Created Date                       0.000000\n",
       "Closed Date                        2.690807\n",
       "Agency                             0.000000\n",
       "Agency Name                        0.000000\n",
       "Complaint Type                     0.000000\n",
       "Descriptor                         1.131278\n",
       "Location Type                     24.963603\n",
       "Incident Zip                       5.830547\n",
       "Incident Address                  18.792759\n",
       "Street Name                       18.798970\n",
       "Cross Street 1                    33.027832\n",
       "Cross Street 2                    33.381905\n",
       "Intersection Street 1             81.865365\n",
       "Intersection Street 2             81.898895\n",
       "Address Type                       6.930854\n",
       "City                               6.117111\n",
       "Landmark                          96.974592\n",
       "Facility Type                     75.266947\n",
       "Status                             0.000000\n",
       "Due Date                          61.175572\n",
       "Resolution Description             2.227937\n",
       "Resolution Action Updated Date     1.312554\n",
       "Community Board                    0.000000\n",
       "BBL                               22.963091\n",
       "Borough                            0.000000\n",
       "X Coordinate (State Plane)         9.095809\n",
       "Y Coordinate (State Plane)         9.095809\n",
       "Open Data Channel Type             0.000000\n",
       "Park Facility Name                 0.004871\n",
       "Park Borough                       0.000000\n",
       "Vehicle Type                      99.962391\n",
       "Taxi Company Borough              99.913059\n",
       "Taxi Pick Up Location             99.195278\n",
       "Bridge Highway Name               99.767124\n",
       "Bridge Highway Direction          99.760057\n",
       "Road Ramp                         99.762047\n",
       "Bridge Highway Segment            99.745326\n",
       "Latitude                           9.095809\n",
       "Longitude                          9.095809\n",
       "Location                           9.095809\n",
       "dtype: float64"
      ]
     },
     "execution_count": 10,
     "metadata": {},
     "output_type": "execute_result"
    }
   ],
   "source": [
    "with ProgressBar():\n",
    "    missing_count_pct = missing_count.compute()\n",
    "missing_count_pct"
   ]
  },
  {
   "cell_type": "markdown",
   "metadata": {},
   "source": [
    "1. Now here It is impotrant to remove those columns whose missing value percentage is >60.\n",
    "2. We cant do operations/trainel model to predict a column whose 60 % of values are missing\n",
    "3. Borough has 0% values missing 2nd question can be answered but before that check for innacurate characters (Incident Zip)"
   ]
  },
  {
   "cell_type": "code",
   "execution_count": 11,
   "metadata": {},
   "outputs": [
    {
     "name": "stdout",
     "output_type": "stream",
     "text": [
      "[###########                             ] | 28% Completed | 50.8s"
     ]
    },
    {
     "name": "stderr",
     "output_type": "stream",
     "text": [
      "C:\\Users\\pavani.nrusimhadevar\\AppData\\Local\\Continuum\\anaconda3\\lib\\site-packages\\dask\\local.py:252: DtypeWarning: Columns (33) have mixed types. Specify dtype option on import or set low_memory=False.\n",
      "  args2 = [_execute_task(a, cache) for a in args]\n"
     ]
    },
    {
     "name": "stdout",
     "output_type": "stream",
     "text": [
      "[#############                           ] | 34% Completed | 58.5s"
     ]
    },
    {
     "name": "stderr",
     "output_type": "stream",
     "text": [
      "C:\\Users\\pavani.nrusimhadevar\\AppData\\Local\\Continuum\\anaconda3\\lib\\site-packages\\dask\\local.py:252: DtypeWarning: Columns (20) have mixed types. Specify dtype option on import or set low_memory=False.\n",
      "  args2 = [_execute_task(a, cache) for a in args]\n"
     ]
    },
    {
     "name": "stdout",
     "output_type": "stream",
     "text": [
      "[##############                          ] | 36% Completed |  1min  4.8s"
     ]
    },
    {
     "name": "stderr",
     "output_type": "stream",
     "text": [
      "C:\\Users\\pavani.nrusimhadevar\\AppData\\Local\\Continuum\\anaconda3\\lib\\site-packages\\dask\\local.py:252: DtypeWarning: Columns (18,20) have mixed types. Specify dtype option on import or set low_memory=False.\n",
      "  args2 = [_execute_task(a, cache) for a in args]\n"
     ]
    },
    {
     "name": "stdout",
     "output_type": "stream",
     "text": [
      "[###############################         ] | 79% Completed |  2min 16.4s"
     ]
    },
    {
     "name": "stderr",
     "output_type": "stream",
     "text": [
      "C:\\Users\\pavani.nrusimhadevar\\AppData\\Local\\Continuum\\anaconda3\\lib\\site-packages\\dask\\local.py:252: DtypeWarning: Columns (20,33) have mixed types. Specify dtype option on import or set low_memory=False.\n",
      "  args2 = [_execute_task(a, cache) for a in args]\n"
     ]
    },
    {
     "name": "stdout",
     "output_type": "stream",
     "text": [
      "[################################        ] | 80% Completed |  2min 20.1s"
     ]
    },
    {
     "name": "stderr",
     "output_type": "stream",
     "text": [
      "C:\\Users\\pavani.nrusimhadevar\\AppData\\Local\\Continuum\\anaconda3\\lib\\site-packages\\dask\\local.py:252: DtypeWarning: Columns (18,20,33) have mixed types. Specify dtype option on import or set low_memory=False.\n",
      "  args2 = [_execute_task(a, cache) for a in args]\n"
     ]
    },
    {
     "name": "stdout",
     "output_type": "stream",
     "text": [
      "[########################################] | 100% Completed |  2min 44.9s\n"
     ]
    }
   ],
   "source": [
    "columns_to_drop = missing_count_pct[missing_count_pct > 60].index\n",
    "with ProgressBar():\n",
    "    df_dropped = df1.drop(columns_to_drop, axis=1).persist()"
   ]
  },
  {
   "cell_type": "code",
   "execution_count": 9,
   "metadata": {
    "scrolled": true
   },
   "outputs": [
    {
     "data": {
      "text/plain": [
       "Unique Key                          int64\n",
       "Created Date                       object\n",
       "Closed Date                        object\n",
       "Agency                             object\n",
       "Agency Name                        object\n",
       "Complaint Type                     object\n",
       "Descriptor                         object\n",
       "Location Type                      object\n",
       "Incident Zip                       object\n",
       "Incident Address                   object\n",
       "Street Name                        object\n",
       "Cross Street 1                     object\n",
       "Cross Street 2                     object\n",
       "Address Type                       object\n",
       "City                               object\n",
       "Status                             object\n",
       "Resolution Description             object\n",
       "Resolution Action Updated Date     object\n",
       "Community Board                    object\n",
       "BBL                               float64\n",
       "Borough                            object\n",
       "X Coordinate (State Plane)        float64\n",
       "Y Coordinate (State Plane)        float64\n",
       "Open Data Channel Type             object\n",
       "Park Facility Name                 object\n",
       "Park Borough                       object\n",
       "Latitude                          float64\n",
       "Longitude                         float64\n",
       "Location                           object\n",
       "dtype: object"
      ]
     },
     "execution_count": 9,
     "metadata": {},
     "output_type": "execute_result"
    }
   ],
   "source": [
    "df_dropped.dtypes"
   ]
  },
  {
   "cell_type": "code",
   "execution_count": 13,
   "metadata": {},
   "outputs": [
    {
     "data": {
      "text/html": [
       "<div>\n",
       "<style scoped>\n",
       "    .dataframe tbody tr th:only-of-type {\n",
       "        vertical-align: middle;\n",
       "    }\n",
       "\n",
       "    .dataframe tbody tr th {\n",
       "        vertical-align: top;\n",
       "    }\n",
       "\n",
       "    .dataframe thead th {\n",
       "        text-align: right;\n",
       "    }\n",
       "</style>\n",
       "<table border=\"1\" class=\"dataframe\">\n",
       "  <thead>\n",
       "    <tr style=\"text-align: right;\">\n",
       "      <th></th>\n",
       "      <th>Unique Key</th>\n",
       "      <th>Created Date</th>\n",
       "      <th>Closed Date</th>\n",
       "      <th>Agency</th>\n",
       "      <th>Agency Name</th>\n",
       "      <th>Complaint Type</th>\n",
       "      <th>Descriptor</th>\n",
       "      <th>Location Type</th>\n",
       "      <th>Incident Zip</th>\n",
       "      <th>Incident Address</th>\n",
       "      <th>...</th>\n",
       "      <th>BBL</th>\n",
       "      <th>Borough</th>\n",
       "      <th>X Coordinate (State Plane)</th>\n",
       "      <th>Y Coordinate (State Plane)</th>\n",
       "      <th>Open Data Channel Type</th>\n",
       "      <th>Park Facility Name</th>\n",
       "      <th>Park Borough</th>\n",
       "      <th>Latitude</th>\n",
       "      <th>Longitude</th>\n",
       "      <th>Location</th>\n",
       "    </tr>\n",
       "  </thead>\n",
       "  <tbody>\n",
       "    <tr>\n",
       "      <th>83771</th>\n",
       "      <td>27842649</td>\n",
       "      <td>04/14/2014 08:48:00 AM</td>\n",
       "      <td>04/21/2014 04:45:00 PM</td>\n",
       "      <td>DEP</td>\n",
       "      <td>Department of Environmental Protection</td>\n",
       "      <td>Noise</td>\n",
       "      <td>Noise: Construction Equipment (NC1)</td>\n",
       "      <td>NaN</td>\n",
       "      <td>10006</td>\n",
       "      <td>34 WEST STREET</td>\n",
       "      <td>...</td>\n",
       "      <td>1.000168e+09</td>\n",
       "      <td>MANHATTAN</td>\n",
       "      <td>979814.0</td>\n",
       "      <td>196782.0</td>\n",
       "      <td>ONLINE</td>\n",
       "      <td>Unspecified</td>\n",
       "      <td>MANHATTAN</td>\n",
       "      <td>40.706797</td>\n",
       "      <td>-74.016000</td>\n",
       "      <td>(40.70679678045445, -74.01599985239896)</td>\n",
       "    </tr>\n",
       "    <tr>\n",
       "      <th>83772</th>\n",
       "      <td>27842650</td>\n",
       "      <td>04/14/2014 11:02:00 PM</td>\n",
       "      <td>04/15/2014 08:00:00 PM</td>\n",
       "      <td>DEP</td>\n",
       "      <td>Department of Environmental Protection</td>\n",
       "      <td>Noise</td>\n",
       "      <td>Noise: Jack Hammering (NC2)</td>\n",
       "      <td>NaN</td>\n",
       "      <td>10036</td>\n",
       "      <td>NaN</td>\n",
       "      <td>...</td>\n",
       "      <td>NaN</td>\n",
       "      <td>MANHATTAN</td>\n",
       "      <td>988913.0</td>\n",
       "      <td>214759.0</td>\n",
       "      <td>PHONE</td>\n",
       "      <td>Unspecified</td>\n",
       "      <td>MANHATTAN</td>\n",
       "      <td>40.756139</td>\n",
       "      <td>-73.983169</td>\n",
       "      <td>(40.75613911897527, -73.98316894112523)</td>\n",
       "    </tr>\n",
       "    <tr>\n",
       "      <th>83773</th>\n",
       "      <td>27842652</td>\n",
       "      <td>04/14/2014 12:21:00 PM</td>\n",
       "      <td>04/20/2014 06:30:00 PM</td>\n",
       "      <td>DEP</td>\n",
       "      <td>Department of Environmental Protection</td>\n",
       "      <td>Sewer</td>\n",
       "      <td>Defective/Missing Curb Piece (SC4)</td>\n",
       "      <td>NaN</td>\n",
       "      <td>11228</td>\n",
       "      <td>NaN</td>\n",
       "      <td>...</td>\n",
       "      <td>NaN</td>\n",
       "      <td>BROOKLYN</td>\n",
       "      <td>984518.0</td>\n",
       "      <td>164775.0</td>\n",
       "      <td>PHONE</td>\n",
       "      <td>Unspecified</td>\n",
       "      <td>BROOKLYN</td>\n",
       "      <td>40.618946</td>\n",
       "      <td>-73.999035</td>\n",
       "      <td>(40.61894576099455, -73.99903464452899)</td>\n",
       "    </tr>\n",
       "    <tr>\n",
       "      <th>83774</th>\n",
       "      <td>27842653</td>\n",
       "      <td>04/14/2014 01:26:00 PM</td>\n",
       "      <td>04/18/2014 10:45:00 AM</td>\n",
       "      <td>DEP</td>\n",
       "      <td>Department of Environmental Protection</td>\n",
       "      <td>Sewer</td>\n",
       "      <td>Catch Basin Clogged/Flooding (Use Comments) (SC)</td>\n",
       "      <td>NaN</td>\n",
       "      <td>10469</td>\n",
       "      <td>2305 ELY AVENUE</td>\n",
       "      <td>...</td>\n",
       "      <td>2.044220e+09</td>\n",
       "      <td>BRONX</td>\n",
       "      <td>1031185.0</td>\n",
       "      <td>252600.0</td>\n",
       "      <td>PHONE</td>\n",
       "      <td>Unspecified</td>\n",
       "      <td>BRONX</td>\n",
       "      <td>40.859879</td>\n",
       "      <td>-73.830324</td>\n",
       "      <td>(40.859878648052884, -73.83032415755054)</td>\n",
       "    </tr>\n",
       "    <tr>\n",
       "      <th>83775</th>\n",
       "      <td>27842654</td>\n",
       "      <td>04/14/2014 09:06:00 AM</td>\n",
       "      <td>04/14/2014 09:34:00 AM</td>\n",
       "      <td>DEP</td>\n",
       "      <td>Department of Environmental Protection</td>\n",
       "      <td>Sewer</td>\n",
       "      <td>Sewer Backup (Use Comments) (SA)</td>\n",
       "      <td>NaN</td>\n",
       "      <td>10472</td>\n",
       "      <td>1691 EAST  174 STREET</td>\n",
       "      <td>...</td>\n",
       "      <td>2.038920e+09</td>\n",
       "      <td>BRONX</td>\n",
       "      <td>1019600.0</td>\n",
       "      <td>243325.0</td>\n",
       "      <td>ONLINE</td>\n",
       "      <td>Unspecified</td>\n",
       "      <td>BRONX</td>\n",
       "      <td>40.834476</td>\n",
       "      <td>-73.872254</td>\n",
       "      <td>(40.83447552234542, -73.87225419756115)</td>\n",
       "    </tr>\n",
       "  </tbody>\n",
       "</table>\n",
       "<p>5 rows × 29 columns</p>\n",
       "</div>"
      ],
      "text/plain": [
       "       Unique Key            Created Date             Closed Date Agency  \\\n",
       "83771    27842649  04/14/2014 08:48:00 AM  04/21/2014 04:45:00 PM    DEP   \n",
       "83772    27842650  04/14/2014 11:02:00 PM  04/15/2014 08:00:00 PM    DEP   \n",
       "83773    27842652  04/14/2014 12:21:00 PM  04/20/2014 06:30:00 PM    DEP   \n",
       "83774    27842653  04/14/2014 01:26:00 PM  04/18/2014 10:45:00 AM    DEP   \n",
       "83775    27842654  04/14/2014 09:06:00 AM  04/14/2014 09:34:00 AM    DEP   \n",
       "\n",
       "                                  Agency Name Complaint Type  \\\n",
       "83771  Department of Environmental Protection          Noise   \n",
       "83772  Department of Environmental Protection          Noise   \n",
       "83773  Department of Environmental Protection          Sewer   \n",
       "83774  Department of Environmental Protection          Sewer   \n",
       "83775  Department of Environmental Protection          Sewer   \n",
       "\n",
       "                                             Descriptor Location Type  \\\n",
       "83771               Noise: Construction Equipment (NC1)           NaN   \n",
       "83772                       Noise: Jack Hammering (NC2)           NaN   \n",
       "83773                Defective/Missing Curb Piece (SC4)           NaN   \n",
       "83774  Catch Basin Clogged/Flooding (Use Comments) (SC)           NaN   \n",
       "83775                  Sewer Backup (Use Comments) (SA)           NaN   \n",
       "\n",
       "      Incident Zip       Incident Address  \\\n",
       "83771        10006         34 WEST STREET   \n",
       "83772        10036                    NaN   \n",
       "83773        11228                    NaN   \n",
       "83774        10469        2305 ELY AVENUE   \n",
       "83775        10472  1691 EAST  174 STREET   \n",
       "\n",
       "                         ...                              BBL    Borough  \\\n",
       "83771                    ...                     1.000168e+09  MANHATTAN   \n",
       "83772                    ...                              NaN  MANHATTAN   \n",
       "83773                    ...                              NaN   BROOKLYN   \n",
       "83774                    ...                     2.044220e+09      BRONX   \n",
       "83775                    ...                     2.038920e+09      BRONX   \n",
       "\n",
       "      X Coordinate (State Plane) Y Coordinate (State Plane)  \\\n",
       "83771                   979814.0                   196782.0   \n",
       "83772                   988913.0                   214759.0   \n",
       "83773                   984518.0                   164775.0   \n",
       "83774                  1031185.0                   252600.0   \n",
       "83775                  1019600.0                   243325.0   \n",
       "\n",
       "      Open Data Channel Type Park Facility Name Park Borough   Latitude  \\\n",
       "83771                 ONLINE        Unspecified    MANHATTAN  40.706797   \n",
       "83772                  PHONE        Unspecified    MANHATTAN  40.756139   \n",
       "83773                  PHONE        Unspecified     BROOKLYN  40.618946   \n",
       "83774                  PHONE        Unspecified        BRONX  40.859879   \n",
       "83775                 ONLINE        Unspecified        BRONX  40.834476   \n",
       "\n",
       "       Longitude                                  Location  \n",
       "83771 -74.016000   (40.70679678045445, -74.01599985239896)  \n",
       "83772 -73.983169   (40.75613911897527, -73.98316894112523)  \n",
       "83773 -73.999035   (40.61894576099455, -73.99903464452899)  \n",
       "83774 -73.830324  (40.859878648052884, -73.83032415755054)  \n",
       "83775 -73.872254   (40.83447552234542, -73.87225419756115)  \n",
       "\n",
       "[5 rows x 29 columns]"
      ]
     },
     "execution_count": 13,
     "metadata": {},
     "output_type": "execute_result"
    }
   ],
   "source": [
    "df_dropped.tail()"
   ]
  },
  {
   "cell_type": "code",
   "execution_count": 14,
   "metadata": {},
   "outputs": [
    {
     "name": "stdout",
     "output_type": "stream",
     "text": [
      "Before dropped Columns 22314047 41\n",
      "After dropped Columns 22314047 29\n"
     ]
    }
   ],
   "source": [
    "a = df1.shape\n",
    "print(\"Before dropped Columns\",a[0].compute(),a[1])\n",
    "a = df_dropped.shape\n",
    "print(\"After dropped Columns\",a[0].compute(),a[1])"
   ]
  },
  {
   "cell_type": "markdown",
   "metadata": {},
   "source": [
    "#### 1. How many incidents were opened in each year (beginning with 2010)?\n",
    "#### 2. Which borough has the most incidents?\n",
    "\n",
    "To Answer 1 and 2 and Questions\n",
    "1. Check Unique Key is not repeating (As Each Unique Key represents a service request)\n",
    "2. Convert Craeted Date (Incident is craeted on thsi date) look for year variable and count UniqueKeys"
   ]
  },
  {
   "cell_type": "code",
   "execution_count": 14,
   "metadata": {},
   "outputs": [],
   "source": [
    "df_incidents = pd.read_csv(\n",
    "    \"C:\\\\EZOIC_ASSESSMENT\\\\311_Service_Requests_from_2010_to_Present.csv\",\n",
    "    usecols = [\n",
    "        'Unique Key',\n",
    "        'Created Date',\n",
    "        'Closed Date',\n",
    "        'Borough',\n",
    "        'City'\n",
    "    ]\n",
    ")"
   ]
  },
  {
   "cell_type": "code",
   "execution_count": 15,
   "metadata": {},
   "outputs": [],
   "source": [
    "df_incidents[\"Created Date\"] = pd.to_datetime(\n",
    "    df_incidents[\"Created Date\"],\n",
    "    format = \"%m/%d/%Y %H:%M:%S %p\"   \n",
    ")"
   ]
  },
  {
   "cell_type": "code",
   "execution_count": 16,
   "metadata": {},
   "outputs": [
    {
     "data": {
      "text/html": [
       "<div>\n",
       "<style scoped>\n",
       "    .dataframe tbody tr th:only-of-type {\n",
       "        vertical-align: middle;\n",
       "    }\n",
       "\n",
       "    .dataframe tbody tr th {\n",
       "        vertical-align: top;\n",
       "    }\n",
       "\n",
       "    .dataframe thead th {\n",
       "        text-align: right;\n",
       "    }\n",
       "</style>\n",
       "<table border=\"1\" class=\"dataframe\">\n",
       "  <thead>\n",
       "    <tr style=\"text-align: right;\">\n",
       "      <th></th>\n",
       "      <th>Unique Key</th>\n",
       "      <th>Created Date</th>\n",
       "      <th>Closed Date</th>\n",
       "      <th>City</th>\n",
       "      <th>Borough</th>\n",
       "      <th>Year</th>\n",
       "    </tr>\n",
       "  </thead>\n",
       "  <tbody>\n",
       "    <tr>\n",
       "      <th>0</th>\n",
       "      <td>27842655</td>\n",
       "      <td>2014-04-14 02:42:00</td>\n",
       "      <td>08/20/2014 10:55:00 AM</td>\n",
       "      <td>STATEN ISLAND</td>\n",
       "      <td>STATEN ISLAND</td>\n",
       "      <td>2014</td>\n",
       "    </tr>\n",
       "    <tr>\n",
       "      <th>1</th>\n",
       "      <td>27842656</td>\n",
       "      <td>2014-04-14 11:04:00</td>\n",
       "      <td>05/01/2015 02:00:00 PM</td>\n",
       "      <td>BRONX</td>\n",
       "      <td>BRONX</td>\n",
       "      <td>2014</td>\n",
       "    </tr>\n",
       "    <tr>\n",
       "      <th>2</th>\n",
       "      <td>27842659</td>\n",
       "      <td>2014-04-14 01:27:00</td>\n",
       "      <td>04/14/2014 03:03:00 PM</td>\n",
       "      <td>Queens Village</td>\n",
       "      <td>QUEENS</td>\n",
       "      <td>2014</td>\n",
       "    </tr>\n",
       "    <tr>\n",
       "      <th>3</th>\n",
       "      <td>27842660</td>\n",
       "      <td>2014-04-14 12:51:00</td>\n",
       "      <td>04/14/2014 02:15:00 PM</td>\n",
       "      <td>STATEN ISLAND</td>\n",
       "      <td>STATEN ISLAND</td>\n",
       "      <td>2014</td>\n",
       "    </tr>\n",
       "    <tr>\n",
       "      <th>4</th>\n",
       "      <td>27842663</td>\n",
       "      <td>2014-04-14 12:35:00</td>\n",
       "      <td>04/14/2014 02:28:00 PM</td>\n",
       "      <td>Jamaica</td>\n",
       "      <td>QUEENS</td>\n",
       "      <td>2014</td>\n",
       "    </tr>\n",
       "    <tr>\n",
       "      <th>5</th>\n",
       "      <td>27842665</td>\n",
       "      <td>2014-04-14 09:11:00</td>\n",
       "      <td>04/17/2014 01:00:00 PM</td>\n",
       "      <td>STATEN ISLAND</td>\n",
       "      <td>STATEN ISLAND</td>\n",
       "      <td>2014</td>\n",
       "    </tr>\n",
       "    <tr>\n",
       "      <th>6</th>\n",
       "      <td>27842668</td>\n",
       "      <td>2014-04-14 12:35:00</td>\n",
       "      <td>04/15/2014 09:35:00 AM</td>\n",
       "      <td>BROOKLYN</td>\n",
       "      <td>BROOKLYN</td>\n",
       "      <td>2014</td>\n",
       "    </tr>\n",
       "    <tr>\n",
       "      <th>7</th>\n",
       "      <td>27842670</td>\n",
       "      <td>2014-04-14 08:16:00</td>\n",
       "      <td>04/24/2014 11:15:00 AM</td>\n",
       "      <td>NEW YORK</td>\n",
       "      <td>MANHATTAN</td>\n",
       "      <td>2014</td>\n",
       "    </tr>\n",
       "    <tr>\n",
       "      <th>8</th>\n",
       "      <td>27842671</td>\n",
       "      <td>2014-04-14 12:29:00</td>\n",
       "      <td>04/14/2014 07:10:00 PM</td>\n",
       "      <td>STATEN ISLAND</td>\n",
       "      <td>STATEN ISLAND</td>\n",
       "      <td>2014</td>\n",
       "    </tr>\n",
       "    <tr>\n",
       "      <th>9</th>\n",
       "      <td>27842672</td>\n",
       "      <td>2014-04-14 01:11:00</td>\n",
       "      <td>04/14/2014 07:00:00 AM</td>\n",
       "      <td>East Elmhurst</td>\n",
       "      <td>QUEENS</td>\n",
       "      <td>2014</td>\n",
       "    </tr>\n",
       "    <tr>\n",
       "      <th>10</th>\n",
       "      <td>27842673</td>\n",
       "      <td>2014-04-14 07:43:00</td>\n",
       "      <td>04/14/2014 07:55:00 AM</td>\n",
       "      <td>Flushing</td>\n",
       "      <td>QUEENS</td>\n",
       "      <td>2014</td>\n",
       "    </tr>\n",
       "    <tr>\n",
       "      <th>11</th>\n",
       "      <td>27842674</td>\n",
       "      <td>2014-04-14 09:32:00</td>\n",
       "      <td>04/15/2014 12:20:00 PM</td>\n",
       "      <td>BRONX</td>\n",
       "      <td>BRONX</td>\n",
       "      <td>2014</td>\n",
       "    </tr>\n",
       "    <tr>\n",
       "      <th>12</th>\n",
       "      <td>27842675</td>\n",
       "      <td>2014-04-14 11:59:00</td>\n",
       "      <td>04/14/2014 12:30:00 PM</td>\n",
       "      <td>STATEN ISLAND</td>\n",
       "      <td>STATEN ISLAND</td>\n",
       "      <td>2014</td>\n",
       "    </tr>\n",
       "    <tr>\n",
       "      <th>13</th>\n",
       "      <td>27842676</td>\n",
       "      <td>2014-04-14 03:40:00</td>\n",
       "      <td>05/30/2014 10:15:00 AM</td>\n",
       "      <td>Whitestone</td>\n",
       "      <td>QUEENS</td>\n",
       "      <td>2014</td>\n",
       "    </tr>\n",
       "    <tr>\n",
       "      <th>14</th>\n",
       "      <td>27842677</td>\n",
       "      <td>2014-04-14 12:13:00</td>\n",
       "      <td>04/15/2014 09:22:00 AM</td>\n",
       "      <td>STATEN ISLAND</td>\n",
       "      <td>STATEN ISLAND</td>\n",
       "      <td>2014</td>\n",
       "    </tr>\n",
       "    <tr>\n",
       "      <th>15</th>\n",
       "      <td>27842678</td>\n",
       "      <td>2014-04-14 06:48:00</td>\n",
       "      <td>04/14/2014 06:55:00 PM</td>\n",
       "      <td>BROOKLYN</td>\n",
       "      <td>BROOKLYN</td>\n",
       "      <td>2014</td>\n",
       "    </tr>\n",
       "    <tr>\n",
       "      <th>16</th>\n",
       "      <td>27842679</td>\n",
       "      <td>2014-04-14 01:21:00</td>\n",
       "      <td>04/14/2014 01:22:00 PM</td>\n",
       "      <td>BROOKLYN</td>\n",
       "      <td>BROOKLYN</td>\n",
       "      <td>2014</td>\n",
       "    </tr>\n",
       "    <tr>\n",
       "      <th>17</th>\n",
       "      <td>27842681</td>\n",
       "      <td>2014-04-14 12:32:00</td>\n",
       "      <td>04/14/2014 12:33:00 PM</td>\n",
       "      <td>BROOKLYN</td>\n",
       "      <td>BROOKLYN</td>\n",
       "      <td>2014</td>\n",
       "    </tr>\n",
       "    <tr>\n",
       "      <th>18</th>\n",
       "      <td>27842682</td>\n",
       "      <td>2014-04-14 11:38:00</td>\n",
       "      <td>04/15/2014 03:45:00 AM</td>\n",
       "      <td>NEW YORK</td>\n",
       "      <td>MANHATTAN</td>\n",
       "      <td>2014</td>\n",
       "    </tr>\n",
       "    <tr>\n",
       "      <th>19</th>\n",
       "      <td>27842683</td>\n",
       "      <td>2014-04-14 03:13:00</td>\n",
       "      <td>04/21/2014 12:00:00 PM</td>\n",
       "      <td>NEW YORK</td>\n",
       "      <td>MANHATTAN</td>\n",
       "      <td>2014</td>\n",
       "    </tr>\n",
       "    <tr>\n",
       "      <th>20</th>\n",
       "      <td>27842684</td>\n",
       "      <td>2014-04-14 12:00:00</td>\n",
       "      <td>05/19/2014 12:00:00 AM</td>\n",
       "      <td>BROOKLYN</td>\n",
       "      <td>BROOKLYN</td>\n",
       "      <td>2014</td>\n",
       "    </tr>\n",
       "    <tr>\n",
       "      <th>21</th>\n",
       "      <td>27842685</td>\n",
       "      <td>2014-04-14 03:11:00</td>\n",
       "      <td>04/14/2014 07:25:00 PM</td>\n",
       "      <td>BROOKLYN</td>\n",
       "      <td>BROOKLYN</td>\n",
       "      <td>2014</td>\n",
       "    </tr>\n",
       "    <tr>\n",
       "      <th>22</th>\n",
       "      <td>27842686</td>\n",
       "      <td>2014-04-14 02:41:00</td>\n",
       "      <td>04/14/2014 08:50:00 PM</td>\n",
       "      <td>BROOKLYN</td>\n",
       "      <td>BROOKLYN</td>\n",
       "      <td>2014</td>\n",
       "    </tr>\n",
       "    <tr>\n",
       "      <th>23</th>\n",
       "      <td>27842687</td>\n",
       "      <td>2014-04-14 12:31:00</td>\n",
       "      <td>04/16/2014 10:05:00 AM</td>\n",
       "      <td>BROOKLYN</td>\n",
       "      <td>BROOKLYN</td>\n",
       "      <td>2014</td>\n",
       "    </tr>\n",
       "    <tr>\n",
       "      <th>24</th>\n",
       "      <td>27842688</td>\n",
       "      <td>2014-04-14 07:27:00</td>\n",
       "      <td>04/15/2014 10:35:00 AM</td>\n",
       "      <td>Maspeth</td>\n",
       "      <td>QUEENS</td>\n",
       "      <td>2014</td>\n",
       "    </tr>\n",
       "    <tr>\n",
       "      <th>25</th>\n",
       "      <td>27842693</td>\n",
       "      <td>2014-04-14 12:00:00</td>\n",
       "      <td>04/22/2014 12:00:00 AM</td>\n",
       "      <td>NEW YORK</td>\n",
       "      <td>MANHATTAN</td>\n",
       "      <td>2014</td>\n",
       "    </tr>\n",
       "    <tr>\n",
       "      <th>26</th>\n",
       "      <td>27842694</td>\n",
       "      <td>2014-04-14 08:46:01</td>\n",
       "      <td>04/14/2014 08:46:01 AM</td>\n",
       "      <td>STATEN ISLAND</td>\n",
       "      <td>STATEN ISLAND</td>\n",
       "      <td>2014</td>\n",
       "    </tr>\n",
       "    <tr>\n",
       "      <th>27</th>\n",
       "      <td>27842698</td>\n",
       "      <td>2014-04-11 09:18:32</td>\n",
       "      <td>04/12/2014 12:10:00 PM</td>\n",
       "      <td>Queens Village</td>\n",
       "      <td>QUEENS</td>\n",
       "      <td>2014</td>\n",
       "    </tr>\n",
       "    <tr>\n",
       "      <th>28</th>\n",
       "      <td>27842700</td>\n",
       "      <td>2014-04-14 12:00:00</td>\n",
       "      <td>04/18/2014 12:00:00 AM</td>\n",
       "      <td>BRONX</td>\n",
       "      <td>BRONX</td>\n",
       "      <td>2014</td>\n",
       "    </tr>\n",
       "    <tr>\n",
       "      <th>29</th>\n",
       "      <td>27842703</td>\n",
       "      <td>2014-04-14 10:39:59</td>\n",
       "      <td>05/01/2014 10:16:00 AM</td>\n",
       "      <td>STATEN ISLAND</td>\n",
       "      <td>STATEN ISLAND</td>\n",
       "      <td>2014</td>\n",
       "    </tr>\n",
       "    <tr>\n",
       "      <th>30</th>\n",
       "      <td>27842704</td>\n",
       "      <td>2014-04-14 06:11:51</td>\n",
       "      <td>04/15/2014 07:35:00 AM</td>\n",
       "      <td>Flushing</td>\n",
       "      <td>QUEENS</td>\n",
       "      <td>2014</td>\n",
       "    </tr>\n",
       "    <tr>\n",
       "      <th>31</th>\n",
       "      <td>27842705</td>\n",
       "      <td>2014-04-14 10:56:41</td>\n",
       "      <td>04/24/2014 07:40:00 AM</td>\n",
       "      <td>Forest Hills</td>\n",
       "      <td>QUEENS</td>\n",
       "      <td>2014</td>\n",
       "    </tr>\n",
       "    <tr>\n",
       "      <th>32</th>\n",
       "      <td>27842706</td>\n",
       "      <td>2014-04-14 12:00:00</td>\n",
       "      <td>04/18/2014 12:00:00 AM</td>\n",
       "      <td>BROOKLYN</td>\n",
       "      <td>BROOKLYN</td>\n",
       "      <td>2014</td>\n",
       "    </tr>\n",
       "    <tr>\n",
       "      <th>33</th>\n",
       "      <td>27842708</td>\n",
       "      <td>2014-04-14 12:00:00</td>\n",
       "      <td>05/02/2014 11:47:37 AM</td>\n",
       "      <td>BROOKLYN</td>\n",
       "      <td>BROOKLYN</td>\n",
       "      <td>2014</td>\n",
       "    </tr>\n",
       "    <tr>\n",
       "      <th>34</th>\n",
       "      <td>27842709</td>\n",
       "      <td>2014-04-14 12:00:00</td>\n",
       "      <td>04/22/2014 03:40:43 PM</td>\n",
       "      <td>BRONX</td>\n",
       "      <td>BRONX</td>\n",
       "      <td>2014</td>\n",
       "    </tr>\n",
       "    <tr>\n",
       "      <th>35</th>\n",
       "      <td>27842711</td>\n",
       "      <td>2014-04-14 09:36:00</td>\n",
       "      <td>04/15/2014 12:00:00 PM</td>\n",
       "      <td>Jamaica</td>\n",
       "      <td>QUEENS</td>\n",
       "      <td>2014</td>\n",
       "    </tr>\n",
       "    <tr>\n",
       "      <th>36</th>\n",
       "      <td>27842714</td>\n",
       "      <td>2014-04-14 08:59:00</td>\n",
       "      <td>04/14/2014 12:00:00 PM</td>\n",
       "      <td>NEW YORK</td>\n",
       "      <td>MANHATTAN</td>\n",
       "      <td>2014</td>\n",
       "    </tr>\n",
       "    <tr>\n",
       "      <th>37</th>\n",
       "      <td>27842717</td>\n",
       "      <td>2014-04-14 09:27:57</td>\n",
       "      <td>04/14/2014 09:27:57 PM</td>\n",
       "      <td>STATEN ISLAND</td>\n",
       "      <td>STATEN ISLAND</td>\n",
       "      <td>2014</td>\n",
       "    </tr>\n",
       "    <tr>\n",
       "      <th>38</th>\n",
       "      <td>27842718</td>\n",
       "      <td>2014-04-11 09:58:03</td>\n",
       "      <td>04/12/2014 04:15:00 PM</td>\n",
       "      <td>Jamaica</td>\n",
       "      <td>QUEENS</td>\n",
       "      <td>2014</td>\n",
       "    </tr>\n",
       "    <tr>\n",
       "      <th>39</th>\n",
       "      <td>27842719</td>\n",
       "      <td>2014-04-14 10:02:00</td>\n",
       "      <td>04/11/2014 10:02:00 AM</td>\n",
       "      <td>BROOKLYN</td>\n",
       "      <td>BROOKLYN</td>\n",
       "      <td>2014</td>\n",
       "    </tr>\n",
       "    <tr>\n",
       "      <th>40</th>\n",
       "      <td>27842720</td>\n",
       "      <td>2014-04-14 03:51:18</td>\n",
       "      <td>04/14/2014 03:51:18 PM</td>\n",
       "      <td>BRONX</td>\n",
       "      <td>BRONX</td>\n",
       "      <td>2014</td>\n",
       "    </tr>\n",
       "    <tr>\n",
       "      <th>41</th>\n",
       "      <td>27842722</td>\n",
       "      <td>2014-04-11 09:50:35</td>\n",
       "      <td>04/12/2014 02:15:00 PM</td>\n",
       "      <td>South Ozone Park</td>\n",
       "      <td>QUEENS</td>\n",
       "      <td>2014</td>\n",
       "    </tr>\n",
       "    <tr>\n",
       "      <th>42</th>\n",
       "      <td>27842725</td>\n",
       "      <td>2014-04-11 08:23:48</td>\n",
       "      <td>04/12/2014 07:30:00 AM</td>\n",
       "      <td>Howard Beach</td>\n",
       "      <td>QUEENS</td>\n",
       "      <td>2014</td>\n",
       "    </tr>\n",
       "    <tr>\n",
       "      <th>43</th>\n",
       "      <td>27842726</td>\n",
       "      <td>2014-04-14 07:09:00</td>\n",
       "      <td>04/14/2014 12:00:00 PM</td>\n",
       "      <td>NEW YORK</td>\n",
       "      <td>MANHATTAN</td>\n",
       "      <td>2014</td>\n",
       "    </tr>\n",
       "    <tr>\n",
       "      <th>44</th>\n",
       "      <td>27842727</td>\n",
       "      <td>2014-04-14 02:23:10</td>\n",
       "      <td>04/14/2014 02:23:10 PM</td>\n",
       "      <td>STATEN ISLAND</td>\n",
       "      <td>STATEN ISLAND</td>\n",
       "      <td>2014</td>\n",
       "    </tr>\n",
       "    <tr>\n",
       "      <th>45</th>\n",
       "      <td>27842728</td>\n",
       "      <td>2014-04-14 04:02:20</td>\n",
       "      <td>04/14/2014 04:02:20 PM</td>\n",
       "      <td>Woodside</td>\n",
       "      <td>QUEENS</td>\n",
       "      <td>2014</td>\n",
       "    </tr>\n",
       "    <tr>\n",
       "      <th>46</th>\n",
       "      <td>27842729</td>\n",
       "      <td>2014-04-13 02:51:27</td>\n",
       "      <td>04/14/2014 02:00:00 PM</td>\n",
       "      <td>Bayside</td>\n",
       "      <td>QUEENS</td>\n",
       "      <td>2014</td>\n",
       "    </tr>\n",
       "    <tr>\n",
       "      <th>47</th>\n",
       "      <td>27842730</td>\n",
       "      <td>2014-04-11 09:42:00</td>\n",
       "      <td>04/12/2014 12:15:00 PM</td>\n",
       "      <td>Long Island City</td>\n",
       "      <td>QUEENS</td>\n",
       "      <td>2014</td>\n",
       "    </tr>\n",
       "    <tr>\n",
       "      <th>48</th>\n",
       "      <td>27842731</td>\n",
       "      <td>2014-04-11 09:21:50</td>\n",
       "      <td>04/12/2014 03:45:00 PM</td>\n",
       "      <td>Hollis</td>\n",
       "      <td>QUEENS</td>\n",
       "      <td>2014</td>\n",
       "    </tr>\n",
       "    <tr>\n",
       "      <th>49</th>\n",
       "      <td>27842732</td>\n",
       "      <td>2014-04-10 02:30:56</td>\n",
       "      <td>04/11/2014 09:00:00 PM</td>\n",
       "      <td>BROOKLYN</td>\n",
       "      <td>BROOKLYN</td>\n",
       "      <td>2014</td>\n",
       "    </tr>\n",
       "    <tr>\n",
       "      <th>...</th>\n",
       "      <td>...</td>\n",
       "      <td>...</td>\n",
       "      <td>...</td>\n",
       "      <td>...</td>\n",
       "      <td>...</td>\n",
       "      <td>...</td>\n",
       "    </tr>\n",
       "    <tr>\n",
       "      <th>22313997</th>\n",
       "      <td>27842583</td>\n",
       "      <td>2014-04-14 02:34:00</td>\n",
       "      <td>04/15/2014 02:01:00 PM</td>\n",
       "      <td>BROOKLYN</td>\n",
       "      <td>BROOKLYN</td>\n",
       "      <td>2014</td>\n",
       "    </tr>\n",
       "    <tr>\n",
       "      <th>22313998</th>\n",
       "      <td>27842589</td>\n",
       "      <td>2014-04-14 10:10:00</td>\n",
       "      <td>04/17/2014 10:30:00 PM</td>\n",
       "      <td>BROOKLYN</td>\n",
       "      <td>BROOKLYN</td>\n",
       "      <td>2014</td>\n",
       "    </tr>\n",
       "    <tr>\n",
       "      <th>22313999</th>\n",
       "      <td>27842591</td>\n",
       "      <td>2014-04-14 10:46:00</td>\n",
       "      <td>04/15/2014 10:20:00 AM</td>\n",
       "      <td>BROOKLYN</td>\n",
       "      <td>BROOKLYN</td>\n",
       "      <td>2014</td>\n",
       "    </tr>\n",
       "    <tr>\n",
       "      <th>22314000</th>\n",
       "      <td>27842592</td>\n",
       "      <td>2014-04-14 08:51:00</td>\n",
       "      <td>04/15/2014 10:13:00 AM</td>\n",
       "      <td>Forest Hills</td>\n",
       "      <td>QUEENS</td>\n",
       "      <td>2014</td>\n",
       "    </tr>\n",
       "    <tr>\n",
       "      <th>22314001</th>\n",
       "      <td>27842593</td>\n",
       "      <td>2014-04-14 04:38:00</td>\n",
       "      <td>04/15/2014 02:00:00 PM</td>\n",
       "      <td>BROOKLYN</td>\n",
       "      <td>BROOKLYN</td>\n",
       "      <td>2014</td>\n",
       "    </tr>\n",
       "    <tr>\n",
       "      <th>22314002</th>\n",
       "      <td>27842594</td>\n",
       "      <td>2014-04-14 03:28:00</td>\n",
       "      <td>04/16/2014 03:45:00 PM</td>\n",
       "      <td>Jamaica</td>\n",
       "      <td>QUEENS</td>\n",
       "      <td>2014</td>\n",
       "    </tr>\n",
       "    <tr>\n",
       "      <th>22314003</th>\n",
       "      <td>27842595</td>\n",
       "      <td>2014-04-14 10:56:00</td>\n",
       "      <td>04/17/2014 07:00:00 AM</td>\n",
       "      <td>BRONX</td>\n",
       "      <td>BRONX</td>\n",
       "      <td>2014</td>\n",
       "    </tr>\n",
       "    <tr>\n",
       "      <th>22314004</th>\n",
       "      <td>27842596</td>\n",
       "      <td>2014-04-14 08:44:00</td>\n",
       "      <td>04/18/2014 08:15:00 PM</td>\n",
       "      <td>NEW YORK</td>\n",
       "      <td>MANHATTAN</td>\n",
       "      <td>2014</td>\n",
       "    </tr>\n",
       "    <tr>\n",
       "      <th>22314005</th>\n",
       "      <td>27842597</td>\n",
       "      <td>2014-04-14 06:19:00</td>\n",
       "      <td>04/19/2014 12:30:00 AM</td>\n",
       "      <td>NEW YORK</td>\n",
       "      <td>MANHATTAN</td>\n",
       "      <td>2014</td>\n",
       "    </tr>\n",
       "    <tr>\n",
       "      <th>22314006</th>\n",
       "      <td>27842598</td>\n",
       "      <td>2014-04-14 01:36:00</td>\n",
       "      <td>05/04/2014 09:00:00 AM</td>\n",
       "      <td>BROOKLYN</td>\n",
       "      <td>BROOKLYN</td>\n",
       "      <td>2014</td>\n",
       "    </tr>\n",
       "    <tr>\n",
       "      <th>22314007</th>\n",
       "      <td>27842599</td>\n",
       "      <td>2014-04-14 07:58:00</td>\n",
       "      <td>04/21/2014 10:45:00 AM</td>\n",
       "      <td>NEW YORK</td>\n",
       "      <td>MANHATTAN</td>\n",
       "      <td>2014</td>\n",
       "    </tr>\n",
       "    <tr>\n",
       "      <th>22314008</th>\n",
       "      <td>27842600</td>\n",
       "      <td>2014-04-14 07:54:00</td>\n",
       "      <td>04/18/2014 03:00:00 PM</td>\n",
       "      <td>NEW YORK</td>\n",
       "      <td>MANHATTAN</td>\n",
       "      <td>2014</td>\n",
       "    </tr>\n",
       "    <tr>\n",
       "      <th>22314009</th>\n",
       "      <td>27842601</td>\n",
       "      <td>2014-04-14 07:59:00</td>\n",
       "      <td>04/17/2014 12:00:00 PM</td>\n",
       "      <td>Astoria</td>\n",
       "      <td>QUEENS</td>\n",
       "      <td>2014</td>\n",
       "    </tr>\n",
       "    <tr>\n",
       "      <th>22314010</th>\n",
       "      <td>27842602</td>\n",
       "      <td>2014-04-14 11:49:00</td>\n",
       "      <td>04/15/2014 12:00:00 PM</td>\n",
       "      <td>STATEN ISLAND</td>\n",
       "      <td>STATEN ISLAND</td>\n",
       "      <td>2014</td>\n",
       "    </tr>\n",
       "    <tr>\n",
       "      <th>22314011</th>\n",
       "      <td>27842603</td>\n",
       "      <td>2014-04-14 01:47:00</td>\n",
       "      <td>04/15/2014 12:00:00 PM</td>\n",
       "      <td>BROOKLYN</td>\n",
       "      <td>BROOKLYN</td>\n",
       "      <td>2014</td>\n",
       "    </tr>\n",
       "    <tr>\n",
       "      <th>22314012</th>\n",
       "      <td>27842604</td>\n",
       "      <td>2014-04-14 08:55:00</td>\n",
       "      <td>04/15/2014 12:00:00 PM</td>\n",
       "      <td>Jamaica</td>\n",
       "      <td>QUEENS</td>\n",
       "      <td>2014</td>\n",
       "    </tr>\n",
       "    <tr>\n",
       "      <th>22314013</th>\n",
       "      <td>27842605</td>\n",
       "      <td>2014-04-14 08:26:00</td>\n",
       "      <td>04/14/2014 12:00:00 PM</td>\n",
       "      <td>BRONX</td>\n",
       "      <td>BRONX</td>\n",
       "      <td>2014</td>\n",
       "    </tr>\n",
       "    <tr>\n",
       "      <th>22314014</th>\n",
       "      <td>27842606</td>\n",
       "      <td>2014-04-14 02:46:00</td>\n",
       "      <td>04/18/2014 02:35:00 PM</td>\n",
       "      <td>Middle Village</td>\n",
       "      <td>QUEENS</td>\n",
       "      <td>2014</td>\n",
       "    </tr>\n",
       "    <tr>\n",
       "      <th>22314015</th>\n",
       "      <td>27842609</td>\n",
       "      <td>2014-04-14 07:16:00</td>\n",
       "      <td>04/15/2014 10:30:00 AM</td>\n",
       "      <td>BRONX</td>\n",
       "      <td>BRONX</td>\n",
       "      <td>2014</td>\n",
       "    </tr>\n",
       "    <tr>\n",
       "      <th>22314016</th>\n",
       "      <td>27842612</td>\n",
       "      <td>2014-04-14 01:44:00</td>\n",
       "      <td>04/15/2014 05:30:00 PM</td>\n",
       "      <td>BROOKLYN</td>\n",
       "      <td>BROOKLYN</td>\n",
       "      <td>2014</td>\n",
       "    </tr>\n",
       "    <tr>\n",
       "      <th>22314017</th>\n",
       "      <td>27842613</td>\n",
       "      <td>2014-04-14 10:42:00</td>\n",
       "      <td>04/14/2014 11:50:00 AM</td>\n",
       "      <td>BROOKLYN</td>\n",
       "      <td>BROOKLYN</td>\n",
       "      <td>2014</td>\n",
       "    </tr>\n",
       "    <tr>\n",
       "      <th>22314018</th>\n",
       "      <td>27842766</td>\n",
       "      <td>2014-04-14 11:35:00</td>\n",
       "      <td>04/15/2014 12:00:00 PM</td>\n",
       "      <td>BRONX</td>\n",
       "      <td>BRONX</td>\n",
       "      <td>2014</td>\n",
       "    </tr>\n",
       "    <tr>\n",
       "      <th>22314019</th>\n",
       "      <td>27842614</td>\n",
       "      <td>2014-04-14 12:00:00</td>\n",
       "      <td>04/28/2014 12:00:00 AM</td>\n",
       "      <td>BRONX</td>\n",
       "      <td>BRONX</td>\n",
       "      <td>2014</td>\n",
       "    </tr>\n",
       "    <tr>\n",
       "      <th>22314020</th>\n",
       "      <td>27842615</td>\n",
       "      <td>2014-04-14 02:25:00</td>\n",
       "      <td>04/16/2014 12:00:00 PM</td>\n",
       "      <td>BROOKLYN</td>\n",
       "      <td>BROOKLYN</td>\n",
       "      <td>2014</td>\n",
       "    </tr>\n",
       "    <tr>\n",
       "      <th>22314021</th>\n",
       "      <td>27842616</td>\n",
       "      <td>2014-04-14 08:23:00</td>\n",
       "      <td>04/18/2014 09:45:00 AM</td>\n",
       "      <td>BROOKLYN</td>\n",
       "      <td>BROOKLYN</td>\n",
       "      <td>2014</td>\n",
       "    </tr>\n",
       "    <tr>\n",
       "      <th>22314022</th>\n",
       "      <td>27842620</td>\n",
       "      <td>2014-04-14 04:14:48</td>\n",
       "      <td>04/14/2014 08:20:18 PM</td>\n",
       "      <td>BRONX</td>\n",
       "      <td>BRONX</td>\n",
       "      <td>2014</td>\n",
       "    </tr>\n",
       "    <tr>\n",
       "      <th>22314023</th>\n",
       "      <td>27842622</td>\n",
       "      <td>2014-04-01 05:15:00</td>\n",
       "      <td>04/22/2014 11:30:00 AM</td>\n",
       "      <td>NEW YORK</td>\n",
       "      <td>MANHATTAN</td>\n",
       "      <td>2014</td>\n",
       "    </tr>\n",
       "    <tr>\n",
       "      <th>22314024</th>\n",
       "      <td>27842625</td>\n",
       "      <td>2014-04-14 10:49:00</td>\n",
       "      <td>04/15/2014 12:05:00 PM</td>\n",
       "      <td>BROOKLYN</td>\n",
       "      <td>BROOKLYN</td>\n",
       "      <td>2014</td>\n",
       "    </tr>\n",
       "    <tr>\n",
       "      <th>22314025</th>\n",
       "      <td>27842626</td>\n",
       "      <td>2014-04-14 09:21:00</td>\n",
       "      <td>05/22/2014 08:30:00 AM</td>\n",
       "      <td>BROOKLYN</td>\n",
       "      <td>BROOKLYN</td>\n",
       "      <td>2014</td>\n",
       "    </tr>\n",
       "    <tr>\n",
       "      <th>22314026</th>\n",
       "      <td>27842627</td>\n",
       "      <td>2014-04-14 02:01:00</td>\n",
       "      <td>04/14/2014 06:10:00 PM</td>\n",
       "      <td>East Elmhurst</td>\n",
       "      <td>QUEENS</td>\n",
       "      <td>2014</td>\n",
       "    </tr>\n",
       "    <tr>\n",
       "      <th>22314027</th>\n",
       "      <td>27842628</td>\n",
       "      <td>2014-04-14 11:31:00</td>\n",
       "      <td>04/21/2014 02:15:00 PM</td>\n",
       "      <td>NEW YORK</td>\n",
       "      <td>MANHATTAN</td>\n",
       "      <td>2014</td>\n",
       "    </tr>\n",
       "    <tr>\n",
       "      <th>22314028</th>\n",
       "      <td>27842630</td>\n",
       "      <td>2014-04-14 10:14:00</td>\n",
       "      <td>04/17/2014 11:30:00 AM</td>\n",
       "      <td>Saint Albans</td>\n",
       "      <td>QUEENS</td>\n",
       "      <td>2014</td>\n",
       "    </tr>\n",
       "    <tr>\n",
       "      <th>22314029</th>\n",
       "      <td>27842631</td>\n",
       "      <td>2014-04-14 08:56:00</td>\n",
       "      <td>04/15/2014 10:13:00 AM</td>\n",
       "      <td>BRONX</td>\n",
       "      <td>BRONX</td>\n",
       "      <td>2014</td>\n",
       "    </tr>\n",
       "    <tr>\n",
       "      <th>22314030</th>\n",
       "      <td>27842633</td>\n",
       "      <td>2014-04-14 04:11:00</td>\n",
       "      <td>04/21/2014 10:30:00 PM</td>\n",
       "      <td>Jamaica</td>\n",
       "      <td>QUEENS</td>\n",
       "      <td>2014</td>\n",
       "    </tr>\n",
       "    <tr>\n",
       "      <th>22314031</th>\n",
       "      <td>27842636</td>\n",
       "      <td>2014-04-14 03:58:32</td>\n",
       "      <td>04/14/2014 04:17:39 PM</td>\n",
       "      <td>SOUTH RICHMOND HILL</td>\n",
       "      <td>QUEENS</td>\n",
       "      <td>2014</td>\n",
       "    </tr>\n",
       "    <tr>\n",
       "      <th>22314032</th>\n",
       "      <td>27842638</td>\n",
       "      <td>2014-04-14 11:25:00</td>\n",
       "      <td>04/21/2014 11:45:00 PM</td>\n",
       "      <td>BROOKLYN</td>\n",
       "      <td>BROOKLYN</td>\n",
       "      <td>2014</td>\n",
       "    </tr>\n",
       "    <tr>\n",
       "      <th>22314033</th>\n",
       "      <td>27842639</td>\n",
       "      <td>2014-04-14 10:34:00</td>\n",
       "      <td>04/22/2014 01:00:00 AM</td>\n",
       "      <td>NEW YORK</td>\n",
       "      <td>MANHATTAN</td>\n",
       "      <td>2014</td>\n",
       "    </tr>\n",
       "    <tr>\n",
       "      <th>22314034</th>\n",
       "      <td>27842640</td>\n",
       "      <td>2014-04-14 08:45:00</td>\n",
       "      <td>04/19/2014 12:00:00 AM</td>\n",
       "      <td>NEW YORK</td>\n",
       "      <td>MANHATTAN</td>\n",
       "      <td>2014</td>\n",
       "    </tr>\n",
       "    <tr>\n",
       "      <th>22314035</th>\n",
       "      <td>27842641</td>\n",
       "      <td>2014-04-14 10:58:00</td>\n",
       "      <td>04/22/2014 01:00:00 AM</td>\n",
       "      <td>NEW YORK</td>\n",
       "      <td>MANHATTAN</td>\n",
       "      <td>2014</td>\n",
       "    </tr>\n",
       "    <tr>\n",
       "      <th>22314036</th>\n",
       "      <td>27842642</td>\n",
       "      <td>2014-04-14 06:54:00</td>\n",
       "      <td>04/14/2014 03:30:00 PM</td>\n",
       "      <td>NEW YORK</td>\n",
       "      <td>MANHATTAN</td>\n",
       "      <td>2014</td>\n",
       "    </tr>\n",
       "    <tr>\n",
       "      <th>22314037</th>\n",
       "      <td>27842643</td>\n",
       "      <td>2014-04-14 09:51:00</td>\n",
       "      <td>04/20/2014 12:00:00 AM</td>\n",
       "      <td>NEW YORK</td>\n",
       "      <td>MANHATTAN</td>\n",
       "      <td>2014</td>\n",
       "    </tr>\n",
       "    <tr>\n",
       "      <th>22314038</th>\n",
       "      <td>27842644</td>\n",
       "      <td>2014-04-14 07:18:00</td>\n",
       "      <td>04/18/2014 09:30:00 PM</td>\n",
       "      <td>NEW YORK</td>\n",
       "      <td>MANHATTAN</td>\n",
       "      <td>2014</td>\n",
       "    </tr>\n",
       "    <tr>\n",
       "      <th>22314039</th>\n",
       "      <td>27842645</td>\n",
       "      <td>2014-04-14 06:24:00</td>\n",
       "      <td>04/18/2014 08:15:00 PM</td>\n",
       "      <td>NEW YORK</td>\n",
       "      <td>MANHATTAN</td>\n",
       "      <td>2014</td>\n",
       "    </tr>\n",
       "    <tr>\n",
       "      <th>22314040</th>\n",
       "      <td>27842646</td>\n",
       "      <td>2014-04-14 05:06:00</td>\n",
       "      <td>04/17/2014 06:30:00 PM</td>\n",
       "      <td>BRONX</td>\n",
       "      <td>BRONX</td>\n",
       "      <td>2014</td>\n",
       "    </tr>\n",
       "    <tr>\n",
       "      <th>22314041</th>\n",
       "      <td>27842648</td>\n",
       "      <td>2014-04-14 09:53:00</td>\n",
       "      <td>04/18/2014 08:30:00 PM</td>\n",
       "      <td>NEW YORK</td>\n",
       "      <td>MANHATTAN</td>\n",
       "      <td>2014</td>\n",
       "    </tr>\n",
       "    <tr>\n",
       "      <th>22314042</th>\n",
       "      <td>27842649</td>\n",
       "      <td>2014-04-14 08:48:00</td>\n",
       "      <td>04/21/2014 04:45:00 PM</td>\n",
       "      <td>NEW YORK</td>\n",
       "      <td>MANHATTAN</td>\n",
       "      <td>2014</td>\n",
       "    </tr>\n",
       "    <tr>\n",
       "      <th>22314043</th>\n",
       "      <td>27842650</td>\n",
       "      <td>2014-04-14 11:02:00</td>\n",
       "      <td>04/15/2014 08:00:00 PM</td>\n",
       "      <td>NEW YORK</td>\n",
       "      <td>MANHATTAN</td>\n",
       "      <td>2014</td>\n",
       "    </tr>\n",
       "    <tr>\n",
       "      <th>22314044</th>\n",
       "      <td>27842652</td>\n",
       "      <td>2014-04-14 12:21:00</td>\n",
       "      <td>04/20/2014 06:30:00 PM</td>\n",
       "      <td>BROOKLYN</td>\n",
       "      <td>BROOKLYN</td>\n",
       "      <td>2014</td>\n",
       "    </tr>\n",
       "    <tr>\n",
       "      <th>22314045</th>\n",
       "      <td>27842653</td>\n",
       "      <td>2014-04-14 01:26:00</td>\n",
       "      <td>04/18/2014 10:45:00 AM</td>\n",
       "      <td>BRONX</td>\n",
       "      <td>BRONX</td>\n",
       "      <td>2014</td>\n",
       "    </tr>\n",
       "    <tr>\n",
       "      <th>22314046</th>\n",
       "      <td>27842654</td>\n",
       "      <td>2014-04-14 09:06:00</td>\n",
       "      <td>04/14/2014 09:34:00 AM</td>\n",
       "      <td>BRONX</td>\n",
       "      <td>BRONX</td>\n",
       "      <td>2014</td>\n",
       "    </tr>\n",
       "  </tbody>\n",
       "</table>\n",
       "<p>22314047 rows × 6 columns</p>\n",
       "</div>"
      ],
      "text/plain": [
       "          Unique Key        Created Date             Closed Date  \\\n",
       "0           27842655 2014-04-14 02:42:00  08/20/2014 10:55:00 AM   \n",
       "1           27842656 2014-04-14 11:04:00  05/01/2015 02:00:00 PM   \n",
       "2           27842659 2014-04-14 01:27:00  04/14/2014 03:03:00 PM   \n",
       "3           27842660 2014-04-14 12:51:00  04/14/2014 02:15:00 PM   \n",
       "4           27842663 2014-04-14 12:35:00  04/14/2014 02:28:00 PM   \n",
       "5           27842665 2014-04-14 09:11:00  04/17/2014 01:00:00 PM   \n",
       "6           27842668 2014-04-14 12:35:00  04/15/2014 09:35:00 AM   \n",
       "7           27842670 2014-04-14 08:16:00  04/24/2014 11:15:00 AM   \n",
       "8           27842671 2014-04-14 12:29:00  04/14/2014 07:10:00 PM   \n",
       "9           27842672 2014-04-14 01:11:00  04/14/2014 07:00:00 AM   \n",
       "10          27842673 2014-04-14 07:43:00  04/14/2014 07:55:00 AM   \n",
       "11          27842674 2014-04-14 09:32:00  04/15/2014 12:20:00 PM   \n",
       "12          27842675 2014-04-14 11:59:00  04/14/2014 12:30:00 PM   \n",
       "13          27842676 2014-04-14 03:40:00  05/30/2014 10:15:00 AM   \n",
       "14          27842677 2014-04-14 12:13:00  04/15/2014 09:22:00 AM   \n",
       "15          27842678 2014-04-14 06:48:00  04/14/2014 06:55:00 PM   \n",
       "16          27842679 2014-04-14 01:21:00  04/14/2014 01:22:00 PM   \n",
       "17          27842681 2014-04-14 12:32:00  04/14/2014 12:33:00 PM   \n",
       "18          27842682 2014-04-14 11:38:00  04/15/2014 03:45:00 AM   \n",
       "19          27842683 2014-04-14 03:13:00  04/21/2014 12:00:00 PM   \n",
       "20          27842684 2014-04-14 12:00:00  05/19/2014 12:00:00 AM   \n",
       "21          27842685 2014-04-14 03:11:00  04/14/2014 07:25:00 PM   \n",
       "22          27842686 2014-04-14 02:41:00  04/14/2014 08:50:00 PM   \n",
       "23          27842687 2014-04-14 12:31:00  04/16/2014 10:05:00 AM   \n",
       "24          27842688 2014-04-14 07:27:00  04/15/2014 10:35:00 AM   \n",
       "25          27842693 2014-04-14 12:00:00  04/22/2014 12:00:00 AM   \n",
       "26          27842694 2014-04-14 08:46:01  04/14/2014 08:46:01 AM   \n",
       "27          27842698 2014-04-11 09:18:32  04/12/2014 12:10:00 PM   \n",
       "28          27842700 2014-04-14 12:00:00  04/18/2014 12:00:00 AM   \n",
       "29          27842703 2014-04-14 10:39:59  05/01/2014 10:16:00 AM   \n",
       "30          27842704 2014-04-14 06:11:51  04/15/2014 07:35:00 AM   \n",
       "31          27842705 2014-04-14 10:56:41  04/24/2014 07:40:00 AM   \n",
       "32          27842706 2014-04-14 12:00:00  04/18/2014 12:00:00 AM   \n",
       "33          27842708 2014-04-14 12:00:00  05/02/2014 11:47:37 AM   \n",
       "34          27842709 2014-04-14 12:00:00  04/22/2014 03:40:43 PM   \n",
       "35          27842711 2014-04-14 09:36:00  04/15/2014 12:00:00 PM   \n",
       "36          27842714 2014-04-14 08:59:00  04/14/2014 12:00:00 PM   \n",
       "37          27842717 2014-04-14 09:27:57  04/14/2014 09:27:57 PM   \n",
       "38          27842718 2014-04-11 09:58:03  04/12/2014 04:15:00 PM   \n",
       "39          27842719 2014-04-14 10:02:00  04/11/2014 10:02:00 AM   \n",
       "40          27842720 2014-04-14 03:51:18  04/14/2014 03:51:18 PM   \n",
       "41          27842722 2014-04-11 09:50:35  04/12/2014 02:15:00 PM   \n",
       "42          27842725 2014-04-11 08:23:48  04/12/2014 07:30:00 AM   \n",
       "43          27842726 2014-04-14 07:09:00  04/14/2014 12:00:00 PM   \n",
       "44          27842727 2014-04-14 02:23:10  04/14/2014 02:23:10 PM   \n",
       "45          27842728 2014-04-14 04:02:20  04/14/2014 04:02:20 PM   \n",
       "46          27842729 2014-04-13 02:51:27  04/14/2014 02:00:00 PM   \n",
       "47          27842730 2014-04-11 09:42:00  04/12/2014 12:15:00 PM   \n",
       "48          27842731 2014-04-11 09:21:50  04/12/2014 03:45:00 PM   \n",
       "49          27842732 2014-04-10 02:30:56  04/11/2014 09:00:00 PM   \n",
       "...              ...                 ...                     ...   \n",
       "22313997    27842583 2014-04-14 02:34:00  04/15/2014 02:01:00 PM   \n",
       "22313998    27842589 2014-04-14 10:10:00  04/17/2014 10:30:00 PM   \n",
       "22313999    27842591 2014-04-14 10:46:00  04/15/2014 10:20:00 AM   \n",
       "22314000    27842592 2014-04-14 08:51:00  04/15/2014 10:13:00 AM   \n",
       "22314001    27842593 2014-04-14 04:38:00  04/15/2014 02:00:00 PM   \n",
       "22314002    27842594 2014-04-14 03:28:00  04/16/2014 03:45:00 PM   \n",
       "22314003    27842595 2014-04-14 10:56:00  04/17/2014 07:00:00 AM   \n",
       "22314004    27842596 2014-04-14 08:44:00  04/18/2014 08:15:00 PM   \n",
       "22314005    27842597 2014-04-14 06:19:00  04/19/2014 12:30:00 AM   \n",
       "22314006    27842598 2014-04-14 01:36:00  05/04/2014 09:00:00 AM   \n",
       "22314007    27842599 2014-04-14 07:58:00  04/21/2014 10:45:00 AM   \n",
       "22314008    27842600 2014-04-14 07:54:00  04/18/2014 03:00:00 PM   \n",
       "22314009    27842601 2014-04-14 07:59:00  04/17/2014 12:00:00 PM   \n",
       "22314010    27842602 2014-04-14 11:49:00  04/15/2014 12:00:00 PM   \n",
       "22314011    27842603 2014-04-14 01:47:00  04/15/2014 12:00:00 PM   \n",
       "22314012    27842604 2014-04-14 08:55:00  04/15/2014 12:00:00 PM   \n",
       "22314013    27842605 2014-04-14 08:26:00  04/14/2014 12:00:00 PM   \n",
       "22314014    27842606 2014-04-14 02:46:00  04/18/2014 02:35:00 PM   \n",
       "22314015    27842609 2014-04-14 07:16:00  04/15/2014 10:30:00 AM   \n",
       "22314016    27842612 2014-04-14 01:44:00  04/15/2014 05:30:00 PM   \n",
       "22314017    27842613 2014-04-14 10:42:00  04/14/2014 11:50:00 AM   \n",
       "22314018    27842766 2014-04-14 11:35:00  04/15/2014 12:00:00 PM   \n",
       "22314019    27842614 2014-04-14 12:00:00  04/28/2014 12:00:00 AM   \n",
       "22314020    27842615 2014-04-14 02:25:00  04/16/2014 12:00:00 PM   \n",
       "22314021    27842616 2014-04-14 08:23:00  04/18/2014 09:45:00 AM   \n",
       "22314022    27842620 2014-04-14 04:14:48  04/14/2014 08:20:18 PM   \n",
       "22314023    27842622 2014-04-01 05:15:00  04/22/2014 11:30:00 AM   \n",
       "22314024    27842625 2014-04-14 10:49:00  04/15/2014 12:05:00 PM   \n",
       "22314025    27842626 2014-04-14 09:21:00  05/22/2014 08:30:00 AM   \n",
       "22314026    27842627 2014-04-14 02:01:00  04/14/2014 06:10:00 PM   \n",
       "22314027    27842628 2014-04-14 11:31:00  04/21/2014 02:15:00 PM   \n",
       "22314028    27842630 2014-04-14 10:14:00  04/17/2014 11:30:00 AM   \n",
       "22314029    27842631 2014-04-14 08:56:00  04/15/2014 10:13:00 AM   \n",
       "22314030    27842633 2014-04-14 04:11:00  04/21/2014 10:30:00 PM   \n",
       "22314031    27842636 2014-04-14 03:58:32  04/14/2014 04:17:39 PM   \n",
       "22314032    27842638 2014-04-14 11:25:00  04/21/2014 11:45:00 PM   \n",
       "22314033    27842639 2014-04-14 10:34:00  04/22/2014 01:00:00 AM   \n",
       "22314034    27842640 2014-04-14 08:45:00  04/19/2014 12:00:00 AM   \n",
       "22314035    27842641 2014-04-14 10:58:00  04/22/2014 01:00:00 AM   \n",
       "22314036    27842642 2014-04-14 06:54:00  04/14/2014 03:30:00 PM   \n",
       "22314037    27842643 2014-04-14 09:51:00  04/20/2014 12:00:00 AM   \n",
       "22314038    27842644 2014-04-14 07:18:00  04/18/2014 09:30:00 PM   \n",
       "22314039    27842645 2014-04-14 06:24:00  04/18/2014 08:15:00 PM   \n",
       "22314040    27842646 2014-04-14 05:06:00  04/17/2014 06:30:00 PM   \n",
       "22314041    27842648 2014-04-14 09:53:00  04/18/2014 08:30:00 PM   \n",
       "22314042    27842649 2014-04-14 08:48:00  04/21/2014 04:45:00 PM   \n",
       "22314043    27842650 2014-04-14 11:02:00  04/15/2014 08:00:00 PM   \n",
       "22314044    27842652 2014-04-14 12:21:00  04/20/2014 06:30:00 PM   \n",
       "22314045    27842653 2014-04-14 01:26:00  04/18/2014 10:45:00 AM   \n",
       "22314046    27842654 2014-04-14 09:06:00  04/14/2014 09:34:00 AM   \n",
       "\n",
       "                         City        Borough  Year  \n",
       "0               STATEN ISLAND  STATEN ISLAND  2014  \n",
       "1                       BRONX          BRONX  2014  \n",
       "2              Queens Village         QUEENS  2014  \n",
       "3               STATEN ISLAND  STATEN ISLAND  2014  \n",
       "4                     Jamaica         QUEENS  2014  \n",
       "5               STATEN ISLAND  STATEN ISLAND  2014  \n",
       "6                    BROOKLYN       BROOKLYN  2014  \n",
       "7                    NEW YORK      MANHATTAN  2014  \n",
       "8               STATEN ISLAND  STATEN ISLAND  2014  \n",
       "9               East Elmhurst         QUEENS  2014  \n",
       "10                   Flushing         QUEENS  2014  \n",
       "11                      BRONX          BRONX  2014  \n",
       "12              STATEN ISLAND  STATEN ISLAND  2014  \n",
       "13                 Whitestone         QUEENS  2014  \n",
       "14              STATEN ISLAND  STATEN ISLAND  2014  \n",
       "15                   BROOKLYN       BROOKLYN  2014  \n",
       "16                   BROOKLYN       BROOKLYN  2014  \n",
       "17                   BROOKLYN       BROOKLYN  2014  \n",
       "18                   NEW YORK      MANHATTAN  2014  \n",
       "19                   NEW YORK      MANHATTAN  2014  \n",
       "20                   BROOKLYN       BROOKLYN  2014  \n",
       "21                   BROOKLYN       BROOKLYN  2014  \n",
       "22                   BROOKLYN       BROOKLYN  2014  \n",
       "23                   BROOKLYN       BROOKLYN  2014  \n",
       "24                    Maspeth         QUEENS  2014  \n",
       "25                   NEW YORK      MANHATTAN  2014  \n",
       "26              STATEN ISLAND  STATEN ISLAND  2014  \n",
       "27             Queens Village         QUEENS  2014  \n",
       "28                      BRONX          BRONX  2014  \n",
       "29              STATEN ISLAND  STATEN ISLAND  2014  \n",
       "30                   Flushing         QUEENS  2014  \n",
       "31               Forest Hills         QUEENS  2014  \n",
       "32                   BROOKLYN       BROOKLYN  2014  \n",
       "33                   BROOKLYN       BROOKLYN  2014  \n",
       "34                      BRONX          BRONX  2014  \n",
       "35                    Jamaica         QUEENS  2014  \n",
       "36                   NEW YORK      MANHATTAN  2014  \n",
       "37              STATEN ISLAND  STATEN ISLAND  2014  \n",
       "38                    Jamaica         QUEENS  2014  \n",
       "39                   BROOKLYN       BROOKLYN  2014  \n",
       "40                      BRONX          BRONX  2014  \n",
       "41           South Ozone Park         QUEENS  2014  \n",
       "42               Howard Beach         QUEENS  2014  \n",
       "43                   NEW YORK      MANHATTAN  2014  \n",
       "44              STATEN ISLAND  STATEN ISLAND  2014  \n",
       "45                   Woodside         QUEENS  2014  \n",
       "46                    Bayside         QUEENS  2014  \n",
       "47           Long Island City         QUEENS  2014  \n",
       "48                     Hollis         QUEENS  2014  \n",
       "49                   BROOKLYN       BROOKLYN  2014  \n",
       "...                       ...            ...   ...  \n",
       "22313997             BROOKLYN       BROOKLYN  2014  \n",
       "22313998             BROOKLYN       BROOKLYN  2014  \n",
       "22313999             BROOKLYN       BROOKLYN  2014  \n",
       "22314000         Forest Hills         QUEENS  2014  \n",
       "22314001             BROOKLYN       BROOKLYN  2014  \n",
       "22314002              Jamaica         QUEENS  2014  \n",
       "22314003                BRONX          BRONX  2014  \n",
       "22314004             NEW YORK      MANHATTAN  2014  \n",
       "22314005             NEW YORK      MANHATTAN  2014  \n",
       "22314006             BROOKLYN       BROOKLYN  2014  \n",
       "22314007             NEW YORK      MANHATTAN  2014  \n",
       "22314008             NEW YORK      MANHATTAN  2014  \n",
       "22314009              Astoria         QUEENS  2014  \n",
       "22314010        STATEN ISLAND  STATEN ISLAND  2014  \n",
       "22314011             BROOKLYN       BROOKLYN  2014  \n",
       "22314012              Jamaica         QUEENS  2014  \n",
       "22314013                BRONX          BRONX  2014  \n",
       "22314014       Middle Village         QUEENS  2014  \n",
       "22314015                BRONX          BRONX  2014  \n",
       "22314016             BROOKLYN       BROOKLYN  2014  \n",
       "22314017             BROOKLYN       BROOKLYN  2014  \n",
       "22314018                BRONX          BRONX  2014  \n",
       "22314019                BRONX          BRONX  2014  \n",
       "22314020             BROOKLYN       BROOKLYN  2014  \n",
       "22314021             BROOKLYN       BROOKLYN  2014  \n",
       "22314022                BRONX          BRONX  2014  \n",
       "22314023             NEW YORK      MANHATTAN  2014  \n",
       "22314024             BROOKLYN       BROOKLYN  2014  \n",
       "22314025             BROOKLYN       BROOKLYN  2014  \n",
       "22314026        East Elmhurst         QUEENS  2014  \n",
       "22314027             NEW YORK      MANHATTAN  2014  \n",
       "22314028         Saint Albans         QUEENS  2014  \n",
       "22314029                BRONX          BRONX  2014  \n",
       "22314030              Jamaica         QUEENS  2014  \n",
       "22314031  SOUTH RICHMOND HILL         QUEENS  2014  \n",
       "22314032             BROOKLYN       BROOKLYN  2014  \n",
       "22314033             NEW YORK      MANHATTAN  2014  \n",
       "22314034             NEW YORK      MANHATTAN  2014  \n",
       "22314035             NEW YORK      MANHATTAN  2014  \n",
       "22314036             NEW YORK      MANHATTAN  2014  \n",
       "22314037             NEW YORK      MANHATTAN  2014  \n",
       "22314038             NEW YORK      MANHATTAN  2014  \n",
       "22314039             NEW YORK      MANHATTAN  2014  \n",
       "22314040                BRONX          BRONX  2014  \n",
       "22314041             NEW YORK      MANHATTAN  2014  \n",
       "22314042             NEW YORK      MANHATTAN  2014  \n",
       "22314043             NEW YORK      MANHATTAN  2014  \n",
       "22314044             BROOKLYN       BROOKLYN  2014  \n",
       "22314045                BRONX          BRONX  2014  \n",
       "22314046                BRONX          BRONX  2014  \n",
       "\n",
       "[22314047 rows x 6 columns]"
      ]
     },
     "execution_count": 16,
     "metadata": {},
     "output_type": "execute_result"
    }
   ],
   "source": [
    "df_incidents_year = df_incidents[df_incidents['Created Date'].dt.year>2009]\n",
    "df_incidents_year['Year'] = df_incidents['Created Date'].dt.year\n",
    "df_incidents_year"
   ]
  },
  {
   "cell_type": "code",
   "execution_count": 17,
   "metadata": {},
   "outputs": [
    {
     "data": {
      "text/html": [
       "<div>\n",
       "<style scoped>\n",
       "    .dataframe tbody tr th:only-of-type {\n",
       "        vertical-align: middle;\n",
       "    }\n",
       "\n",
       "    .dataframe tbody tr th {\n",
       "        vertical-align: top;\n",
       "    }\n",
       "\n",
       "    .dataframe thead tr th {\n",
       "        text-align: left;\n",
       "    }\n",
       "</style>\n",
       "<table border=\"1\" class=\"dataframe\">\n",
       "  <thead>\n",
       "    <tr>\n",
       "      <th></th>\n",
       "      <th>Year</th>\n",
       "      <th>Unique Key</th>\n",
       "    </tr>\n",
       "    <tr>\n",
       "      <th></th>\n",
       "      <th></th>\n",
       "      <th>count</th>\n",
       "    </tr>\n",
       "  </thead>\n",
       "  <tbody>\n",
       "    <tr>\n",
       "      <th>0</th>\n",
       "      <td>2010</td>\n",
       "      <td>2031813</td>\n",
       "    </tr>\n",
       "    <tr>\n",
       "      <th>1</th>\n",
       "      <td>2011</td>\n",
       "      <td>1961598</td>\n",
       "    </tr>\n",
       "    <tr>\n",
       "      <th>2</th>\n",
       "      <td>2012</td>\n",
       "      <td>1796172</td>\n",
       "    </tr>\n",
       "    <tr>\n",
       "      <th>3</th>\n",
       "      <td>2013</td>\n",
       "      <td>1839974</td>\n",
       "    </tr>\n",
       "    <tr>\n",
       "      <th>4</th>\n",
       "      <td>2014</td>\n",
       "      <td>2114000</td>\n",
       "    </tr>\n",
       "    <tr>\n",
       "      <th>5</th>\n",
       "      <td>2015</td>\n",
       "      <td>2300760</td>\n",
       "    </tr>\n",
       "    <tr>\n",
       "      <th>6</th>\n",
       "      <td>2016</td>\n",
       "      <td>2391426</td>\n",
       "    </tr>\n",
       "    <tr>\n",
       "      <th>7</th>\n",
       "      <td>2017</td>\n",
       "      <td>2491969</td>\n",
       "    </tr>\n",
       "    <tr>\n",
       "      <th>8</th>\n",
       "      <td>2018</td>\n",
       "      <td>2747950</td>\n",
       "    </tr>\n",
       "    <tr>\n",
       "      <th>9</th>\n",
       "      <td>2019</td>\n",
       "      <td>2456825</td>\n",
       "    </tr>\n",
       "    <tr>\n",
       "      <th>10</th>\n",
       "      <td>2020</td>\n",
       "      <td>181560</td>\n",
       "    </tr>\n",
       "  </tbody>\n",
       "</table>\n",
       "</div>"
      ],
      "text/plain": [
       "    Year Unique Key\n",
       "              count\n",
       "0   2010    2031813\n",
       "1   2011    1961598\n",
       "2   2012    1796172\n",
       "3   2013    1839974\n",
       "4   2014    2114000\n",
       "5   2015    2300760\n",
       "6   2016    2391426\n",
       "7   2017    2491969\n",
       "8   2018    2747950\n",
       "9   2019    2456825\n",
       "10  2020     181560"
      ]
     },
     "execution_count": 17,
     "metadata": {},
     "output_type": "execute_result"
    }
   ],
   "source": [
    "k = pd.DataFrame(df_incidents_year[['Unique Key']].groupby(df_incidents_year['Year']).agg(['count'])).reset_index()\n",
    "k\n",
    "#k.info()"
   ]
  },
  {
   "cell_type": "code",
   "execution_count": 18,
   "metadata": {},
   "outputs": [],
   "source": [
    "k.to_csv(\"C:\\\\EZOIC_ASSESSMENT\\\\IncidentTrendByYear.csv\",index=False)"
   ]
  },
  {
   "cell_type": "code",
   "execution_count": 19,
   "metadata": {},
   "outputs": [
    {
     "data": {
      "text/html": [
       "<div>\n",
       "<style scoped>\n",
       "    .dataframe tbody tr th:only-of-type {\n",
       "        vertical-align: middle;\n",
       "    }\n",
       "\n",
       "    .dataframe tbody tr th {\n",
       "        vertical-align: top;\n",
       "    }\n",
       "\n",
       "    .dataframe thead tr th {\n",
       "        text-align: left;\n",
       "    }\n",
       "</style>\n",
       "<table border=\"1\" class=\"dataframe\">\n",
       "  <thead>\n",
       "    <tr>\n",
       "      <th></th>\n",
       "      <th>Borough</th>\n",
       "      <th>Unique Key</th>\n",
       "    </tr>\n",
       "    <tr>\n",
       "      <th></th>\n",
       "      <th></th>\n",
       "      <th>count</th>\n",
       "    </tr>\n",
       "  </thead>\n",
       "  <tbody>\n",
       "    <tr>\n",
       "      <th>0</th>\n",
       "      <td>BRONX</td>\n",
       "      <td>3891635</td>\n",
       "    </tr>\n",
       "    <tr>\n",
       "      <th>1</th>\n",
       "      <td>BROOKLYN</td>\n",
       "      <td>6642260</td>\n",
       "    </tr>\n",
       "    <tr>\n",
       "      <th>2</th>\n",
       "      <td>MANHATTAN</td>\n",
       "      <td>4345863</td>\n",
       "    </tr>\n",
       "    <tr>\n",
       "      <th>3</th>\n",
       "      <td>QUEENS</td>\n",
       "      <td>5103254</td>\n",
       "    </tr>\n",
       "    <tr>\n",
       "      <th>4</th>\n",
       "      <td>STATEN ISLAND</td>\n",
       "      <td>1119291</td>\n",
       "    </tr>\n",
       "    <tr>\n",
       "      <th>5</th>\n",
       "      <td>Unspecified</td>\n",
       "      <td>1211744</td>\n",
       "    </tr>\n",
       "  </tbody>\n",
       "</table>\n",
       "</div>"
      ],
      "text/plain": [
       "         Borough Unique Key\n",
       "                      count\n",
       "0          BRONX    3891635\n",
       "1       BROOKLYN    6642260\n",
       "2      MANHATTAN    4345863\n",
       "3         QUEENS    5103254\n",
       "4  STATEN ISLAND    1119291\n",
       "5    Unspecified    1211744"
      ]
     },
     "execution_count": 19,
     "metadata": {},
     "output_type": "execute_result"
    }
   ],
   "source": [
    "l = pd.DataFrame(df_incidents_year[['Unique Key']].groupby(df_incidents_year['Borough']).agg(['count'])).reset_index()\n",
    "l"
   ]
  },
  {
   "cell_type": "code",
   "execution_count": 20,
   "metadata": {},
   "outputs": [],
   "source": [
    "l.to_csv(\"C:\\\\EZOIC_ASSESSMENT\\\\BoroughIncidents.csv\",index=False)"
   ]
  },
  {
   "cell_type": "markdown",
   "metadata": {},
   "source": [
    "### Brooklyn has more Incidents"
   ]
  },
  {
   "cell_type": "code",
   "execution_count": 21,
   "metadata": {},
   "outputs": [
    {
     "data": {
      "image/png": "[encoded data removed]",
      "text/plain": [
       "<Figure size 720x720 with 1 Axes>"
      ]
     },
     "metadata": {},
     "output_type": "display_data"
    }
   ],
   "source": [
    "sns.set(font_scale=1.4)\n",
    "k.set_index('Year')['Unique Key'].plot(figsize=(10, 10), linewidth=2.5, color='maroon')\n",
    "plt.xlabel(\"Year\", labelpad=10)\n",
    "plt.ylabel(\"Inciden Count\", labelpad=10)\n",
    "plt.title(\"Incident Trend by Year\", y=1.02, fontsize=22);"
   ]
  },
  {
   "cell_type": "code",
   "execution_count": 22,
   "metadata": {},
   "outputs": [],
   "source": [
    "#df_incidents_year.groupby('Year')['Unique Key'].agg(['sum','count'])['count']"
   ]
  },
  {
   "cell_type": "code",
   "execution_count": 23,
   "metadata": {},
   "outputs": [
    {
     "name": "stdout",
     "output_type": "stream",
     "text": [
      "Divisons (None, None, None, None, None, None, None, None, None, None, None, None, None, None, None, None, None, None, None, None, None, None, None, None, None, None, None, None, None, None, None, None, None, None, None, None, None, None, None, None, None, None, None, None, None, None, None, None, None, None, None, None, None, None, None, None, None, None, None, None, None, None, None, None, None, None, None, None, None, None, None, None, None, None, None, None, None, None, None, None, None, None, None, None, None, None, None, None, None, None, None, None, None, None, None, None, None, None, None, None, None, None, None, None, None, None, None, None, None, None, None, None, None, None, None, None, None, None, None, None, None, None, None, None, None, None, None, None, None, None, None, None, None, None, None, None, None, None, None, None, None, None, None, None, None, None, None, None, None, None, None, None, None, None, None, None, None, None, None, None, None, None, None, None, None, None, None, None, None, None, None, None, None, None, None, None, None, None, None, None, None, None, None, None, None, None, None, None, None, None, None, None, None, None, None, None, None, None, None, None)\n",
      "Partitions 199\n"
     ]
    }
   ],
   "source": [
    "print(\"Divisons\",df_dropped.divisions)\n",
    "print(\"Partitions\",df_dropped.npartitions)"
   ]
  },
  {
   "cell_type": "markdown",
   "metadata": {},
   "source": [
    "#### Things to Look into\n",
    "1. Incident ZipCode\n",
    "2. Unspecified borough\n",
    "3. Data Type of Columns associated with date\n"
   ]
  },
  {
   "cell_type": "markdown",
   "metadata": {},
   "source": [
    "## Handling Zip Values"
   ]
  },
  {
   "cell_type": "code",
   "execution_count": 24,
   "metadata": {
    "scrolled": true
   },
   "outputs": [
    {
     "data": {
      "text/html": [
       "<div>\n",
       "<style scoped>\n",
       "    .dataframe tbody tr th:only-of-type {\n",
       "        vertical-align: middle;\n",
       "    }\n",
       "\n",
       "    .dataframe tbody tr th {\n",
       "        vertical-align: top;\n",
       "    }\n",
       "\n",
       "    .dataframe thead th {\n",
       "        text-align: right;\n",
       "    }\n",
       "</style>\n",
       "<table border=\"1\" class=\"dataframe\">\n",
       "  <thead>\n",
       "    <tr style=\"text-align: right;\">\n",
       "      <th></th>\n",
       "      <th>Unique Key</th>\n",
       "      <th>Created Date</th>\n",
       "      <th>Closed Date</th>\n",
       "      <th>Agency</th>\n",
       "      <th>Agency Name</th>\n",
       "      <th>Complaint Type</th>\n",
       "      <th>Descriptor</th>\n",
       "      <th>Location Type</th>\n",
       "      <th>Incident Zip</th>\n",
       "      <th>Incident Address</th>\n",
       "      <th>...</th>\n",
       "      <th>BBL</th>\n",
       "      <th>Borough</th>\n",
       "      <th>X Coordinate (State Plane)</th>\n",
       "      <th>Y Coordinate (State Plane)</th>\n",
       "      <th>Open Data Channel Type</th>\n",
       "      <th>Park Facility Name</th>\n",
       "      <th>Park Borough</th>\n",
       "      <th>Latitude</th>\n",
       "      <th>Longitude</th>\n",
       "      <th>Location</th>\n",
       "    </tr>\n",
       "  </thead>\n",
       "  <tbody>\n",
       "    <tr>\n",
       "      <th>0</th>\n",
       "      <td>27842655</td>\n",
       "      <td>04/14/2014 02:42:00 PM</td>\n",
       "      <td>08/20/2014 10:55:00 AM</td>\n",
       "      <td>DEP</td>\n",
       "      <td>Department of Environmental Protection</td>\n",
       "      <td>Water System</td>\n",
       "      <td>Defective Street Cut (WZZ1)</td>\n",
       "      <td>NaN</td>\n",
       "      <td>10303</td>\n",
       "      <td>2560 RICHMOND TERRACE</td>\n",
       "      <td>...</td>\n",
       "      <td>5.011500e+09</td>\n",
       "      <td>STATEN ISLAND</td>\n",
       "      <td>943586.0</td>\n",
       "      <td>171622.0</td>\n",
       "      <td>ONLINE</td>\n",
       "      <td>Unspecified</td>\n",
       "      <td>STATEN ISLAND</td>\n",
       "      <td>40.637646</td>\n",
       "      <td>-74.146516</td>\n",
       "      <td>(40.63764599489574, -74.14651579795446)</td>\n",
       "    </tr>\n",
       "    <tr>\n",
       "      <th>1</th>\n",
       "      <td>27842656</td>\n",
       "      <td>04/14/2014 11:04:00 AM</td>\n",
       "      <td>05/01/2015 02:00:00 PM</td>\n",
       "      <td>DEP</td>\n",
       "      <td>Department of Environmental Protection</td>\n",
       "      <td>Sewer</td>\n",
       "      <td>Catch Basin Sunken/Damaged/Raised (SC1)</td>\n",
       "      <td>NaN</td>\n",
       "      <td>10460</td>\n",
       "      <td>880 EAST TREMONT AVENUE</td>\n",
       "      <td>...</td>\n",
       "      <td>2.029600e+09</td>\n",
       "      <td>BRONX</td>\n",
       "      <td>1015835.0</td>\n",
       "      <td>246349.0</td>\n",
       "      <td>PHONE</td>\n",
       "      <td>Unspecified</td>\n",
       "      <td>BRONX</td>\n",
       "      <td>40.842790</td>\n",
       "      <td>-73.885846</td>\n",
       "      <td>(40.842789784424255, -73.88584568128475)</td>\n",
       "    </tr>\n",
       "    <tr>\n",
       "      <th>2</th>\n",
       "      <td>27842659</td>\n",
       "      <td>04/14/2014 01:27:00 PM</td>\n",
       "      <td>04/14/2014 03:03:00 PM</td>\n",
       "      <td>DEP</td>\n",
       "      <td>Department of Environmental Protection</td>\n",
       "      <td>Sewer</td>\n",
       "      <td>Sewer Backup (Use Comments) (SA)</td>\n",
       "      <td>NaN</td>\n",
       "      <td>11428</td>\n",
       "      <td>220-05 93 AVENUE</td>\n",
       "      <td>...</td>\n",
       "      <td>4.107330e+09</td>\n",
       "      <td>QUEENS</td>\n",
       "      <td>1057568.0</td>\n",
       "      <td>202719.0</td>\n",
       "      <td>PHONE</td>\n",
       "      <td>Unspecified</td>\n",
       "      <td>QUEENS</td>\n",
       "      <td>40.722790</td>\n",
       "      <td>-73.735491</td>\n",
       "      <td>(40.722789705537885, -73.73549132976942)</td>\n",
       "    </tr>\n",
       "    <tr>\n",
       "      <th>3</th>\n",
       "      <td>27842660</td>\n",
       "      <td>04/14/2014 12:51:00 PM</td>\n",
       "      <td>04/14/2014 02:15:00 PM</td>\n",
       "      <td>DEP</td>\n",
       "      <td>Department of Environmental Protection</td>\n",
       "      <td>Sewer</td>\n",
       "      <td>Sewer Backup (Use Comments) (SA)</td>\n",
       "      <td>NaN</td>\n",
       "      <td>10301</td>\n",
       "      <td>128 BENZIGER AVENUE</td>\n",
       "      <td>...</td>\n",
       "      <td>5.000380e+09</td>\n",
       "      <td>STATEN ISLAND</td>\n",
       "      <td>961206.0</td>\n",
       "      <td>172373.0</td>\n",
       "      <td>PHONE</td>\n",
       "      <td>Unspecified</td>\n",
       "      <td>STATEN ISLAND</td>\n",
       "      <td>40.639771</td>\n",
       "      <td>-74.083032</td>\n",
       "      <td>(40.63977069540825, -74.08303207959038)</td>\n",
       "    </tr>\n",
       "    <tr>\n",
       "      <th>4</th>\n",
       "      <td>27842663</td>\n",
       "      <td>04/14/2014 12:35:00 PM</td>\n",
       "      <td>04/14/2014 02:28:00 PM</td>\n",
       "      <td>DEP</td>\n",
       "      <td>Department of Environmental Protection</td>\n",
       "      <td>Sewer</td>\n",
       "      <td>Sewer Backup (Use Comments) (SA)</td>\n",
       "      <td>NaN</td>\n",
       "      <td>11434</td>\n",
       "      <td>132-41 BENNETT COURT</td>\n",
       "      <td>...</td>\n",
       "      <td>4.129840e+09</td>\n",
       "      <td>QUEENS</td>\n",
       "      <td>1050264.0</td>\n",
       "      <td>186435.0</td>\n",
       "      <td>PHONE</td>\n",
       "      <td>Unspecified</td>\n",
       "      <td>QUEENS</td>\n",
       "      <td>40.678152</td>\n",
       "      <td>-73.762001</td>\n",
       "      <td>(40.678151620421175, -73.76200138093122)</td>\n",
       "    </tr>\n",
       "  </tbody>\n",
       "</table>\n",
       "<p>5 rows × 29 columns</p>\n",
       "</div>"
      ],
      "text/plain": [
       "   Unique Key            Created Date             Closed Date Agency  \\\n",
       "0    27842655  04/14/2014 02:42:00 PM  08/20/2014 10:55:00 AM    DEP   \n",
       "1    27842656  04/14/2014 11:04:00 AM  05/01/2015 02:00:00 PM    DEP   \n",
       "2    27842659  04/14/2014 01:27:00 PM  04/14/2014 03:03:00 PM    DEP   \n",
       "3    27842660  04/14/2014 12:51:00 PM  04/14/2014 02:15:00 PM    DEP   \n",
       "4    27842663  04/14/2014 12:35:00 PM  04/14/2014 02:28:00 PM    DEP   \n",
       "\n",
       "                              Agency Name Complaint Type  \\\n",
       "0  Department of Environmental Protection   Water System   \n",
       "1  Department of Environmental Protection          Sewer   \n",
       "2  Department of Environmental Protection          Sewer   \n",
       "3  Department of Environmental Protection          Sewer   \n",
       "4  Department of Environmental Protection          Sewer   \n",
       "\n",
       "                                Descriptor Location Type Incident Zip  \\\n",
       "0              Defective Street Cut (WZZ1)           NaN        10303   \n",
       "1  Catch Basin Sunken/Damaged/Raised (SC1)           NaN        10460   \n",
       "2         Sewer Backup (Use Comments) (SA)           NaN        11428   \n",
       "3         Sewer Backup (Use Comments) (SA)           NaN        10301   \n",
       "4         Sewer Backup (Use Comments) (SA)           NaN        11434   \n",
       "\n",
       "          Incident Address                    ...                     \\\n",
       "0    2560 RICHMOND TERRACE                    ...                      \n",
       "1  880 EAST TREMONT AVENUE                    ...                      \n",
       "2         220-05 93 AVENUE                    ...                      \n",
       "3      128 BENZIGER AVENUE                    ...                      \n",
       "4     132-41 BENNETT COURT                    ...                      \n",
       "\n",
       "            BBL        Borough X Coordinate (State Plane)  \\\n",
       "0  5.011500e+09  STATEN ISLAND                   943586.0   \n",
       "1  2.029600e+09          BRONX                  1015835.0   \n",
       "2  4.107330e+09         QUEENS                  1057568.0   \n",
       "3  5.000380e+09  STATEN ISLAND                   961206.0   \n",
       "4  4.129840e+09         QUEENS                  1050264.0   \n",
       "\n",
       "  Y Coordinate (State Plane) Open Data Channel Type Park Facility Name  \\\n",
       "0                   171622.0                 ONLINE        Unspecified   \n",
       "1                   246349.0                  PHONE        Unspecified   \n",
       "2                   202719.0                  PHONE        Unspecified   \n",
       "3                   172373.0                  PHONE        Unspecified   \n",
       "4                   186435.0                  PHONE        Unspecified   \n",
       "\n",
       "    Park Borough   Latitude  Longitude  \\\n",
       "0  STATEN ISLAND  40.637646 -74.146516   \n",
       "1          BRONX  40.842790 -73.885846   \n",
       "2         QUEENS  40.722790 -73.735491   \n",
       "3  STATEN ISLAND  40.639771 -74.083032   \n",
       "4         QUEENS  40.678152 -73.762001   \n",
       "\n",
       "                                   Location  \n",
       "0   (40.63764599489574, -74.14651579795446)  \n",
       "1  (40.842789784424255, -73.88584568128475)  \n",
       "2  (40.722789705537885, -73.73549132976942)  \n",
       "3   (40.63977069540825, -74.08303207959038)  \n",
       "4  (40.678151620421175, -73.76200138093122)  \n",
       "\n",
       "[5 rows x 29 columns]"
      ]
     },
     "execution_count": 24,
     "metadata": {},
     "output_type": "execute_result"
    }
   ],
   "source": [
    "df_dropped.head()"
   ]
  },
  {
   "cell_type": "code",
   "execution_count": 25,
   "metadata": {},
   "outputs": [
    {
     "data": {
      "text/plain": [
       "(Delayed('int-16c4a519-8cf2-451a-9ad0-56f2c97514a7'), 29)"
      ]
     },
     "execution_count": 25,
     "metadata": {},
     "output_type": "execute_result"
    }
   ],
   "source": [
    "df_dropped.shape"
   ]
  },
  {
   "cell_type": "code",
   "execution_count": 21,
   "metadata": {},
   "outputs": [
    {
     "data": {
      "text/plain": [
       "0      10303\n",
       "1      10460\n",
       "2      11428\n",
       "3      10301\n",
       "4      11434\n",
       "5      11210\n",
       "6      10017\n",
       "7      10312\n",
       "8      11370\n",
       "9      11355\n",
       "10     10467\n",
       "11     10304\n",
       "12     11357\n",
       "13     11226\n",
       "14     11214\n",
       "15     10009\n",
       "16     10003\n",
       "17     11217\n",
       "18     11201\n",
       "19     11236\n",
       "20     11211\n",
       "21     11378\n",
       "22     10162\n",
       "23     11429\n",
       "24     11354\n",
       "25     11375\n",
       "26     11235\n",
       "27     10463\n",
       "28     11432\n",
       "29     10013\n",
       "30     10306\n",
       "31     11436\n",
       "32     11231\n",
       "33     10472\n",
       "34     11420\n",
       "35     11414\n",
       "36     10011\n",
       "37     11377\n",
       "38     11360\n",
       "39     11101\n",
       "40     11423\n",
       "41     11218\n",
       "42     10465\n",
       "43     11204\n",
       "44     11232\n",
       "45     11249\n",
       "46     10464\n",
       "47     11361\n",
       "48     11229\n",
       "49     11220\n",
       "       ...  \n",
       "813    14726\n",
       "814    10590\n",
       "815    10582\n",
       "816    12189\n",
       "817    16335\n",
       "818    11408\n",
       "819    11307\n",
       "820    19139\n",
       "821    13601\n",
       "822    11799\n",
       "823    13053\n",
       "824    11765\n",
       "825    12775\n",
       "826    14303\n",
       "827    10516\n",
       "828    10396\n",
       "829    11091\n",
       "830    11937\n",
       "831    14266\n",
       "832    12144\n",
       "833    18064\n",
       "834    18034\n",
       "835    10156\n",
       "836    11809\n",
       "837    11646\n",
       "838    18017\n",
       "839    11781\n",
       "840    13039\n",
       "841    13153\n",
       "842    10993\n",
       "843    11126\n",
       "844    13329\n",
       "845    14814\n",
       "846    11046\n",
       "847    13501\n",
       "848    11769\n",
       "849    12754\n",
       "850    19904\n",
       "851    10702\n",
       "852    11946\n",
       "853    11740\n",
       "854    10537\n",
       "855    10802\n",
       "856    10149\n",
       "857    19703\n",
       "858    11110\n",
       "859    11335\n",
       "860    19111\n",
       "861    11472\n",
       "862    10507\n",
       "Name: Incident Zip, Length: 863, dtype: object"
      ]
     },
     "execution_count": 21,
     "metadata": {},
     "output_type": "execute_result"
    }
   ],
   "source": [
    "df_dropped['Incident Zip'].unique().compute()\n"
   ]
  },
  {
   "cell_type": "code",
   "execution_count": 12,
   "metadata": {},
   "outputs": [],
   "source": [
    "#NY Zip codes : https://www.health.ny.gov/statistics/cancer/registry/appendix/neighborhoods.htm\n",
    "def clean_zip(zip_code):\n",
    "    try:\n",
    "        zip_code = int(float(zip_code))\n",
    "    except:\n",
    "        try:\n",
    "            zip_code = int(float(zip_code.split('-')[0]))\n",
    "        except:\n",
    "            return np.nan\n",
    "    if zip_code < 10000 or zip_code > 19999:\n",
    "        return np.nan\n",
    "    else:\n",
    "        return str(zip_code)"
   ]
  },
  {
   "cell_type": "code",
   "execution_count": 13,
   "metadata": {},
   "outputs": [
    {
     "name": "stderr",
     "output_type": "stream",
     "text": [
      "C:\\Users\\pavani.nrusimhadevar\\AppData\\Local\\Continuum\\anaconda3\\lib\\site-packages\\dask\\dataframe\\core.py:2259: UserWarning: `meta` is not specified, inferred from partial data. Please provide `meta` if the result is unexpected.\n",
      "  Before: .apply(func)\n",
      "  After:  .apply(func, meta={'x': 'f8', 'y': 'f8'}) for dataframe result\n",
      "  or:     .apply(func, meta=('x', 'f8'))            for series result\n",
      "  warnings.warn(msg)\n"
     ]
    }
   ],
   "source": [
    "df_dropped['Incident Zip'] = df_dropped['Incident Zip'].apply(clean_zip)"
   ]
  },
  {
   "cell_type": "code",
   "execution_count": 12,
   "metadata": {},
   "outputs": [
    {
     "data": {
      "text/plain": [
       "True"
      ]
     },
     "execution_count": 12,
     "metadata": {},
     "output_type": "execute_result"
    }
   ],
   "source": [
    "### Are there any null values\n",
    "df_dropped['Incident Zip'].isnull().values.any().compute()"
   ]
  },
  {
   "cell_type": "markdown",
   "metadata": {},
   "source": [
    "#### Remove all those columns who zip code is null or nan"
   ]
  },
  {
   "cell_type": "code",
   "execution_count": 14,
   "metadata": {},
   "outputs": [],
   "source": [
    "df_dropped = df_dropped[df_dropped['Incident Zip'].notnull()]"
   ]
  },
  {
   "cell_type": "code",
   "execution_count": 31,
   "metadata": {},
   "outputs": [
    {
     "name": "stdout",
     "output_type": "stream",
     "text": [
      "After Zip Clean 21006138 29\n"
     ]
    }
   ],
   "source": [
    "a = df_dropped.shape\n",
    "print(\"After Zip Clean\",a[0].compute(),a[1])"
   ]
  },
  {
   "cell_type": "raw",
   "metadata": {},
   "source": [
    "Those rows were removed whose value is null"
   ]
  },
  {
   "cell_type": "markdown",
   "metadata": {},
   "source": [
    "#### Data Type of Date Columns"
   ]
  },
  {
   "cell_type": "code",
   "execution_count": 32,
   "metadata": {},
   "outputs": [
    {
     "data": {
      "text/plain": [
       "Unique Key                          int64\n",
       "Created Date                       object\n",
       "Closed Date                        object\n",
       "Agency                             object\n",
       "Agency Name                        object\n",
       "Complaint Type                     object\n",
       "Descriptor                         object\n",
       "Location Type                      object\n",
       "Incident Zip                      float64\n",
       "Incident Address                   object\n",
       "Street Name                        object\n",
       "Cross Street 1                     object\n",
       "Cross Street 2                     object\n",
       "Address Type                       object\n",
       "City                               object\n",
       "Status                             object\n",
       "Resolution Description             object\n",
       "Resolution Action Updated Date     object\n",
       "Community Board                    object\n",
       "BBL                               float64\n",
       "Borough                            object\n",
       "X Coordinate (State Plane)        float64\n",
       "Y Coordinate (State Plane)        float64\n",
       "Open Data Channel Type             object\n",
       "Park Facility Name                 object\n",
       "Park Borough                       object\n",
       "Latitude                          float64\n",
       "Longitude                         float64\n",
       "Location                           object\n",
       "dtype: object"
      ]
     },
     "execution_count": 32,
     "metadata": {},
     "output_type": "execute_result"
    }
   ],
   "source": [
    "df_dropped.dtypes"
   ]
  },
  {
   "cell_type": "markdown",
   "metadata": {},
   "source": [
    "## Dealing with DATE Columns"
   ]
  },
  {
   "cell_type": "code",
   "execution_count": 33,
   "metadata": {},
   "outputs": [
    {
     "data": {
      "text/plain": [
       "0    04/14/2014 02:42:00 PM\n",
       "1    04/14/2014 11:04:00 AM\n",
       "2    04/14/2014 01:27:00 PM\n",
       "3    04/14/2014 12:51:00 PM\n",
       "4    04/14/2014 12:35:00 PM\n",
       "5    04/14/2014 09:11:00 PM\n",
       "6    04/14/2014 12:35:00 PM\n",
       "7    04/14/2014 08:16:00 AM\n",
       "8    04/14/2014 12:29:00 PM\n",
       "9    04/14/2014 01:11:00 AM\n",
       "Name: Created Date, dtype: object"
      ]
     },
     "execution_count": 33,
     "metadata": {},
     "output_type": "execute_result"
    }
   ],
   "source": [
    "df_dropped[\"Created Date\"].head(10)"
   ]
  },
  {
   "cell_type": "code",
   "execution_count": 15,
   "metadata": {},
   "outputs": [],
   "source": [
    "df_dropped[\"Created Date\"] = dd.to_datetime(df_dropped[\"Created Date\"],format = \"%m/%d/%Y %I:%M:%S %p\",errors = 'coerce')"
   ]
  },
  {
   "cell_type": "code",
   "execution_count": 28,
   "metadata": {},
   "outputs": [
    {
     "data": {
      "text/plain": [
       "0    2014-04-14 14:42:00\n",
       "1    2014-04-14 11:04:00\n",
       "2    2014-04-14 13:27:00\n",
       "3    2014-04-14 12:51:00\n",
       "4    2014-04-14 12:35:00\n",
       "5    2014-04-14 21:11:00\n",
       "6    2014-04-14 12:35:00\n",
       "7    2014-04-14 08:16:00\n",
       "8    2014-04-14 12:29:00\n",
       "9    2014-04-14 01:11:00\n",
       "10   2014-04-14 07:43:00\n",
       "11   2014-04-14 09:32:00\n",
       "12   2014-04-14 11:59:00\n",
       "13   2014-04-14 15:40:00\n",
       "14   2014-04-14 12:13:00\n",
       "15   2014-04-14 18:48:00\n",
       "16   2014-04-14 13:21:00\n",
       "17   2014-04-14 12:32:00\n",
       "18   2014-04-14 11:38:00\n",
       "19   2014-04-14 15:13:00\n",
       "20   2014-04-14 00:00:00\n",
       "21   2014-04-14 15:11:00\n",
       "22   2014-04-14 14:41:00\n",
       "23   2014-04-14 12:31:00\n",
       "24   2014-04-14 07:27:00\n",
       "25   2014-04-14 00:00:00\n",
       "26   2014-04-14 08:46:01\n",
       "27   2014-04-11 09:18:32\n",
       "28   2014-04-14 00:00:00\n",
       "29   2014-04-14 10:39:59\n",
       "Name: Created Date, dtype: datetime64[ns]"
      ]
     },
     "execution_count": 28,
     "metadata": {},
     "output_type": "execute_result"
    }
   ],
   "source": [
    "df_dropped[\"Created Date\"].head(30)"
   ]
  },
  {
   "cell_type": "code",
   "execution_count": 16,
   "metadata": {},
   "outputs": [],
   "source": [
    "df_dropped[\"Closed Date\"] = dd.to_datetime(df_dropped[\"Closed Date\"],format = \"%m/%d/%Y %I:%M:%S %p\",errors = 'coerce')"
   ]
  },
  {
   "cell_type": "code",
   "execution_count": 30,
   "metadata": {},
   "outputs": [
    {
     "data": {
      "text/plain": [
       "0   2014-08-20 10:55:00\n",
       "1   2015-05-01 14:00:00\n",
       "2   2014-04-14 15:03:00\n",
       "3   2014-04-14 14:15:00\n",
       "4   2014-04-14 14:28:00\n",
       "Name: Closed Date, dtype: datetime64[ns]"
      ]
     },
     "execution_count": 30,
     "metadata": {},
     "output_type": "execute_result"
    }
   ],
   "source": [
    "df_dropped[\"Closed Date\"].head()"
   ]
  },
  {
   "cell_type": "code",
   "execution_count": 38,
   "metadata": {},
   "outputs": [
    {
     "data": {
      "text/plain": [
       "0    08/20/2014 10:55:00 AM\n",
       "1    05/01/2015 02:00:00 PM\n",
       "2    04/14/2014 03:03:00 PM\n",
       "3    04/14/2014 02:15:00 PM\n",
       "4    04/14/2014 02:28:00 PM\n",
       "Name: Resolution Action Updated Date, dtype: object"
      ]
     },
     "execution_count": 38,
     "metadata": {},
     "output_type": "execute_result"
    }
   ],
   "source": [
    "df_dropped[\"Resolution Action Updated Date\"].head()"
   ]
  },
  {
   "cell_type": "code",
   "execution_count": 17,
   "metadata": {},
   "outputs": [],
   "source": [
    "#Resolution Action Updated Date\n",
    "df_dropped[\"Resolution Action Updated Date\"] = dd.to_datetime(df_dropped[\"Resolution Action Updated Date\"],format = \"%m/%d/%Y %I:%M:%S %p\",errors = 'coerce')"
   ]
  },
  {
   "cell_type": "code",
   "execution_count": 18,
   "metadata": {},
   "outputs": [
    {
     "data": {
      "text/plain": [
       "0   2014-08-20 10:55:00\n",
       "1   2015-05-01 14:00:00\n",
       "2   2014-04-14 15:03:00\n",
       "3   2014-04-14 14:15:00\n",
       "4   2014-04-14 14:28:00\n",
       "Name: Resolution Action Updated Date, dtype: datetime64[ns]"
      ]
     },
     "execution_count": 18,
     "metadata": {},
     "output_type": "execute_result"
    }
   ],
   "source": [
    "df_dropped[\"Resolution Action Updated Date\"].head()"
   ]
  },
  {
   "cell_type": "code",
   "execution_count": 19,
   "metadata": {},
   "outputs": [],
   "source": [
    "df_dropped['Total_Time'] =  (df_dropped['Closed Date']- df_dropped['Created Date']).dt.days"
   ]
  },
  {
   "cell_type": "code",
   "execution_count": 20,
   "metadata": {},
   "outputs": [],
   "source": [
    "df_dropped['Resolution_Time'] =  (df_dropped['Resolution Action Updated Date']- df_dropped['Created Date']).dt.days"
   ]
  },
  {
   "cell_type": "code",
   "execution_count": 21,
   "metadata": {},
   "outputs": [
    {
     "data": {
      "text/plain": [
       "0    127.0\n",
       "1    382.0\n",
       "2      0.0\n",
       "3      0.0\n",
       "4      0.0\n",
       "5      2.0\n",
       "6      0.0\n",
       "7     10.0\n",
       "8      0.0\n",
       "9      0.0\n",
       "Name: Total_Time, dtype: float64"
      ]
     },
     "execution_count": 21,
     "metadata": {},
     "output_type": "execute_result"
    }
   ],
   "source": [
    "df_dropped['Total_Time'].head(10)"
   ]
  },
  {
   "cell_type": "code",
   "execution_count": 22,
   "metadata": {},
   "outputs": [
    {
     "data": {
      "text/plain": [
       "0    127.0\n",
       "1    382.0\n",
       "2      0.0\n",
       "3      0.0\n",
       "4      0.0\n",
       "5      2.0\n",
       "6      0.0\n",
       "7     10.0\n",
       "8      0.0\n",
       "9      0.0\n",
       "Name: Resolution_Time, dtype: float64"
      ]
     },
     "execution_count": 22,
     "metadata": {},
     "output_type": "execute_result"
    }
   ],
   "source": [
    "df_dropped['Resolution_Time'].head(10)"
   ]
  },
  {
   "cell_type": "markdown",
   "metadata": {},
   "source": [
    "##### Closed Date > Created Date always so something is wrong in the incidents otherwise\n",
    "##### negative (WRONG!!) has to eliminated"
   ]
  },
  {
   "cell_type": "code",
   "execution_count": 45,
   "metadata": {},
   "outputs": [
    {
     "data": {
      "text/plain": [
       "Unique Key                                 int64\n",
       "Created Date                      datetime64[ns]\n",
       "Closed Date                       datetime64[ns]\n",
       "Agency                                    object\n",
       "Agency Name                               object\n",
       "Complaint Type                            object\n",
       "Descriptor                                object\n",
       "Location Type                             object\n",
       "Incident Zip                             float64\n",
       "Incident Address                          object\n",
       "Street Name                               object\n",
       "Cross Street 1                            object\n",
       "Cross Street 2                            object\n",
       "Address Type                              object\n",
       "City                                      object\n",
       "Status                                    object\n",
       "Resolution Description                    object\n",
       "Resolution Action Updated Date    datetime64[ns]\n",
       "Community Board                           object\n",
       "BBL                                      float64\n",
       "Borough                                   object\n",
       "X Coordinate (State Plane)               float64\n",
       "Y Coordinate (State Plane)               float64\n",
       "Open Data Channel Type                    object\n",
       "Park Facility Name                        object\n",
       "Park Borough                              object\n",
       "Latitude                                 float64\n",
       "Longitude                                float64\n",
       "Location                                  object\n",
       "Total_Time                                 int64\n",
       "Resolution_Time                            int64\n",
       "dtype: object"
      ]
     },
     "execution_count": 45,
     "metadata": {},
     "output_type": "execute_result"
    }
   ],
   "source": [
    "df_dropped.dtypes"
   ]
  },
  {
   "cell_type": "code",
   "execution_count": 23,
   "metadata": {},
   "outputs": [
    {
     "data": {
      "text/html": [
       "<div>\n",
       "<style scoped>\n",
       "    .dataframe tbody tr th:only-of-type {\n",
       "        vertical-align: middle;\n",
       "    }\n",
       "\n",
       "    .dataframe tbody tr th {\n",
       "        vertical-align: top;\n",
       "    }\n",
       "\n",
       "    .dataframe thead th {\n",
       "        text-align: right;\n",
       "    }\n",
       "</style>\n",
       "<table border=\"1\" class=\"dataframe\">\n",
       "  <thead>\n",
       "    <tr style=\"text-align: right;\">\n",
       "      <th></th>\n",
       "      <th>Unique Key</th>\n",
       "      <th>Created Date</th>\n",
       "      <th>Closed Date</th>\n",
       "      <th>Agency</th>\n",
       "      <th>Agency Name</th>\n",
       "      <th>Complaint Type</th>\n",
       "      <th>Descriptor</th>\n",
       "      <th>Location Type</th>\n",
       "      <th>Incident Zip</th>\n",
       "      <th>Incident Address</th>\n",
       "      <th>...</th>\n",
       "      <th>X Coordinate (State Plane)</th>\n",
       "      <th>Y Coordinate (State Plane)</th>\n",
       "      <th>Open Data Channel Type</th>\n",
       "      <th>Park Facility Name</th>\n",
       "      <th>Park Borough</th>\n",
       "      <th>Latitude</th>\n",
       "      <th>Longitude</th>\n",
       "      <th>Location</th>\n",
       "      <th>Total_Time</th>\n",
       "      <th>Resolution_Time</th>\n",
       "    </tr>\n",
       "  </thead>\n",
       "  <tbody>\n",
       "    <tr>\n",
       "      <th>39</th>\n",
       "      <td>27842719</td>\n",
       "      <td>2014-04-14 10:02:00</td>\n",
       "      <td>2014-04-11 10:02:00</td>\n",
       "      <td>DOT</td>\n",
       "      <td>Department of Transportation</td>\n",
       "      <td>Street Light Condition</td>\n",
       "      <td>Fixture/Luminaire Door Open</td>\n",
       "      <td>NaN</td>\n",
       "      <td>11231</td>\n",
       "      <td>NaN</td>\n",
       "      <td>...</td>\n",
       "      <td>980851.0</td>\n",
       "      <td>186934.0</td>\n",
       "      <td>UNKNOWN</td>\n",
       "      <td>Unspecified</td>\n",
       "      <td>BROOKLYN</td>\n",
       "      <td>40.679767</td>\n",
       "      <td>-74.012255</td>\n",
       "      <td>(40.67976675817528, -74.01225461123266)</td>\n",
       "      <td>-3.0</td>\n",
       "      <td>-3.0</td>\n",
       "    </tr>\n",
       "    <tr>\n",
       "      <th>54</th>\n",
       "      <td>27842739</td>\n",
       "      <td>2014-04-12 13:46:45</td>\n",
       "      <td>2014-04-12 12:35:00</td>\n",
       "      <td>DOT</td>\n",
       "      <td>Department of Transportation</td>\n",
       "      <td>Street Condition</td>\n",
       "      <td>Pothole</td>\n",
       "      <td>NaN</td>\n",
       "      <td>11232</td>\n",
       "      <td>2 AVENUE</td>\n",
       "      <td>...</td>\n",
       "      <td>981607.0</td>\n",
       "      <td>178360.0</td>\n",
       "      <td>UNKNOWN</td>\n",
       "      <td>Unspecified</td>\n",
       "      <td>BROOKLYN</td>\n",
       "      <td>40.656233</td>\n",
       "      <td>-74.009526</td>\n",
       "      <td>(40.656233297034625, -74.00952559923958)</td>\n",
       "      <td>-1.0</td>\n",
       "      <td>-1.0</td>\n",
       "    </tr>\n",
       "    <tr>\n",
       "      <th>77</th>\n",
       "      <td>27842788</td>\n",
       "      <td>2014-04-14 16:39:00</td>\n",
       "      <td>2014-04-11 16:39:00</td>\n",
       "      <td>DOT</td>\n",
       "      <td>Department of Transportation</td>\n",
       "      <td>Street Light Condition</td>\n",
       "      <td>Street Light Dayburning</td>\n",
       "      <td>NaN</td>\n",
       "      <td>10462</td>\n",
       "      <td>NaN</td>\n",
       "      <td>...</td>\n",
       "      <td>1026117.0</td>\n",
       "      <td>243564.0</td>\n",
       "      <td>UNKNOWN</td>\n",
       "      <td>Unspecified</td>\n",
       "      <td>BRONX</td>\n",
       "      <td>40.835103</td>\n",
       "      <td>-73.848702</td>\n",
       "      <td>(40.83510301726856, -73.84870198819223)</td>\n",
       "      <td>-3.0</td>\n",
       "      <td>-3.0</td>\n",
       "    </tr>\n",
       "  </tbody>\n",
       "</table>\n",
       "<p>3 rows × 31 columns</p>\n",
       "</div>"
      ],
      "text/plain": [
       "    Unique Key        Created Date         Closed Date Agency  \\\n",
       "39    27842719 2014-04-14 10:02:00 2014-04-11 10:02:00    DOT   \n",
       "54    27842739 2014-04-12 13:46:45 2014-04-12 12:35:00    DOT   \n",
       "77    27842788 2014-04-14 16:39:00 2014-04-11 16:39:00    DOT   \n",
       "\n",
       "                     Agency Name          Complaint Type  \\\n",
       "39  Department of Transportation  Street Light Condition   \n",
       "54  Department of Transportation        Street Condition   \n",
       "77  Department of Transportation  Street Light Condition   \n",
       "\n",
       "                     Descriptor Location Type Incident Zip Incident Address  \\\n",
       "39  Fixture/Luminaire Door Open           NaN        11231              NaN   \n",
       "54                      Pothole           NaN        11232         2 AVENUE   \n",
       "77      Street Light Dayburning           NaN        10462              NaN   \n",
       "\n",
       "         ...        X Coordinate (State Plane) Y Coordinate (State Plane)  \\\n",
       "39       ...                          980851.0                   186934.0   \n",
       "54       ...                          981607.0                   178360.0   \n",
       "77       ...                         1026117.0                   243564.0   \n",
       "\n",
       "   Open Data Channel Type Park Facility Name Park Borough   Latitude  \\\n",
       "39                UNKNOWN        Unspecified     BROOKLYN  40.679767   \n",
       "54                UNKNOWN        Unspecified     BROOKLYN  40.656233   \n",
       "77                UNKNOWN        Unspecified        BRONX  40.835103   \n",
       "\n",
       "    Longitude                                  Location Total_Time  \\\n",
       "39 -74.012255   (40.67976675817528, -74.01225461123266)       -3.0   \n",
       "54 -74.009526  (40.656233297034625, -74.00952559923958)       -1.0   \n",
       "77 -73.848702   (40.83510301726856, -73.84870198819223)       -3.0   \n",
       "\n",
       "    Resolution_Time  \n",
       "39             -3.0  \n",
       "54             -1.0  \n",
       "77             -3.0  \n",
       "\n",
       "[3 rows x 31 columns]"
      ]
     },
     "execution_count": 23,
     "metadata": {},
     "output_type": "execute_result"
    }
   ],
   "source": [
    "df_dropped[df_dropped['Total_Time']<0].head(3)"
   ]
  },
  {
   "cell_type": "code",
   "execution_count": 47,
   "metadata": {},
   "outputs": [
    {
     "data": {
      "text/html": [
       "<div>\n",
       "<style scoped>\n",
       "    .dataframe tbody tr th:only-of-type {\n",
       "        vertical-align: middle;\n",
       "    }\n",
       "\n",
       "    .dataframe tbody tr th {\n",
       "        vertical-align: top;\n",
       "    }\n",
       "\n",
       "    .dataframe thead th {\n",
       "        text-align: right;\n",
       "    }\n",
       "</style>\n",
       "<table border=\"1\" class=\"dataframe\">\n",
       "  <thead>\n",
       "    <tr style=\"text-align: right;\">\n",
       "      <th></th>\n",
       "      <th>Unique Key</th>\n",
       "      <th>Created Date</th>\n",
       "      <th>Closed Date</th>\n",
       "      <th>Agency</th>\n",
       "      <th>Agency Name</th>\n",
       "      <th>Complaint Type</th>\n",
       "      <th>Descriptor</th>\n",
       "      <th>Location Type</th>\n",
       "      <th>Incident Zip</th>\n",
       "      <th>Incident Address</th>\n",
       "      <th>...</th>\n",
       "      <th>X Coordinate (State Plane)</th>\n",
       "      <th>Y Coordinate (State Plane)</th>\n",
       "      <th>Open Data Channel Type</th>\n",
       "      <th>Park Facility Name</th>\n",
       "      <th>Park Borough</th>\n",
       "      <th>Latitude</th>\n",
       "      <th>Longitude</th>\n",
       "      <th>Location</th>\n",
       "      <th>Total_Time</th>\n",
       "      <th>Resolution_Time</th>\n",
       "    </tr>\n",
       "  </thead>\n",
       "  <tbody>\n",
       "    <tr>\n",
       "      <th>39</th>\n",
       "      <td>27842719</td>\n",
       "      <td>2014-04-14 10:02:00</td>\n",
       "      <td>2014-04-11 10:02:00</td>\n",
       "      <td>DOT</td>\n",
       "      <td>Department of Transportation</td>\n",
       "      <td>Street Light Condition</td>\n",
       "      <td>Fixture/Luminaire Door Open</td>\n",
       "      <td>NaN</td>\n",
       "      <td>11231</td>\n",
       "      <td>NaN</td>\n",
       "      <td>...</td>\n",
       "      <td>980851.0</td>\n",
       "      <td>186934.0</td>\n",
       "      <td>UNKNOWN</td>\n",
       "      <td>Unspecified</td>\n",
       "      <td>BROOKLYN</td>\n",
       "      <td>40.679767</td>\n",
       "      <td>-74.012255</td>\n",
       "      <td>(40.67976675817528, -74.01225461123266)</td>\n",
       "      <td>-3.0</td>\n",
       "      <td>-3.0</td>\n",
       "    </tr>\n",
       "    <tr>\n",
       "      <th>54</th>\n",
       "      <td>27842739</td>\n",
       "      <td>2014-04-12 13:46:45</td>\n",
       "      <td>2014-04-12 12:35:00</td>\n",
       "      <td>DOT</td>\n",
       "      <td>Department of Transportation</td>\n",
       "      <td>Street Condition</td>\n",
       "      <td>Pothole</td>\n",
       "      <td>NaN</td>\n",
       "      <td>11232</td>\n",
       "      <td>2 AVENUE</td>\n",
       "      <td>...</td>\n",
       "      <td>981607.0</td>\n",
       "      <td>178360.0</td>\n",
       "      <td>UNKNOWN</td>\n",
       "      <td>Unspecified</td>\n",
       "      <td>BROOKLYN</td>\n",
       "      <td>40.656233</td>\n",
       "      <td>-74.009526</td>\n",
       "      <td>(40.656233297034625, -74.00952559923958)</td>\n",
       "      <td>-1.0</td>\n",
       "      <td>-1.0</td>\n",
       "    </tr>\n",
       "    <tr>\n",
       "      <th>77</th>\n",
       "      <td>27842788</td>\n",
       "      <td>2014-04-14 16:39:00</td>\n",
       "      <td>2014-04-11 16:39:00</td>\n",
       "      <td>DOT</td>\n",
       "      <td>Department of Transportation</td>\n",
       "      <td>Street Light Condition</td>\n",
       "      <td>Street Light Dayburning</td>\n",
       "      <td>NaN</td>\n",
       "      <td>10462</td>\n",
       "      <td>NaN</td>\n",
       "      <td>...</td>\n",
       "      <td>1026117.0</td>\n",
       "      <td>243564.0</td>\n",
       "      <td>UNKNOWN</td>\n",
       "      <td>Unspecified</td>\n",
       "      <td>BRONX</td>\n",
       "      <td>40.835103</td>\n",
       "      <td>-73.848702</td>\n",
       "      <td>(40.83510301726856, -73.84870198819223)</td>\n",
       "      <td>-3.0</td>\n",
       "      <td>-3.0</td>\n",
       "    </tr>\n",
       "  </tbody>\n",
       "</table>\n",
       "<p>3 rows × 31 columns</p>\n",
       "</div>"
      ],
      "text/plain": [
       "    Unique Key        Created Date         Closed Date Agency  \\\n",
       "39    27842719 2014-04-14 10:02:00 2014-04-11 10:02:00    DOT   \n",
       "54    27842739 2014-04-12 13:46:45 2014-04-12 12:35:00    DOT   \n",
       "77    27842788 2014-04-14 16:39:00 2014-04-11 16:39:00    DOT   \n",
       "\n",
       "                     Agency Name          Complaint Type  \\\n",
       "39  Department of Transportation  Street Light Condition   \n",
       "54  Department of Transportation        Street Condition   \n",
       "77  Department of Transportation  Street Light Condition   \n",
       "\n",
       "                     Descriptor Location Type Incident Zip Incident Address  \\\n",
       "39  Fixture/Luminaire Door Open           NaN        11231              NaN   \n",
       "54                      Pothole           NaN        11232         2 AVENUE   \n",
       "77      Street Light Dayburning           NaN        10462              NaN   \n",
       "\n",
       "         ...        X Coordinate (State Plane) Y Coordinate (State Plane)  \\\n",
       "39       ...                          980851.0                   186934.0   \n",
       "54       ...                          981607.0                   178360.0   \n",
       "77       ...                         1026117.0                   243564.0   \n",
       "\n",
       "   Open Data Channel Type Park Facility Name Park Borough   Latitude  \\\n",
       "39                UNKNOWN        Unspecified     BROOKLYN  40.679767   \n",
       "54                UNKNOWN        Unspecified     BROOKLYN  40.656233   \n",
       "77                UNKNOWN        Unspecified        BRONX  40.835103   \n",
       "\n",
       "    Longitude                                  Location Total_Time  \\\n",
       "39 -74.012255   (40.67976675817528, -74.01225461123266)       -3.0   \n",
       "54 -74.009526  (40.656233297034625, -74.00952559923958)       -1.0   \n",
       "77 -73.848702   (40.83510301726856, -73.84870198819223)       -3.0   \n",
       "\n",
       "    Resolution_Time  \n",
       "39             -3.0  \n",
       "54             -1.0  \n",
       "77             -3.0  \n",
       "\n",
       "[3 rows x 31 columns]"
      ]
     },
     "execution_count": 47,
     "metadata": {},
     "output_type": "execute_result"
    }
   ],
   "source": [
    "df_dropped[df_dropped['Resolution_Time']<0].head(3)"
   ]
  },
  {
   "cell_type": "code",
   "execution_count": 48,
   "metadata": {},
   "outputs": [
    {
     "data": {
      "text/plain": [
       "Unique Key                        21006138\n",
       "Created Date                      21006138\n",
       "Closed Date                       20435875\n",
       "Agency                            21006138\n",
       "Agency Name                       21006138\n",
       "Complaint Type                    21006138\n",
       "Descriptor                        20756732\n",
       "Location Type                     16483394\n",
       "Incident Zip                      21006138\n",
       "Incident Address                  17667558\n",
       "Street Name                       17667367\n",
       "Cross Street 1                    14594744\n",
       "Cross Street 2                    14580414\n",
       "Address Type                      20113724\n",
       "City                              20934666\n",
       "Status                            21006138\n",
       "Resolution Description            20520659\n",
       "Resolution Action Updated Date    20844385\n",
       "Community Board                   21006138\n",
       "BBL                               17188412\n",
       "Borough                           21006138\n",
       "X Coordinate (State Plane)        20278727\n",
       "Y Coordinate (State Plane)        20278727\n",
       "Open Data Channel Type            21006138\n",
       "Park Facility Name                21005055\n",
       "Park Borough                      21006138\n",
       "Latitude                          20278727\n",
       "Longitude                         20278727\n",
       "Location                          20278727\n",
       "Total_Time                        20435875\n",
       "Resolution_Time                   20844385\n",
       "dtype: int64"
      ]
     },
     "execution_count": 48,
     "metadata": {},
     "output_type": "execute_result"
    }
   ],
   "source": [
    "df_columns = list(df_dropped.columns)\n",
    "df_dropped[df_columns].count().compute()"
   ]
  },
  {
   "cell_type": "code",
   "execution_count": 24,
   "metadata": {},
   "outputs": [],
   "source": [
    "# Remove all data from df that have negative Processing Time\n",
    "df_dropped = df_dropped[df_dropped['Total_Time']>=0]"
   ]
  },
  {
   "cell_type": "code",
   "execution_count": 25,
   "metadata": {},
   "outputs": [],
   "source": [
    "df_dropped = df_dropped[df_dropped['Resolution_Time']>=0]"
   ]
  },
  {
   "cell_type": "code",
   "execution_count": 51,
   "metadata": {},
   "outputs": [
    {
     "data": {
      "text/plain": [
       "Unique Key                        19898733\n",
       "Created Date                      19898733\n",
       "Closed Date                       19898733\n",
       "Agency                            19898733\n",
       "Agency Name                       19898733\n",
       "Complaint Type                    19898733\n",
       "Descriptor                        19660194\n",
       "Location Type                     15932251\n",
       "Incident Zip                      19898733\n",
       "Incident Address                  16943691\n",
       "Street Name                       16943515\n",
       "Cross Street 1                    13947515\n",
       "Cross Street 2                    13933448\n",
       "Address Type                      19072196\n",
       "City                              19831929\n",
       "Status                            19898733\n",
       "Resolution Description            19479773\n",
       "Resolution Action Updated Date    19898733\n",
       "Community Board                   19898733\n",
       "BBL                               16521230\n",
       "Borough                           19898733\n",
       "X Coordinate (State Plane)        19182986\n",
       "Y Coordinate (State Plane)        19182986\n",
       "Open Data Channel Type            19898733\n",
       "Park Facility Name                19897651\n",
       "Park Borough                      19898733\n",
       "Latitude                          19182986\n",
       "Longitude                         19182986\n",
       "Location                          19182986\n",
       "Total_Time                        19898733\n",
       "Resolution_Time                   19898733\n",
       "dtype: int64"
      ]
     },
     "execution_count": 51,
     "metadata": {},
     "output_type": "execute_result"
    }
   ],
   "source": [
    "df_columns = list(df_dropped.columns)\n",
    "df_dropped[df_columns].count().compute()"
   ]
  },
  {
   "cell_type": "markdown",
   "metadata": {},
   "source": [
    "##### Boroughs ---> Unspecified ?\n",
    "\n",
    "Booroughs>Cities>Agency"
   ]
  },
  {
   "cell_type": "code",
   "execution_count": 24,
   "metadata": {},
   "outputs": [
    {
     "data": {
      "text/html": [
       "<div>\n",
       "<style scoped>\n",
       "    .dataframe tbody tr th:only-of-type {\n",
       "        vertical-align: middle;\n",
       "    }\n",
       "\n",
       "    .dataframe tbody tr th {\n",
       "        vertical-align: top;\n",
       "    }\n",
       "\n",
       "    .dataframe thead th {\n",
       "        text-align: right;\n",
       "    }\n",
       "</style>\n",
       "<table border=\"1\" class=\"dataframe\">\n",
       "  <thead>\n",
       "    <tr style=\"text-align: right;\">\n",
       "      <th></th>\n",
       "      <th>City</th>\n",
       "      <th>Borough</th>\n",
       "      <th>Agency</th>\n",
       "    </tr>\n",
       "  </thead>\n",
       "  <tbody>\n",
       "    <tr>\n",
       "      <th>0</th>\n",
       "      <td>STATEN ISLAND</td>\n",
       "      <td>STATEN ISLAND</td>\n",
       "      <td>DEP</td>\n",
       "    </tr>\n",
       "    <tr>\n",
       "      <th>1</th>\n",
       "      <td>BRONX</td>\n",
       "      <td>BRONX</td>\n",
       "      <td>DEP</td>\n",
       "    </tr>\n",
       "    <tr>\n",
       "      <th>2</th>\n",
       "      <td>Queens Village</td>\n",
       "      <td>QUEENS</td>\n",
       "      <td>DEP</td>\n",
       "    </tr>\n",
       "    <tr>\n",
       "      <th>3</th>\n",
       "      <td>STATEN ISLAND</td>\n",
       "      <td>STATEN ISLAND</td>\n",
       "      <td>DEP</td>\n",
       "    </tr>\n",
       "    <tr>\n",
       "      <th>4</th>\n",
       "      <td>Jamaica</td>\n",
       "      <td>QUEENS</td>\n",
       "      <td>DEP</td>\n",
       "    </tr>\n",
       "    <tr>\n",
       "      <th>5</th>\n",
       "      <td>STATEN ISLAND</td>\n",
       "      <td>STATEN ISLAND</td>\n",
       "      <td>DEP</td>\n",
       "    </tr>\n",
       "    <tr>\n",
       "      <th>6</th>\n",
       "      <td>BROOKLYN</td>\n",
       "      <td>BROOKLYN</td>\n",
       "      <td>DEP</td>\n",
       "    </tr>\n",
       "    <tr>\n",
       "      <th>7</th>\n",
       "      <td>NEW YORK</td>\n",
       "      <td>MANHATTAN</td>\n",
       "      <td>DEP</td>\n",
       "    </tr>\n",
       "    <tr>\n",
       "      <th>8</th>\n",
       "      <td>STATEN ISLAND</td>\n",
       "      <td>STATEN ISLAND</td>\n",
       "      <td>DEP</td>\n",
       "    </tr>\n",
       "    <tr>\n",
       "      <th>9</th>\n",
       "      <td>East Elmhurst</td>\n",
       "      <td>QUEENS</td>\n",
       "      <td>DEP</td>\n",
       "    </tr>\n",
       "  </tbody>\n",
       "</table>\n",
       "</div>"
      ],
      "text/plain": [
       "             City        Borough Agency\n",
       "0   STATEN ISLAND  STATEN ISLAND    DEP\n",
       "1           BRONX          BRONX    DEP\n",
       "2  Queens Village         QUEENS    DEP\n",
       "3   STATEN ISLAND  STATEN ISLAND    DEP\n",
       "4         Jamaica         QUEENS    DEP\n",
       "5   STATEN ISLAND  STATEN ISLAND    DEP\n",
       "6        BROOKLYN       BROOKLYN    DEP\n",
       "7        NEW YORK      MANHATTAN    DEP\n",
       "8   STATEN ISLAND  STATEN ISLAND    DEP\n",
       "9   East Elmhurst         QUEENS    DEP"
      ]
     },
     "execution_count": 24,
     "metadata": {},
     "output_type": "execute_result"
    }
   ],
   "source": [
    "df_dropped[df_dropped['Borough']!='Unspecified'][['City','Borough','Agency']].head(10)"
   ]
  },
  {
   "cell_type": "markdown",
   "metadata": {},
   "source": [
    "I am bit skeptic about my city values they tend to be nulls"
   ]
  },
  {
   "cell_type": "markdown",
   "metadata": {},
   "source": [
    "## Dealing with CITIES"
   ]
  },
  {
   "cell_type": "markdown",
   "metadata": {},
   "source": [
    "#### Turning all of them in lower case just to avoid confusion in future"
   ]
  },
  {
   "cell_type": "code",
   "execution_count": 26,
   "metadata": {},
   "outputs": [],
   "source": [
    "def case_sense(city):\n",
    "    try:\n",
    "        city = city.split(' ')\n",
    "        city = ' '.join([x.lower().capitalize() for x in city])\n",
    "        if city == 'Unknown':\n",
    "            return np.nan\n",
    "        else:\n",
    "            return city\n",
    "    except:\n",
    "        return np.nan"
   ]
  },
  {
   "cell_type": "code",
   "execution_count": 27,
   "metadata": {},
   "outputs": [
    {
     "name": "stderr",
     "output_type": "stream",
     "text": [
      "C:\\Users\\pavani.nrusimhadevar\\AppData\\Local\\Continuum\\anaconda3\\lib\\site-packages\\dask\\dataframe\\core.py:2259: UserWarning: `meta` is not specified, inferred from partial data. Please provide `meta` if the result is unexpected.\n",
      "  Before: .apply(func)\n",
      "  After:  .apply(func, meta={'x': 'f8', 'y': 'f8'}) for dataframe result\n",
      "  or:     .apply(func, meta=('x', 'f8'))            for series result\n",
      "  warnings.warn(msg)\n"
     ]
    }
   ],
   "source": [
    "df_dropped['City'] = df_dropped['City'].apply(case_sense)"
   ]
  },
  {
   "cell_type": "code",
   "execution_count": 42,
   "metadata": {},
   "outputs": [
    {
     "data": {
      "text/plain": [
       "Agency\n",
       "DOT      12959\n",
       "NYPD     40009\n",
       "DHS       2786\n",
       "DOITT       43\n",
       "DPR       5499\n",
       "TLC       4656\n",
       "DCA        420\n",
       "DOE         26\n",
       "DOHMH      415\n",
       "DFTA         4\n",
       "Name: Status, dtype: int64"
      ]
     },
     "execution_count": 42,
     "metadata": {},
     "output_type": "execute_result"
    }
   ],
   "source": [
    "(df_dropped[df_dropped['City'].isnull()].groupby('Agency')['Status'].count()).compute()"
   ]
  },
  {
   "cell_type": "code",
   "execution_count": 27,
   "metadata": {},
   "outputs": [
    {
     "name": "stdout",
     "output_type": "stream",
     "text": [
      "0.751\n"
     ]
    }
   ],
   "source": [
    "city_null_dot = len(df_dropped[(df_dropped['City'].isnull()) & (df_dropped['Agency']=='NYPD')].index)\n",
    "dot_total = len(df_dropped[df_dropped['Agency']=='NYPD'].index)\n",
    "city_null_dot_perct = (city_null_dot/dot_total)*100\n",
    "print(\"%1.3f\"%city_null_dot_perct)"
   ]
  },
  {
   "cell_type": "markdown",
   "metadata": {},
   "source": [
    "0.8% only for NPYD is very small amount so City NULLs can be deleted from dataset as they dont serve our model"
   ]
  },
  {
   "cell_type": "code",
   "execution_count": 28,
   "metadata": {},
   "outputs": [],
   "source": [
    "df_dropped = df_dropped[df_dropped['City'].notnull()]"
   ]
  },
  {
   "cell_type": "code",
   "execution_count": 70,
   "metadata": {},
   "outputs": [
    {
     "data": {
      "text/plain": [
       "809888"
      ]
     },
     "execution_count": 70,
     "metadata": {},
     "output_type": "execute_result"
    }
   ],
   "source": [
    "Borough_Unspecified = df_dropped[df_dropped['Borough']=='Unspecified'][['Agency', 'City']]\n",
    "Borough_Unspecified.shape[0].compute()"
   ]
  },
  {
   "cell_type": "code",
   "execution_count": 52,
   "metadata": {},
   "outputs": [
    {
     "data": {
      "text/plain": [
       "0        STATEN ISLAND\n",
       "1                BRONX\n",
       "2               QUEENS\n",
       "6             BROOKLYN\n",
       "7            MANHATTAN\n",
       "31130      Unspecified\n",
       "Name: Borough, dtype: object"
      ]
     },
     "execution_count": 52,
     "metadata": {},
     "output_type": "execute_result"
    }
   ],
   "source": [
    "df_dropped['Borough'].drop_duplicates().compute()"
   ]
  },
  {
   "cell_type": "markdown",
   "metadata": {},
   "source": [
    "There are only 5 boroughs in NY so can we predict the unspecified boroughs based on Cities (Coz we already cleaned Cities)"
   ]
  },
  {
   "cell_type": "markdown",
   "metadata": {},
   "source": [
    "1. City\n",
    "2. Street Name\n",
    "3. Location\n"
   ]
  },
  {
   "cell_type": "code",
   "execution_count": 29,
   "metadata": {},
   "outputs": [
    {
     "name": "stderr",
     "output_type": "stream",
     "text": [
      "C:\\Users\\pavani.nrusimhadevar\\AppData\\Local\\Continuum\\anaconda3\\lib\\site-packages\\distributed\\bokeh\\core.py:57: UserWarning: \n",
      "Port 8787 is already in use. \n",
      "Perhaps you already have a cluster running?\n",
      "Hosting the diagnostics dashboard on a random port instead.\n",
      "  warnings.warn('\\n' + msg)\n"
     ]
    }
   ],
   "source": [
    "from dask.distributed import Client \n",
    "client = Client() # start a local Dask client"
   ]
  },
  {
   "cell_type": "code",
   "execution_count": 58,
   "metadata": {},
   "outputs": [
    {
     "data": {
      "text/plain": [
       "16877078"
      ]
     },
     "execution_count": 58,
     "metadata": {},
     "output_type": "execute_result"
    }
   ],
   "source": [
    "df_dropped['Street Name'].count().compute()"
   ]
  },
  {
   "cell_type": "code",
   "execution_count": 59,
   "metadata": {},
   "outputs": [
    {
     "data": {
      "text/plain": [
       "19124175"
      ]
     },
     "execution_count": 59,
     "metadata": {},
     "output_type": "execute_result"
    }
   ],
   "source": [
    "df_dropped['Location'].count().compute()"
   ]
  },
  {
   "cell_type": "code",
   "execution_count": 29,
   "metadata": {},
   "outputs": [],
   "source": [
    "df_dropped = df_dropped[df_dropped['Borough'] != 'Unspecified']"
   ]
  },
  {
   "cell_type": "markdown",
   "metadata": {},
   "source": [
    "## Analyzing COMPLAINT TYPE"
   ]
  },
  {
   "cell_type": "markdown",
   "metadata": {},
   "source": [
    "#### Complaints can be of Various Types \n",
    "\n",
    "Ex:We cannot say a Vehicle Type for a complaint replated to home"
   ]
  },
  {
   "cell_type": "markdown",
   "metadata": {},
   "source": [
    "1. Comaplaints fall under on the above 31 agencies so the type of compalint can be categorized according to agency types\n",
    "2. Each may consists of different departments and Each City has different Agencies"
   ]
  },
  {
   "cell_type": "markdown",
   "metadata": {},
   "source": [
    "This to look into ...\n",
    "\n",
    "1. My Complaint Type Can be various types\n",
    "\n",
    "2. Depending on the The type of compalint we need to evealue variables\n",
    "\n",
    "3. Need to check if deleted columns are necessary (as they might be minor)\n"
   ]
  },
  {
   "cell_type": "code",
   "execution_count": 72,
   "metadata": {},
   "outputs": [
    {
     "data": {
      "text/plain": [
       "<matplotlib.axes._subplots.AxesSubplot at 0x217d4c7b1d0>"
      ]
     },
     "execution_count": 72,
     "metadata": {},
     "output_type": "execute_result"
    },
    {
     "data": {
      "image/png": "[encoded data removed]",
      "text/plain": [
       "<Figure size 720x432 with 1 Axes>"
      ]
     },
     "metadata": {},
     "output_type": "display_data"
    }
   ],
   "source": [
    "(df_dropped['Complaint Type'].value_counts()).head(25).plot(kind='bar',figsize=(10,6), title = 'Most common Complaints')"
   ]
  },
  {
   "cell_type": "code",
   "execution_count": 30,
   "metadata": {},
   "outputs": [],
   "source": [
    "df_dropped['Year'] = (df_dropped['Created Date']).dt.year\n",
    "df_dropped['Month'] = (df_dropped['Created Date']).dt.month\n",
    "df_dropped['DayofWeek'] = (df_dropped['Created Date']).dt.dayofweek"
   ]
  },
  {
   "cell_type": "code",
   "execution_count": 64,
   "metadata": {
    "scrolled": true
   },
   "outputs": [
    {
     "data": {
      "text/plain": [
       "Unique Key                                 int64\n",
       "Created Date                      datetime64[ns]\n",
       "Closed Date                       datetime64[ns]\n",
       "Agency                                    object\n",
       "Agency Name                               object\n",
       "Complaint Type                            object\n",
       "Descriptor                                object\n",
       "Location Type                             object\n",
       "Incident Zip                             float64\n",
       "Incident Address                          object\n",
       "Street Name                               object\n",
       "Cross Street 1                            object\n",
       "Cross Street 2                            object\n",
       "Address Type                              object\n",
       "City                                      object\n",
       "Status                                    object\n",
       "Resolution Description                    object\n",
       "Resolution Action Updated Date    datetime64[ns]\n",
       "Community Board                           object\n",
       "BBL                                      float64\n",
       "Borough                                   object\n",
       "X Coordinate (State Plane)               float64\n",
       "Y Coordinate (State Plane)               float64\n",
       "Open Data Channel Type                    object\n",
       "Park Facility Name                        object\n",
       "Park Borough                              object\n",
       "Latitude                                 float64\n",
       "Longitude                                float64\n",
       "Location                                  object\n",
       "Total_Time                                 int64\n",
       "Resolution_Time                            int64\n",
       "Year                                       int64\n",
       "Month                                      int64\n",
       "DayofWeek                                  int64\n",
       "dtype: object"
      ]
     },
     "execution_count": 64,
     "metadata": {},
     "output_type": "execute_result"
    }
   ],
   "source": [
    "df_dropped.dtypes"
   ]
  },
  {
   "cell_type": "code",
   "execution_count": 65,
   "metadata": {},
   "outputs": [
    {
     "data": {
      "text/plain": [
       "0    4\n",
       "1    4\n",
       "2    4\n",
       "3    4\n",
       "4    4\n",
       "Name: Month, dtype: int64"
      ]
     },
     "execution_count": 65,
     "metadata": {},
     "output_type": "execute_result"
    }
   ],
   "source": [
    "df_dropped['Month'].head()"
   ]
  },
  {
   "cell_type": "markdown",
   "metadata": {},
   "source": [
    "## EXTRACTING DATA FOR POWER BI NALAYSIS"
   ]
  },
  {
   "cell_type": "code",
   "execution_count": 32,
   "metadata": {},
   "outputs": [
    {
     "data": {
      "text/html": [
       "<div>\n",
       "<style scoped>\n",
       "    .dataframe tbody tr th:only-of-type {\n",
       "        vertical-align: middle;\n",
       "    }\n",
       "\n",
       "    .dataframe tbody tr th {\n",
       "        vertical-align: top;\n",
       "    }\n",
       "\n",
       "    .dataframe thead th {\n",
       "        text-align: right;\n",
       "    }\n",
       "</style>\n",
       "<table border=\"1\" class=\"dataframe\">\n",
       "  <thead>\n",
       "    <tr style=\"text-align: right;\">\n",
       "      <th></th>\n",
       "      <th>Unique Key</th>\n",
       "      <th>Created Date</th>\n",
       "      <th>Complaint Type</th>\n",
       "      <th>Borough</th>\n",
       "      <th>Agency</th>\n",
       "      <th>Agency Name</th>\n",
       "      <th>City</th>\n",
       "      <th>Borough</th>\n",
       "      <th>Total_Time</th>\n",
       "      <th>Location</th>\n",
       "      <th>Latitude</th>\n",
       "      <th>Longitude</th>\n",
       "    </tr>\n",
       "  </thead>\n",
       "  <tbody>\n",
       "    <tr>\n",
       "      <th>0</th>\n",
       "      <td>27842655</td>\n",
       "      <td>2014-04-14 14:42:00</td>\n",
       "      <td>Water System</td>\n",
       "      <td>STATEN ISLAND</td>\n",
       "      <td>DEP</td>\n",
       "      <td>Department of Environmental Protection</td>\n",
       "      <td>Staten Island</td>\n",
       "      <td>STATEN ISLAND</td>\n",
       "      <td>127.0</td>\n",
       "      <td>(40.63764599489574, -74.14651579795446)</td>\n",
       "      <td>40.637646</td>\n",
       "      <td>-74.146516</td>\n",
       "    </tr>\n",
       "    <tr>\n",
       "      <th>1</th>\n",
       "      <td>27842656</td>\n",
       "      <td>2014-04-14 11:04:00</td>\n",
       "      <td>Sewer</td>\n",
       "      <td>BRONX</td>\n",
       "      <td>DEP</td>\n",
       "      <td>Department of Environmental Protection</td>\n",
       "      <td>Bronx</td>\n",
       "      <td>BRONX</td>\n",
       "      <td>382.0</td>\n",
       "      <td>(40.842789784424255, -73.88584568128475)</td>\n",
       "      <td>40.842790</td>\n",
       "      <td>-73.885846</td>\n",
       "    </tr>\n",
       "    <tr>\n",
       "      <th>2</th>\n",
       "      <td>27842659</td>\n",
       "      <td>2014-04-14 13:27:00</td>\n",
       "      <td>Sewer</td>\n",
       "      <td>QUEENS</td>\n",
       "      <td>DEP</td>\n",
       "      <td>Department of Environmental Protection</td>\n",
       "      <td>Queens Village</td>\n",
       "      <td>QUEENS</td>\n",
       "      <td>0.0</td>\n",
       "      <td>(40.722789705537885, -73.73549132976942)</td>\n",
       "      <td>40.722790</td>\n",
       "      <td>-73.735491</td>\n",
       "    </tr>\n",
       "    <tr>\n",
       "      <th>3</th>\n",
       "      <td>27842660</td>\n",
       "      <td>2014-04-14 12:51:00</td>\n",
       "      <td>Sewer</td>\n",
       "      <td>STATEN ISLAND</td>\n",
       "      <td>DEP</td>\n",
       "      <td>Department of Environmental Protection</td>\n",
       "      <td>Staten Island</td>\n",
       "      <td>STATEN ISLAND</td>\n",
       "      <td>0.0</td>\n",
       "      <td>(40.63977069540825, -74.08303207959038)</td>\n",
       "      <td>40.639771</td>\n",
       "      <td>-74.083032</td>\n",
       "    </tr>\n",
       "    <tr>\n",
       "      <th>4</th>\n",
       "      <td>27842663</td>\n",
       "      <td>2014-04-14 12:35:00</td>\n",
       "      <td>Sewer</td>\n",
       "      <td>QUEENS</td>\n",
       "      <td>DEP</td>\n",
       "      <td>Department of Environmental Protection</td>\n",
       "      <td>Jamaica</td>\n",
       "      <td>QUEENS</td>\n",
       "      <td>0.0</td>\n",
       "      <td>(40.678151620421175, -73.76200138093122)</td>\n",
       "      <td>40.678152</td>\n",
       "      <td>-73.762001</td>\n",
       "    </tr>\n",
       "  </tbody>\n",
       "</table>\n",
       "</div>"
      ],
      "text/plain": [
       "   Unique Key        Created Date Complaint Type        Borough Agency  \\\n",
       "0    27842655 2014-04-14 14:42:00   Water System  STATEN ISLAND    DEP   \n",
       "1    27842656 2014-04-14 11:04:00          Sewer          BRONX    DEP   \n",
       "2    27842659 2014-04-14 13:27:00          Sewer         QUEENS    DEP   \n",
       "3    27842660 2014-04-14 12:51:00          Sewer  STATEN ISLAND    DEP   \n",
       "4    27842663 2014-04-14 12:35:00          Sewer         QUEENS    DEP   \n",
       "\n",
       "                              Agency Name            City        Borough  \\\n",
       "0  Department of Environmental Protection   Staten Island  STATEN ISLAND   \n",
       "1  Department of Environmental Protection           Bronx          BRONX   \n",
       "2  Department of Environmental Protection  Queens Village         QUEENS   \n",
       "3  Department of Environmental Protection   Staten Island  STATEN ISLAND   \n",
       "4  Department of Environmental Protection         Jamaica         QUEENS   \n",
       "\n",
       "   Total_Time                                  Location   Latitude  Longitude  \n",
       "0       127.0   (40.63764599489574, -74.14651579795446)  40.637646 -74.146516  \n",
       "1       382.0  (40.842789784424255, -73.88584568128475)  40.842790 -73.885846  \n",
       "2         0.0  (40.722789705537885, -73.73549132976942)  40.722790 -73.735491  \n",
       "3         0.0   (40.63977069540825, -74.08303207959038)  40.639771 -74.083032  \n",
       "4         0.0  (40.678151620421175, -73.76200138093122)  40.678152 -73.762001  "
      ]
     },
     "execution_count": 32,
     "metadata": {},
     "output_type": "execute_result"
    }
   ],
   "source": [
    "analysis_complaints = df_dropped[[\"Unique Key\",\"Created Date\",\"Complaint Type\",\"Borough\",\"Agency\",\"Agency Name\",\"City\",\"Borough\",\"Total_Time\",\"Location\",\"Latitude\",\"Longitude\"]]\n",
    "analysis_complaints.head()"
   ]
  },
  {
   "cell_type": "code",
   "execution_count": 68,
   "metadata": {},
   "outputs": [],
   "source": [
    "analysis_complaints = analysis_complaints.compute()"
   ]
  },
  {
   "cell_type": "code",
   "execution_count": 69,
   "metadata": {},
   "outputs": [
    {
     "data": {
      "text/plain": [
       "(19022028, 12)"
      ]
     },
     "execution_count": 69,
     "metadata": {},
     "output_type": "execute_result"
    }
   ],
   "source": [
    "analysis_complaints.shape"
   ]
  },
  {
   "cell_type": "code",
   "execution_count": 70,
   "metadata": {},
   "outputs": [],
   "source": [
    "analysis_complaints.to_csv(\"C:\\\\EZOIC_ASSESSMENT\\\\analysis_complaints.csv\",sep='\\t')"
   ]
  },
  {
   "cell_type": "markdown",
   "metadata": {},
   "source": [
    "## SPLITTING DATA"
   ]
  },
  {
   "cell_type": "markdown",
   "metadata": {},
   "source": [
    "#### Modelling for different Boroughs  the Complaint Types"
   ]
  },
  {
   "cell_type": "code",
   "execution_count": 31,
   "metadata": {},
   "outputs": [],
   "source": [
    "df_Brooklyn = df_dropped[df_dropped['Borough'] == 'BROOKLYN']"
   ]
  },
  {
   "cell_type": "code",
   "execution_count": 73,
   "metadata": {},
   "outputs": [
    {
     "name": "stdout",
     "output_type": "stream",
     "text": [
      "rows in brooklyn 6047424\n"
     ]
    }
   ],
   "source": [
    "print(\"rows in brooklyn\",df_Brooklyn.shape[0].compute())"
   ]
  },
  {
   "cell_type": "code",
   "execution_count": 32,
   "metadata": {},
   "outputs": [],
   "source": [
    "df_Brooklyn = df_Brooklyn.compute()"
   ]
  },
  {
   "cell_type": "code",
   "execution_count": 35,
   "metadata": {},
   "outputs": [],
   "source": [
    "df_Manhattan = df_dropped[df_dropped['Borough'] == 'MANHATTAN']"
   ]
  },
  {
   "cell_type": "code",
   "execution_count": 36,
   "metadata": {},
   "outputs": [],
   "source": [
    "df_Manhattan = df_Manhattan.compute()"
   ]
  },
  {
   "cell_type": "code",
   "execution_count": 34,
   "metadata": {},
   "outputs": [],
   "source": [
    "df_Brooklyn.to_csv(\"C:\\\\EZOIC_ASSESSMENT\\\\Brooklyn.csv\",index = False)"
   ]
  },
  {
   "cell_type": "code",
   "execution_count": 37,
   "metadata": {},
   "outputs": [],
   "source": [
    "df_Manhattan.to_csv(\"C:\\\\EZOIC_ASSESSMENT\\\\Manhattan.csv\",index = False)"
   ]
  },
  {
   "cell_type": "code",
   "execution_count": 38,
   "metadata": {},
   "outputs": [],
   "source": [
    "df_Queens = df_dropped[df_dropped['Borough'] == 'QUEENS']\n",
    "df_Bronx = df_dropped[df_dropped['Borough'] == 'BRONX']\n",
    "df_StatenIsland = df_dropped[df_dropped['Borough'] == 'STATEN ISLAND']"
   ]
  },
  {
   "cell_type": "code",
   "execution_count": 39,
   "metadata": {},
   "outputs": [],
   "source": [
    "df_Queens = df_Queens.compute()\n",
    "df_Bronx = df_Bronx.compute()\n",
    "df_StatenIsland = df_StatenIsland.compute()"
   ]
  },
  {
   "cell_type": "code",
   "execution_count": 40,
   "metadata": {},
   "outputs": [],
   "source": [
    "df_Queens.to_csv(\"C:\\\\EZOIC_ASSESSMENT\\\\Queens.csv\",index = False)\n",
    "df_Bronx.to_csv(\"C:\\\\EZOIC_ASSESSMENT\\\\Bronx.csv\",index = False)\n",
    "df_StatenIsland.to_csv(\"C:\\\\EZOIC_ASSESSMENT\\\\StatenIsland.csv\",index = False)"
   ]
  }
 ],
 "metadata": {
  "kernelspec": {
   "display_name": "Python 3",
   "language": "python",
   "name": "python3"
  },
  "language_info": {
   "codemirror_mode": {
    "name": "ipython",
    "version": 3
   },
   "file_extension": ".py",
   "mimetype": "text/x-python",
   "name": "python",
   "nbconvert_exporter": "python",
   "pygments_lexer": "ipython3",
   "version": "3.7.4"
  }
 },
 "nbformat": 4,
 "nbformat_minor": 2
}
